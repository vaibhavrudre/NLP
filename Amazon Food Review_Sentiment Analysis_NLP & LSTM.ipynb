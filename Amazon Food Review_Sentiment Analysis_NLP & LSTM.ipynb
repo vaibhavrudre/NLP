{
 "cells": [
  {
   "cell_type": "code",
   "execution_count": 1,
   "id": "fb8d78b7",
   "metadata": {},
   "outputs": [],
   "source": [
    "#01-08-2023"
   ]
  },
  {
   "cell_type": "code",
   "execution_count": 1,
   "id": "009528fd",
   "metadata": {},
   "outputs": [],
   "source": [
    "import pandas as pd\n",
    "import numpy as np\n",
    "import matplotlib.pyplot as plt"
   ]
  },
  {
   "cell_type": "code",
   "execution_count": 2,
   "id": "649264a9",
   "metadata": {},
   "outputs": [],
   "source": [
    "amazon = pd.read_csv(r\"G:\\Imarticus Learning\\Python - Pranjal\\NLP\\AmazonFoodReviews.csv\")"
   ]
  },
  {
   "cell_type": "code",
   "execution_count": 3,
   "id": "d610c030",
   "metadata": {},
   "outputs": [
    {
     "data": {
      "text/html": [
       "<div>\n",
       "<style scoped>\n",
       "    .dataframe tbody tr th:only-of-type {\n",
       "        vertical-align: middle;\n",
       "    }\n",
       "\n",
       "    .dataframe tbody tr th {\n",
       "        vertical-align: top;\n",
       "    }\n",
       "\n",
       "    .dataframe thead th {\n",
       "        text-align: right;\n",
       "    }\n",
       "</style>\n",
       "<table border=\"1\" class=\"dataframe\">\n",
       "  <thead>\n",
       "    <tr style=\"text-align: right;\">\n",
       "      <th></th>\n",
       "      <th>Id</th>\n",
       "      <th>ProductId</th>\n",
       "      <th>UserId</th>\n",
       "      <th>ProfileName</th>\n",
       "      <th>HelpfulnessNumerator</th>\n",
       "      <th>HelpfulnessDenominator</th>\n",
       "      <th>Score</th>\n",
       "      <th>Time</th>\n",
       "      <th>Summary</th>\n",
       "      <th>Text</th>\n",
       "    </tr>\n",
       "  </thead>\n",
       "  <tbody>\n",
       "    <tr>\n",
       "      <th>0</th>\n",
       "      <td>1</td>\n",
       "      <td>B001E4KFG0</td>\n",
       "      <td>A3SGXH7AUHU8GW</td>\n",
       "      <td>delmartian</td>\n",
       "      <td>1</td>\n",
       "      <td>1</td>\n",
       "      <td>5</td>\n",
       "      <td>1303862400</td>\n",
       "      <td>Good Quality Dog Food</td>\n",
       "      <td>I have bought several of the Vitality canned d...</td>\n",
       "    </tr>\n",
       "    <tr>\n",
       "      <th>1</th>\n",
       "      <td>2</td>\n",
       "      <td>B00813GRG4</td>\n",
       "      <td>A1D87F6ZCVE5NK</td>\n",
       "      <td>dll pa</td>\n",
       "      <td>0</td>\n",
       "      <td>0</td>\n",
       "      <td>1</td>\n",
       "      <td>1346976000</td>\n",
       "      <td>Not as Advertised</td>\n",
       "      <td>Product arrived labeled as Jumbo Salted Peanut...</td>\n",
       "    </tr>\n",
       "    <tr>\n",
       "      <th>2</th>\n",
       "      <td>3</td>\n",
       "      <td>B000LQOCH0</td>\n",
       "      <td>ABXLMWJIXXAIN</td>\n",
       "      <td>Natalia Corres \"Natalia Corres\"</td>\n",
       "      <td>1</td>\n",
       "      <td>1</td>\n",
       "      <td>4</td>\n",
       "      <td>1219017600</td>\n",
       "      <td>\"Delight\" says it all</td>\n",
       "      <td>This is a confection that has been around a fe...</td>\n",
       "    </tr>\n",
       "    <tr>\n",
       "      <th>3</th>\n",
       "      <td>4</td>\n",
       "      <td>B000UA0QIQ</td>\n",
       "      <td>A395BORC6FGVXV</td>\n",
       "      <td>Karl</td>\n",
       "      <td>3</td>\n",
       "      <td>3</td>\n",
       "      <td>2</td>\n",
       "      <td>1307923200</td>\n",
       "      <td>Cough Medicine</td>\n",
       "      <td>If you are looking for the secret ingredient i...</td>\n",
       "    </tr>\n",
       "    <tr>\n",
       "      <th>4</th>\n",
       "      <td>5</td>\n",
       "      <td>B006K2ZZ7K</td>\n",
       "      <td>A1UQRSCLF8GW1T</td>\n",
       "      <td>Michael D. Bigham \"M. Wassir\"</td>\n",
       "      <td>0</td>\n",
       "      <td>0</td>\n",
       "      <td>5</td>\n",
       "      <td>1350777600</td>\n",
       "      <td>Great taffy</td>\n",
       "      <td>Great taffy at a great price.  There was a wid...</td>\n",
       "    </tr>\n",
       "  </tbody>\n",
       "</table>\n",
       "</div>"
      ],
      "text/plain": [
       "   Id   ProductId          UserId                      ProfileName  \\\n",
       "0   1  B001E4KFG0  A3SGXH7AUHU8GW                       delmartian   \n",
       "1   2  B00813GRG4  A1D87F6ZCVE5NK                           dll pa   \n",
       "2   3  B000LQOCH0   ABXLMWJIXXAIN  Natalia Corres \"Natalia Corres\"   \n",
       "3   4  B000UA0QIQ  A395BORC6FGVXV                             Karl   \n",
       "4   5  B006K2ZZ7K  A1UQRSCLF8GW1T    Michael D. Bigham \"M. Wassir\"   \n",
       "\n",
       "   HelpfulnessNumerator  HelpfulnessDenominator  Score        Time  \\\n",
       "0                     1                       1      5  1303862400   \n",
       "1                     0                       0      1  1346976000   \n",
       "2                     1                       1      4  1219017600   \n",
       "3                     3                       3      2  1307923200   \n",
       "4                     0                       0      5  1350777600   \n",
       "\n",
       "                 Summary                                               Text  \n",
       "0  Good Quality Dog Food  I have bought several of the Vitality canned d...  \n",
       "1      Not as Advertised  Product arrived labeled as Jumbo Salted Peanut...  \n",
       "2  \"Delight\" says it all  This is a confection that has been around a fe...  \n",
       "3         Cough Medicine  If you are looking for the secret ingredient i...  \n",
       "4            Great taffy  Great taffy at a great price.  There was a wid...  "
      ]
     },
     "execution_count": 3,
     "metadata": {},
     "output_type": "execute_result"
    }
   ],
   "source": [
    "amazon.head()"
   ]
  },
  {
   "cell_type": "code",
   "execution_count": 4,
   "id": "8383ec4c",
   "metadata": {},
   "outputs": [
    {
     "data": {
      "text/plain": [
       "(568454, 10)"
      ]
     },
     "execution_count": 4,
     "metadata": {},
     "output_type": "execute_result"
    }
   ],
   "source": [
    "amazon.shape"
   ]
  },
  {
   "cell_type": "code",
   "execution_count": 5,
   "id": "4bd0c967",
   "metadata": {},
   "outputs": [
    {
     "data": {
      "text/plain": [
       "Index(['Id', 'ProductId', 'UserId', 'ProfileName', 'HelpfulnessNumerator',\n",
       "       'HelpfulnessDenominator', 'Score', 'Time', 'Summary', 'Text'],\n",
       "      dtype='object')"
      ]
     },
     "execution_count": 5,
     "metadata": {},
     "output_type": "execute_result"
    }
   ],
   "source": [
    "amazon.columns"
   ]
  },
  {
   "cell_type": "code",
   "execution_count": 6,
   "id": "975f2fb6",
   "metadata": {},
   "outputs": [
    {
     "data": {
      "text/html": [
       "<div>\n",
       "<style scoped>\n",
       "    .dataframe tbody tr th:only-of-type {\n",
       "        vertical-align: middle;\n",
       "    }\n",
       "\n",
       "    .dataframe tbody tr th {\n",
       "        vertical-align: top;\n",
       "    }\n",
       "\n",
       "    .dataframe thead th {\n",
       "        text-align: right;\n",
       "    }\n",
       "</style>\n",
       "<table border=\"1\" class=\"dataframe\">\n",
       "  <thead>\n",
       "    <tr style=\"text-align: right;\">\n",
       "      <th></th>\n",
       "      <th>Score</th>\n",
       "      <th>Text</th>\n",
       "    </tr>\n",
       "  </thead>\n",
       "  <tbody>\n",
       "    <tr>\n",
       "      <th>0</th>\n",
       "      <td>5</td>\n",
       "      <td>I have bought several of the Vitality canned d...</td>\n",
       "    </tr>\n",
       "    <tr>\n",
       "      <th>1</th>\n",
       "      <td>1</td>\n",
       "      <td>Product arrived labeled as Jumbo Salted Peanut...</td>\n",
       "    </tr>\n",
       "    <tr>\n",
       "      <th>2</th>\n",
       "      <td>4</td>\n",
       "      <td>This is a confection that has been around a fe...</td>\n",
       "    </tr>\n",
       "    <tr>\n",
       "      <th>3</th>\n",
       "      <td>2</td>\n",
       "      <td>If you are looking for the secret ingredient i...</td>\n",
       "    </tr>\n",
       "    <tr>\n",
       "      <th>4</th>\n",
       "      <td>5</td>\n",
       "      <td>Great taffy at a great price.  There was a wid...</td>\n",
       "    </tr>\n",
       "    <tr>\n",
       "      <th>...</th>\n",
       "      <td>...</td>\n",
       "      <td>...</td>\n",
       "    </tr>\n",
       "    <tr>\n",
       "      <th>568449</th>\n",
       "      <td>5</td>\n",
       "      <td>Great for sesame chicken..this is a good if no...</td>\n",
       "    </tr>\n",
       "    <tr>\n",
       "      <th>568450</th>\n",
       "      <td>2</td>\n",
       "      <td>I'm disappointed with the flavor. The chocolat...</td>\n",
       "    </tr>\n",
       "    <tr>\n",
       "      <th>568451</th>\n",
       "      <td>5</td>\n",
       "      <td>These stars are small, so you can give 10-15 o...</td>\n",
       "    </tr>\n",
       "    <tr>\n",
       "      <th>568452</th>\n",
       "      <td>5</td>\n",
       "      <td>These are the BEST treats for training and rew...</td>\n",
       "    </tr>\n",
       "    <tr>\n",
       "      <th>568453</th>\n",
       "      <td>5</td>\n",
       "      <td>I am very satisfied ,product is as advertised,...</td>\n",
       "    </tr>\n",
       "  </tbody>\n",
       "</table>\n",
       "<p>568454 rows × 2 columns</p>\n",
       "</div>"
      ],
      "text/plain": [
       "        Score                                               Text\n",
       "0           5  I have bought several of the Vitality canned d...\n",
       "1           1  Product arrived labeled as Jumbo Salted Peanut...\n",
       "2           4  This is a confection that has been around a fe...\n",
       "3           2  If you are looking for the secret ingredient i...\n",
       "4           5  Great taffy at a great price.  There was a wid...\n",
       "...       ...                                                ...\n",
       "568449      5  Great for sesame chicken..this is a good if no...\n",
       "568450      2  I'm disappointed with the flavor. The chocolat...\n",
       "568451      5  These stars are small, so you can give 10-15 o...\n",
       "568452      5  These are the BEST treats for training and rew...\n",
       "568453      5  I am very satisfied ,product is as advertised,...\n",
       "\n",
       "[568454 rows x 2 columns]"
      ]
     },
     "execution_count": 6,
     "metadata": {},
     "output_type": "execute_result"
    }
   ],
   "source": [
    "amazon.drop(['Id', 'ProductId', 'UserId','ProfileName', 'HelpfulnessNumerator',\n",
    "       'HelpfulnessDenominator','Time','Summary'], axis = 1)"
   ]
  },
  {
   "cell_type": "code",
   "execution_count": 7,
   "id": "d599a3ce",
   "metadata": {},
   "outputs": [
    {
     "data": {
      "text/plain": [
       "5    363122\n",
       "4     80655\n",
       "1     52268\n",
       "3     42640\n",
       "2     29769\n",
       "Name: Score, dtype: int64"
      ]
     },
     "execution_count": 7,
     "metadata": {},
     "output_type": "execute_result"
    }
   ],
   "source": [
    "amazon.Score.value_counts()"
   ]
  },
  {
   "cell_type": "code",
   "execution_count": 8,
   "id": "24db4f4f",
   "metadata": {},
   "outputs": [],
   "source": [
    "amazon.replace({2:1,3:2,4:3,5:3}, inplace = True)"
   ]
  },
  {
   "cell_type": "code",
   "execution_count": 9,
   "id": "0b942fe3",
   "metadata": {},
   "outputs": [
    {
     "data": {
      "text/plain": [
       "3    443777\n",
       "1     82037\n",
       "2     42640\n",
       "Name: Score, dtype: int64"
      ]
     },
     "execution_count": 9,
     "metadata": {},
     "output_type": "execute_result"
    }
   ],
   "source": [
    "amazon.Score.value_counts()"
   ]
  },
  {
   "cell_type": "code",
   "execution_count": 10,
   "id": "9e533850",
   "metadata": {},
   "outputs": [],
   "source": [
    "amazon.Text = amazon.Text.str.lower()"
   ]
  },
  {
   "cell_type": "code",
   "execution_count": 11,
   "id": "8dc7980f",
   "metadata": {},
   "outputs": [],
   "source": [
    "from nltk.corpus import stopwords"
   ]
  },
  {
   "cell_type": "code",
   "execution_count": 12,
   "id": "76445212",
   "metadata": {},
   "outputs": [
    {
     "data": {
      "text/plain": [
       "['i',\n",
       " 'me',\n",
       " 'my',\n",
       " 'myself',\n",
       " 'we',\n",
       " 'our',\n",
       " 'ours',\n",
       " 'ourselves',\n",
       " 'you',\n",
       " \"you're\",\n",
       " \"you've\",\n",
       " \"you'll\",\n",
       " \"you'd\",\n",
       " 'your',\n",
       " 'yours',\n",
       " 'yourself',\n",
       " 'yourselves',\n",
       " 'he',\n",
       " 'him',\n",
       " 'his',\n",
       " 'himself',\n",
       " 'she',\n",
       " \"she's\",\n",
       " 'her',\n",
       " 'hers',\n",
       " 'herself',\n",
       " 'it',\n",
       " \"it's\",\n",
       " 'its',\n",
       " 'itself',\n",
       " 'they',\n",
       " 'them',\n",
       " 'their',\n",
       " 'theirs',\n",
       " 'themselves',\n",
       " 'what',\n",
       " 'which',\n",
       " 'who',\n",
       " 'whom',\n",
       " 'this',\n",
       " 'that',\n",
       " \"that'll\",\n",
       " 'these',\n",
       " 'those',\n",
       " 'am',\n",
       " 'is',\n",
       " 'are',\n",
       " 'was',\n",
       " 'were',\n",
       " 'be',\n",
       " 'been',\n",
       " 'being',\n",
       " 'have',\n",
       " 'has',\n",
       " 'had',\n",
       " 'having',\n",
       " 'do',\n",
       " 'does',\n",
       " 'did',\n",
       " 'doing',\n",
       " 'a',\n",
       " 'an',\n",
       " 'the',\n",
       " 'and',\n",
       " 'but',\n",
       " 'if',\n",
       " 'or',\n",
       " 'because',\n",
       " 'as',\n",
       " 'until',\n",
       " 'while',\n",
       " 'of',\n",
       " 'at',\n",
       " 'by',\n",
       " 'for',\n",
       " 'with',\n",
       " 'about',\n",
       " 'against',\n",
       " 'between',\n",
       " 'into',\n",
       " 'through',\n",
       " 'during',\n",
       " 'before',\n",
       " 'after',\n",
       " 'above',\n",
       " 'below',\n",
       " 'to',\n",
       " 'from',\n",
       " 'up',\n",
       " 'down',\n",
       " 'in',\n",
       " 'out',\n",
       " 'on',\n",
       " 'off',\n",
       " 'over',\n",
       " 'under',\n",
       " 'again',\n",
       " 'further',\n",
       " 'then',\n",
       " 'once',\n",
       " 'here',\n",
       " 'there',\n",
       " 'when',\n",
       " 'where',\n",
       " 'why',\n",
       " 'how',\n",
       " 'all',\n",
       " 'any',\n",
       " 'both',\n",
       " 'each',\n",
       " 'few',\n",
       " 'more',\n",
       " 'most',\n",
       " 'other',\n",
       " 'some',\n",
       " 'such',\n",
       " 'no',\n",
       " 'nor',\n",
       " 'not',\n",
       " 'only',\n",
       " 'own',\n",
       " 'same',\n",
       " 'so',\n",
       " 'than',\n",
       " 'too',\n",
       " 'very',\n",
       " 's',\n",
       " 't',\n",
       " 'can',\n",
       " 'will',\n",
       " 'just',\n",
       " 'don',\n",
       " \"don't\",\n",
       " 'should',\n",
       " \"should've\",\n",
       " 'now',\n",
       " 'd',\n",
       " 'll',\n",
       " 'm',\n",
       " 'o',\n",
       " 're',\n",
       " 've',\n",
       " 'y',\n",
       " 'ain',\n",
       " 'aren',\n",
       " \"aren't\",\n",
       " 'couldn',\n",
       " \"couldn't\",\n",
       " 'didn',\n",
       " \"didn't\",\n",
       " 'doesn',\n",
       " \"doesn't\",\n",
       " 'hadn',\n",
       " \"hadn't\",\n",
       " 'hasn',\n",
       " \"hasn't\",\n",
       " 'haven',\n",
       " \"haven't\",\n",
       " 'isn',\n",
       " \"isn't\",\n",
       " 'ma',\n",
       " 'mightn',\n",
       " \"mightn't\",\n",
       " 'mustn',\n",
       " \"mustn't\",\n",
       " 'needn',\n",
       " \"needn't\",\n",
       " 'shan',\n",
       " \"shan't\",\n",
       " 'shouldn',\n",
       " \"shouldn't\",\n",
       " 'wasn',\n",
       " \"wasn't\",\n",
       " 'weren',\n",
       " \"weren't\",\n",
       " 'won',\n",
       " \"won't\",\n",
       " 'wouldn',\n",
       " \"wouldn't\"]"
      ]
     },
     "execution_count": 12,
     "metadata": {},
     "output_type": "execute_result"
    }
   ],
   "source": [
    "stopwords.words('english')"
   ]
  },
  {
   "cell_type": "code",
   "execution_count": 13,
   "id": "bc4f701e",
   "metadata": {},
   "outputs": [],
   "source": [
    "import string"
   ]
  },
  {
   "cell_type": "code",
   "execution_count": 14,
   "id": "036b33c2",
   "metadata": {},
   "outputs": [
    {
     "data": {
      "text/plain": [
       "'!\"#$%&\\'()*+,-./:;<=>?@[\\\\]^_`{|}~'"
      ]
     },
     "execution_count": 14,
     "metadata": {},
     "output_type": "execute_result"
    }
   ],
   "source": [
    "string.punctuation"
   ]
  },
  {
   "cell_type": "code",
   "execution_count": 15,
   "id": "6b83972b",
   "metadata": {},
   "outputs": [],
   "source": [
    "stopword_list = list(stopwords.words(\"english\"))"
   ]
  },
  {
   "cell_type": "code",
   "execution_count": 16,
   "id": "e2aa4f22",
   "metadata": {},
   "outputs": [],
   "source": [
    "def text_process(mess):            ### creating a function\n",
    "    \"\"\"                                                        ## a docstring\n",
    "    1. remove the punctuation\n",
    "    2. remove the stopwords\n",
    "    3. return the list of clean textwords\n",
    "    \n",
    "    \"\"\"\n",
    "    nopunc = [char for char in mess if char not in string.punctuation]\n",
    "    nopunc = \"\".join(nopunc)\n",
    "    \n",
    "    return [ word for word in nopunc.split() if word not in stopword_list]"
   ]
  },
  {
   "cell_type": "code",
   "execution_count": 17,
   "id": "270e7cca",
   "metadata": {},
   "outputs": [],
   "source": [
    "from sklearn.feature_extraction.text import CountVectorizer\n",
    "#CountVect is used to counts for each word"
   ]
  },
  {
   "cell_type": "code",
   "execution_count": 18,
   "id": "11df7104",
   "metadata": {},
   "outputs": [],
   "source": [
    "amazon_transformer = CountVectorizer(analyzer=text_process).fit(amazon.Text)"
   ]
  },
  {
   "cell_type": "code",
   "execution_count": 19,
   "id": "95178e1f",
   "metadata": {},
   "outputs": [
    {
     "data": {
      "text/plain": [
       "{'bought': 35857,\n",
       " 'several': 191850,\n",
       " 'vitality': 229827,\n",
       " 'canned': 42395,\n",
       " 'dog': 69985,\n",
       " 'food': 87189,\n",
       " 'products': 172594,\n",
       " 'found': 88450,\n",
       " 'good': 95108,\n",
       " 'quality': 175518,\n",
       " 'product': 172343,\n",
       " 'looks': 132324,\n",
       " 'like': 130309,\n",
       " 'stew': 204098,\n",
       " 'processed': 172170,\n",
       " 'meat': 137919,\n",
       " 'smells': 196972,\n",
       " 'better': 31728,\n",
       " 'labrador': 127070,\n",
       " 'finicky': 84290,\n",
       " 'appreciates': 23175,\n",
       " 'arrived': 24124,\n",
       " 'labeled': 126924,\n",
       " 'jumbo': 123471,\n",
       " 'salted': 186534,\n",
       " 'peanutsthe': 162728,\n",
       " 'peanuts': 162695,\n",
       " 'actually': 15812,\n",
       " 'small': 196667,\n",
       " 'sized': 195465,\n",
       " 'unsalted': 225858,\n",
       " 'sure': 208961,\n",
       " 'error': 77454,\n",
       " 'vendor': 228603,\n",
       " 'intended': 119211,\n",
       " 'represent': 181173,\n",
       " 'confection': 55158,\n",
       " 'around': 24006,\n",
       " 'centuries': 45428,\n",
       " 'light': 130088,\n",
       " 'pillowy': 165773,\n",
       " 'citrus': 50548,\n",
       " 'gelatin': 92424,\n",
       " 'nuts': 152690,\n",
       " 'case': 44135,\n",
       " 'filberts': 83761,\n",
       " 'cut': 61676,\n",
       " 'tiny': 218077,\n",
       " 'squares': 202312,\n",
       " 'liberally': 129676,\n",
       " 'coated': 51763,\n",
       " 'powdered': 169667,\n",
       " 'sugar': 207255,\n",
       " 'mouthful': 144994,\n",
       " 'heaven': 102333,\n",
       " 'chewy': 47643,\n",
       " 'flavorful': 85507,\n",
       " 'highly': 103746,\n",
       " 'recommend': 178738,\n",
       " 'yummy': 239727,\n",
       " 'treat': 220936,\n",
       " 'familiar': 81406,\n",
       " 'story': 205242,\n",
       " 'cs': 60774,\n",
       " 'lewis': 129612,\n",
       " 'lion': 130944,\n",
       " 'witch': 235704,\n",
       " 'wardrobe': 231188,\n",
       " 'seduces': 190067,\n",
       " 'edmund': 74385,\n",
       " 'selling': 190670,\n",
       " 'brother': 38199,\n",
       " 'sisters': 195224,\n",
       " 'looking': 132294,\n",
       " 'secret': 189967,\n",
       " 'ingredient': 118077,\n",
       " 'robitussin': 184095,\n",
       " 'believe': 30783,\n",
       " 'got': 95755,\n",
       " 'addition': 16098,\n",
       " 'root': 184605,\n",
       " 'beer': 30340,\n",
       " 'extract': 80448,\n",
       " 'ordered': 156901,\n",
       " 'made': 134335,\n",
       " 'cherry': 47341,\n",
       " 'soda': 198299,\n",
       " 'flavor': 85328,\n",
       " 'medicinal': 138244,\n",
       " 'great': 97028,\n",
       " 'taffy': 210910,\n",
       " 'price': 171318,\n",
       " 'wide': 234885,\n",
       " 'assortment': 25033,\n",
       " 'delivery': 65083,\n",
       " 'quick': 175941,\n",
       " 'lover': 132862,\n",
       " 'deal': 63342,\n",
       " 'wild': 235039,\n",
       " 'hair': 99591,\n",
       " 'five': 84821,\n",
       " 'pound': 169507,\n",
       " 'bag': 27401,\n",
       " 'enjoyable': 76519,\n",
       " 'many': 135860,\n",
       " 'flavors': 85729,\n",
       " 'watermelon': 231877,\n",
       " 'melon': 138799,\n",
       " 'peppermint': 163550,\n",
       " 'grape': 96610,\n",
       " 'etc': 77943,\n",
       " 'complaint': 54412,\n",
       " 'bit': 32975,\n",
       " 'much': 145398,\n",
       " 'redblack': 179064,\n",
       " 'licoriceflavored': 129798,\n",
       " 'pieces': 165512,\n",
       " 'particular': 161550,\n",
       " 'favorites': 82530,\n",
       " 'kids': 125109,\n",
       " 'husband': 114907,\n",
       " 'lasted': 127822,\n",
       " 'two': 223252,\n",
       " 'weeks': 232747,\n",
       " 'would': 237003,\n",
       " 'brand': 36664,\n",
       " 'delightful': 64939,\n",
       " 'saltwater': 186706,\n",
       " 'soft': 198522,\n",
       " 'candy': 42125,\n",
       " 'individually': 117436,\n",
       " 'wrapped': 237236,\n",
       " 'well': 233080,\n",
       " 'none': 149913,\n",
       " 'candies': 42076,\n",
       " 'stuck': 206120,\n",
       " 'together': 218682,\n",
       " 'happen': 100540,\n",
       " 'expensive': 79895,\n",
       " 'version': 228910,\n",
       " 'fralingers': 88716,\n",
       " 'served': 191464,\n",
       " 'beachthemed': 29597,\n",
       " 'party': 161644,\n",
       " 'everyone': 78675,\n",
       " 'loved': 132779,\n",
       " 'amazing': 20095,\n",
       " 'definitely': 64324,\n",
       " 'buying': 40286,\n",
       " 'satisfying': 187587,\n",
       " 'right': 183366,\n",
       " 'im': 116059,\n",
       " 'mostly': 144640,\n",
       " 'sprouting': 202180,\n",
       " 'cats': 44678,\n",
       " 'eat': 73684,\n",
       " 'grass': 96723,\n",
       " 'love': 132766,\n",
       " 'rotate': 184796,\n",
       " 'wheatgrass': 234014,\n",
       " 'rye': 185664,\n",
       " 'healthy': 101895,\n",
       " 'digestion': 67568,\n",
       " 'also': 19665,\n",
       " 'puppies': 174581,\n",
       " 'eats': 73873,\n",
       " 'required': 181302,\n",
       " 'amount': 20812,\n",
       " 'every': 78602,\n",
       " 'feeding': 82855,\n",
       " 'dont': 70577,\n",
       " 'know': 125973,\n",
       " 'cactus': 40713,\n",
       " 'tequila': 214030,\n",
       " 'unique': 225311,\n",
       " 'combination': 53649,\n",
       " 'ingredients': 118114,\n",
       " 'flavour': 86001,\n",
       " 'hot': 105715,\n",
       " 'sauce': 187674,\n",
       " 'makes': 134937,\n",
       " 'one': 155410,\n",
       " 'kind': 125304,\n",
       " 'picked': 165309,\n",
       " 'bottle': 35625,\n",
       " 'trip': 221643,\n",
       " 'brought': 38249,\n",
       " 'back': 26961,\n",
       " 'home': 104746,\n",
       " 'us': 226717,\n",
       " 'totally': 219883,\n",
       " 'blown': 34253,\n",
       " 'away': 26203,\n",
       " 'realized': 177833,\n",
       " 'simply': 194811,\n",
       " 'couldnt': 58169,\n",
       " 'find': 84061,\n",
       " 'anywhere': 22500,\n",
       " 'city': 50584,\n",
       " 'bummedbr': 39250,\n",
       " 'br': 36510,\n",
       " 'magic': 134508,\n",
       " 'internet': 119432,\n",
       " 'ecstatic': 74202,\n",
       " 'itbr': 120780,\n",
       " 'saucei': 187728,\n",
       " 'mean': 137808,\n",
       " 'really': 177862,\n",
       " 'want': 231086,\n",
       " 'tastelessly': 212033,\n",
       " 'burns': 39521,\n",
       " 'throat': 217063,\n",
       " 'grab': 95977,\n",
       " 'picante': 165263,\n",
       " 'gourmet': 95863,\n",
       " 'de': 63283,\n",
       " 'inclan': 116912,\n",
       " 'realize': 177831,\n",
       " 'taste': 211791,\n",
       " 'never': 148428,\n",
       " 'use': 226816,\n",
       " 'saucebr': 187695,\n",
       " 'thank': 214694,\n",
       " 'personal': 164325,\n",
       " 'incredible': 117123,\n",
       " 'service': 191498,\n",
       " 'boys': 36460,\n",
       " 'needed': 147836,\n",
       " 'lose': 132535,\n",
       " 'weight': 232871,\n",
       " 'didnt': 67019,\n",
       " 'put': 175152,\n",
       " 'floor': 86349,\n",
       " 'chubby': 49907,\n",
       " 'guy': 99164,\n",
       " 'proteinrich': 173546,\n",
       " 'byproduct': 40480,\n",
       " 'higher': 103630,\n",
       " 'skinny': 195783,\n",
       " 'boy': 36420,\n",
       " 'jump': 123492,\n",
       " 'sits': 195292,\n",
       " 'going': 94842,\n",
       " 'stale': 202810,\n",
       " 'go': 94621,\n",
       " 'losing': 132553,\n",
       " 'ounce': 157863,\n",
       " 'week': 232683,\n",
       " 'happily': 100590,\n",
       " 'eating': 73805,\n",
       " 'felidae': 82985,\n",
       " 'platinum': 166891,\n",
       " 'years': 238372,\n",
       " 'new': 148449,\n",
       " 'shape': 192236,\n",
       " 'different': 67361,\n",
       " 'tried': 221493,\n",
       " 'first': 84514,\n",
       " 'bowls': 36083,\n",
       " 'sit': 195233,\n",
       " 'full': 90855,\n",
       " 'kitties': 125651,\n",
       " 'touch': 219946,\n",
       " 'ive': 121471,\n",
       " 'noticed': 151426,\n",
       " 'similar': 194653,\n",
       " 'reviews': 182541,\n",
       " 'related': 180321,\n",
       " 'formula': 88127,\n",
       " 'changes': 46117,\n",
       " 'past': 161774,\n",
       " 'unfortunately': 225060,\n",
       " 'need': 147823,\n",
       " 'came': 41755,\n",
       " 'securely': 190020,\n",
       " 'packed': 159997,\n",
       " 'fresh': 89383,\n",
       " 'delicious': 64722,\n",
       " 'twizzlers': 223241,\n",
       " 'strawberry': 205511,\n",
       " 'guilty': 98735,\n",
       " 'pleasure': 167106,\n",
       " 'six': 195346,\n",
       " 'pounds': 169543,\n",
       " 'son': 199251,\n",
       " 'daughter': 62812,\n",
       " 'loves': 132900,\n",
       " 'shipment': 193007,\n",
       " 'hit': 104238,\n",
       " 'spot': 201871,\n",
       " 'exactly': 79008,\n",
       " 'expectsix': 79833,\n",
       " 'packages': 159838,\n",
       " 'watching': 231653,\n",
       " 'tv': 222945,\n",
       " 'movies': 145147,\n",
       " 'sweet': 209593,\n",
       " 'transfer': 220574,\n",
       " 'zip': 240293,\n",
       " 'lock': 131814,\n",
       " 'baggie': 27507,\n",
       " 'stay': 203597,\n",
       " 'take': 211055,\n",
       " 'time': 217582,\n",
       " 'satisfied': 187553,\n",
       " 'twizzler': 223237,\n",
       " 'purchase': 174682,\n",
       " 'shared': 192315,\n",
       " 'others': 157701,\n",
       " 'enjoyed': 76538,\n",
       " 'ordering': 156951,\n",
       " 'childhood': 48125,\n",
       " 'favorite': 82473,\n",
       " 'lancaster': 127442,\n",
       " 'pennsylvania': 163301,\n",
       " 'inc': 116807,\n",
       " 'oldest': 154925,\n",
       " 'confectionery': 55167,\n",
       " 'firms': 84505,\n",
       " 'united': 225348,\n",
       " 'states': 203492,\n",
       " 'subsidiary': 206740,\n",
       " 'hershey': 103247,\n",
       " 'company': 54133,\n",
       " 'established': 77834,\n",
       " '1845': 4376,\n",
       " 'young': 239308,\n",
       " 'smylie': 197433,\n",
       " 'make': 134820,\n",
       " 'apple': 22945,\n",
       " 'licorice': 129789,\n",
       " 'twists': 223195,\n",
       " 'green': 97354,\n",
       " 'color': 53383,\n",
       " 'blue': 34294,\n",
       " 'raspberry': 177170,\n",
       " 'allbr': 18739,\n",
       " 'keep': 124402,\n",
       " 'dry': 72319,\n",
       " 'cool': 57112,\n",
       " 'place': 166426,\n",
       " 'recommended': 178763,\n",
       " 'fridge': 89680,\n",
       " 'according': 15319,\n",
       " 'guinness': 98747,\n",
       " 'book': 35211,\n",
       " 'records': 178917,\n",
       " 'longest': 132138,\n",
       " 'twist': 223172,\n",
       " 'ever': 78449,\n",
       " 'measured': 137894,\n",
       " '1200': 2067,\n",
       " 'feet': 82940,\n",
       " '370': 8646,\n",
       " 'weighted': 232892,\n",
       " '100': 899,\n",
       " '45': 9768,\n",
       " 'kg': 124861,\n",
       " 'recordbreaking': 178907,\n",
       " 'became': 30054,\n",
       " 'world': 236765,\n",
       " 'record': 178904,\n",
       " 'july': 123455,\n",
       " '19': 4558,\n",
       " '1998': 4811,\n",
       " 'kosher': 126369,\n",
       " 'delivered': 65056,\n",
       " 'fast': 81943,\n",
       " 'purchased': 174693,\n",
       " 'reasonable': 178001,\n",
       " 'bound': 35947,\n",
       " 'unable': 224067,\n",
       " 'get': 92905,\n",
       " 'store': 204944,\n",
       " 'perfect': 163832,\n",
       " 'addict': 15998,\n",
       " 'weve': 233713,\n",
       " 'times': 217761,\n",
       " 'amazon': 20175,\n",
       " 'government': 95920,\n",
       " 'employees': 75791,\n",
       " 'living': 131520,\n",
       " 'overseas': 159076,\n",
       " 'cant': 42573,\n",
       " 'country': 58316,\n",
       " 'assigned': 24979,\n",
       " 'theyve': 215873,\n",
       " 'always': 19938,\n",
       " 'tasty': 212402,\n",
       " 'arrive': 24121,\n",
       " 'timely': 217703,\n",
       " 'manner': 135669,\n",
       " 'currently': 61471,\n",
       " 'apparently': 22778,\n",
       " 'staff': 202730,\n",
       " 'likes': 130441,\n",
       " 'alsobr': 19676,\n",
       " 'generous': 92596,\n",
       " 'amounts': 20835,\n",
       " '16ounce': 3959,\n",
       " 'worth': 236941,\n",
       " 'hrefhttpwwwamazoncomgpproductb001gvisjmtwizzlers': 110725,\n",
       " 'bags': 27598,\n",
       " 'pack': 159712,\n",
       " '6a': 12175,\n",
       " 'remember': 180619,\n",
       " 'kid': 125021,\n",
       " 'hasnt': 101119,\n",
       " 'dropped': 72168,\n",
       " 'still': 204338,\n",
       " 'superb': 208217,\n",
       " 'wont': 236301,\n",
       " 'disappointed': 68279,\n",
       " 'watchers': 231640,\n",
       " 'craving': 59141,\n",
       " 'lived': 131431,\n",
       " '7': 12442,\n",
       " 'yrs': 239508,\n",
       " 'miss': 142109,\n",
       " 'visit': 229738,\n",
       " 'someone': 199055,\n",
       " 'visits': 229756,\n",
       " 'stock': 204572,\n",
       " 'say': 188178,\n",
       " 'yumbr': 239628,\n",
       " 'sell': 190602,\n",
       " 'mexico': 139790,\n",
       " 'faithful': 81193,\n",
       " 'buyer': 40257,\n",
       " 'often': 154212,\n",
       " 'able': 14758,\n",
       " 'buy': 40234,\n",
       " 'received': 178346,\n",
       " 'advertisedbr': 16620,\n",
       " 'red': 179050,\n",
       " 'plan': 166571,\n",
       " 'glad': 93837,\n",
       " 'carried': 43924,\n",
       " 'batteries': 29360,\n",
       " 'hard': 100712,\n",
       " 'finding': 84092,\n",
       " 'elsewhere': 75443,\n",
       " 'size': 195435,\n",
       " 'garage': 91836,\n",
       " 'door': 70673,\n",
       " 'openerbr': 156312,\n",
       " 'mum': 145973,\n",
       " 'diabetic': 66685,\n",
       " 'needs': 147893,\n",
       " 'watch': 231632,\n",
       " 'intake': 119140,\n",
       " 'father': 82192,\n",
       " 'chooses': 49598,\n",
       " 'limit': 130649,\n",
       " 'unnecessary': 225525,\n",
       " 'shes': 192813,\n",
       " 'tooth': 219345,\n",
       " 'toffees': 218630,\n",
       " 'guess': 98608,\n",
       " 'theyre': 215864,\n",
       " 'sugarfree': 207418,\n",
       " 'pretty': 171151,\n",
       " 'guilt': 98710,\n",
       " 'free': 89004,\n",
       " 'impressed': 116596,\n",
       " 'w': 230414,\n",
       " 'dark': 62510,\n",
       " 'chocolate': 48951,\n",
       " 'office': 154026,\n",
       " 'ill': 115956,\n",
       " 'instead': 118938,\n",
       " 'snacking': 197534,\n",
       " 'sugary': 207671,\n",
       " 'sweetsbr': 209982,\n",
       " 'excellent': 79152,\n",
       " 'huge': 114486,\n",
       " 'coffee': 52268,\n",
       " 'fan': 81512,\n",
       " 'however': 106204,\n",
       " 'mother': 144699,\n",
       " 'little': 131346,\n",
       " 'machine': 134158,\n",
       " 'talked': 211159,\n",
       " 'trying': 222209,\n",
       " 'latte': 128030,\n",
       " 'macciato': 134112,\n",
       " 'shop': 193458,\n",
       " 'usually': 227127,\n",
       " 'noncoffee': 149784,\n",
       " 'drinkerbr': 71798,\n",
       " 'dolche': 70315,\n",
       " 'guesto': 98646,\n",
       " 'super': 208202,\n",
       " 'easy': 73565,\n",
       " 'prepares': 170630,\n",
       " 'coffeelattecappuccinoetc': 52524,\n",
       " 'less': 129288,\n",
       " 'minute': 141690,\n",
       " 'water': 231670,\n",
       " 'heated': 102208,\n",
       " 'dolce': 70310,\n",
       " 'gusto': 99110,\n",
       " 'anyone': 22300,\n",
       " 'iam': 115368,\n",
       " 'getting': 92969,\n",
       " 'offer': 153944,\n",
       " 'thanks': 214712,\n",
       " 'productbr': 172388,\n",
       " 'staral': 203056,\n",
       " 'mccanns': 137456,\n",
       " 'instant': 118887,\n",
       " 'oatmeal': 153047,\n",
       " 'must': 146313,\n",
       " 'scrape': 189196,\n",
       " 'three': 216912,\n",
       " 'minutes': 141707,\n",
       " 'prepare': 170599,\n",
       " 'escaping': 77548,\n",
       " 'fact': 80964,\n",
       " 'even': 78365,\n",
       " 'best': 31487,\n",
       " 'nowhere': 151868,\n",
       " 'near': 147603,\n",
       " 'requiring': 181320,\n",
       " 'stovetop': 205292,\n",
       " 'preparation': 170587,\n",
       " 'gets': 92946,\n",
       " 'organic': 157145,\n",
       " 'allnatural': 19042,\n",
       " 'brands': 36765,\n",
       " 'varieties': 227867,\n",
       " 'variety': 227896,\n",
       " 'prepared': 170607,\n",
       " 'microwave': 140145,\n",
       " 'adding': 16079,\n",
       " 'boiling': 34772,\n",
       " 'convenient': 56469,\n",
       " 'extreme': 80613,\n",
       " 'issuebr': 120517,\n",
       " 'actual': 15804,\n",
       " 'cane': 42283,\n",
       " 'high': 103573,\n",
       " 'fructose': 90287,\n",
       " 'corn': 57459,\n",
       " 'syrup': 210488,\n",
       " 'helped': 102704,\n",
       " 'decide': 63828,\n",
       " 'real': 177773,\n",
       " 'tastes': 212130,\n",
       " 'harmful': 100950,\n",
       " 'stuff': 206171,\n",
       " 'thing': 216060,\n",
       " 'though': 216720,\n",
       " 'thickeners': 215929,\n",
       " 'oats': 153128,\n",
       " 'plus': 167315,\n",
       " 'heat': 102187,\n",
       " 'creamy': 59451,\n",
       " 'without': 235791,\n",
       " 'guar': 98519,\n",
       " 'gum': 98809,\n",
       " 'convenience': 56448,\n",
       " 'maybe': 137281,\n",
       " 'sitting': 195302,\n",
       " 'bowl': 36043,\n",
       " 'becomes': 30111,\n",
       " 'thick': 215898,\n",
       " 'gluey': 94271,\n",
       " 'uses': 226964,\n",
       " 'fructouse': 90302,\n",
       " 'sweetness': 209897,\n",
       " 'doctors': 69895,\n",
       " 'form': 88035,\n",
       " 'cold': 53019,\n",
       " 'morning': 144372,\n",
       " 'steel': 203771,\n",
       " 'cinnamon': 50272,\n",
       " 'maple': 135913,\n",
       " 'brown': 38265,\n",
       " 'regular': 179989,\n",
       " 'require': 181301,\n",
       " 'doctoring': 69885,\n",
       " 'tell': 213690,\n",
       " 'apart': 22599,\n",
       " 'become': 30108,\n",
       " 'soggy': 198700,\n",
       " 'hits': 104277,\n",
       " 'holds': 104601,\n",
       " 'texture': 214484,\n",
       " 'oat': 153010,\n",
       " 'meal': 137668,\n",
       " 'may': 137270,\n",
       " 'longer': 132096,\n",
       " 'eaten': 73716,\n",
       " 'close': 51361,\n",
       " 'second': 189898,\n",
       " 'noninstant': 150184,\n",
       " 'varietybr': 227905,\n",
       " 'irish': 120067,\n",
       " 'apples': 23019,\n",
       " '10count': 1469,\n",
       " 'boxes': 36222,\n",
       " '6': 11511,\n",
       " '6br': 12225,\n",
       " 'steelcut': 203777,\n",
       " 'thought': 216788,\n",
       " 'id': 115616,\n",
       " 'give': 93753,\n",
       " 'try': 222158,\n",
       " 'hardy': 100902,\n",
       " 'folks': 87050,\n",
       " 'postbariatric': 168989,\n",
       " 'surgery': 209048,\n",
       " 'palatable': 160460,\n",
       " 'easily': 73492,\n",
       " 'digestible': 67556,\n",
       " 'fiber': 83407,\n",
       " 'bloat': 34045,\n",
       " 'celiac': 45204,\n",
       " 'disease': 68719,\n",
       " 'lifesaver': 129987,\n",
       " 'could': 58154,\n",
       " 'almost': 19382,\n",
       " 'half': 99750,\n",
       " 'grocery': 97985,\n",
       " 'health': 101717,\n",
       " 'flavorsbr': 85752,\n",
       " 'thanksbr': 214717,\n",
       " 'abby': 14687,\n",
       " 'else': 75391,\n",
       " 'cup': 61103,\n",
       " 'lowfat': 133091,\n",
       " 'milk': 140658,\n",
       " 'add': 15920,\n",
       " 'raisinsnuke': 176731,\n",
       " '90': 13878,\n",
       " 'seconds': 189927,\n",
       " 'kroger': 126602,\n",
       " 'tastier': 212293,\n",
       " 'something': 199104,\n",
       " 'mmm': 142680,\n",
       " 'visiting': 229750,\n",
       " 'friend': 89738,\n",
       " 'nate': 147219,\n",
       " 'storage': 204921,\n",
       " 'room': 184554,\n",
       " 'packet': 160032,\n",
       " 'suggested': 207729,\n",
       " 'stash': 203424,\n",
       " 'sometimes': 199161,\n",
       " 'dose': 70837,\n",
       " 'chance': 46041,\n",
       " 'ended': 76063,\n",
       " 'cinn': 50245,\n",
       " 'tastefull': 211976,\n",
       " 'goes': 94768,\n",
       " 'oj': 154699,\n",
       " 'slice': 196178,\n",
       " 'toast': 218362,\n",
       " 'ready': 177713,\n",
       " 'worldor': 236798,\n",
       " 'day': 62929,\n",
       " 'least': 128645,\n",
       " 'jerry': 122478,\n",
       " 'reith': 180249,\n",
       " 'wife': 234966,\n",
       " 'reccomended': 178279,\n",
       " 'happy': 100610,\n",
       " 'happybr': 100622,\n",
       " 'hrefhttpwwwamazoncomgpproductb001eo5qw8mccanns': 110323,\n",
       " 'packs': 160157,\n",
       " 'greatbr': 97057,\n",
       " '030': 279,\n",
       " 'cents': 45399,\n",
       " 'per': 163718,\n",
       " 'understand': 224661,\n",
       " 'earth': 73360,\n",
       " 'isnt': 120408,\n",
       " 'upbr': 226281,\n",
       " 'terrific': 214222,\n",
       " 'followed': 87086,\n",
       " 'tired': 218173,\n",
       " 'ole': 155018,\n",
       " 'boil': 34748,\n",
       " 'pot': 169137,\n",
       " 'empty': 75835,\n",
       " '2': 5171,\n",
       " 'pour': 169585,\n",
       " 'expand': 79692,\n",
       " '2x': 7506,\n",
       " 'sizebr': 195456,\n",
       " 'takes': 211093,\n",
       " 'preparebr': 170605,\n",
       " 'extremely': 80618,\n",
       " 'cheap': 46496,\n",
       " 'connoisseur': 55458,\n",
       " 'whether': 234190,\n",
       " 'raw': 177414,\n",
       " 'pellet': 163188,\n",
       " 'state': 203445,\n",
       " 'cooks': 57076,\n",
       " 'hour': 105946,\n",
       " 'sloth': 196462,\n",
       " 'addled': 16163,\n",
       " 'done': 70512,\n",
       " 'thats': 214868,\n",
       " 'beauty': 30019,\n",
       " 'available': 25924,\n",
       " 'regularbr': 179991,\n",
       " 'allows': 19108,\n",
       " 'explored': 80203,\n",
       " 'giving': 93790,\n",
       " 'experience': 79989,\n",
       " 'difference': 67319,\n",
       " 'wellknown': 233256,\n",
       " 'oatmeals': 153093,\n",
       " 'personally': 164341,\n",
       " 'thicker': 215946,\n",
       " 'body': 34647,\n",
       " 'top': 219485,\n",
       " 'america': 20596,\n",
       " 'tends': 213944,\n",
       " 'liquidy': 131101,\n",
       " 'experiment': 80038,\n",
       " '1300watt': 2758,\n",
       " 'twentyseven': 223031,\n",
       " 'handle': 100307,\n",
       " 'usebr': 226833,\n",
       " 'bad': 27243,\n",
       " 'consider': 55588,\n",
       " 'offering': 153961,\n",
       " 'lot': 132600,\n",
       " 'youll': 239287,\n",
       " 'end': 76032,\n",
       " 'tencount': 213872,\n",
       " 'whole': 234635,\n",
       " 'family': 81423,\n",
       " 'oatmealeaters': 153062,\n",
       " 'youre': 239366,\n",
       " 'single': 194943,\n",
       " 'person': 164320,\n",
       " 'alone': 19463,\n",
       " 'save': 188021,\n",
       " '300': 7559,\n",
       " 'boxbr': 36166,\n",
       " 'choice': 49358,\n",
       " 'overly': 158844,\n",
       " 'breakfast': 37226,\n",
       " 'cook': 56635,\n",
       " 'oftenbr': 154219,\n",
       " 'convenientbr': 56472,\n",
       " 'anything': 22352,\n",
       " 'keeps': 124425,\n",
       " 'regularly': 180009,\n",
       " 'seems': 190254,\n",
       " 'wholesome': 234707,\n",
       " 'supermarket': 208439,\n",
       " 'somewhat': 199199,\n",
       " 'mushy': 146232,\n",
       " 'doesnt': 69950,\n",
       " 'quite': 176212,\n",
       " 'either': 74951,\n",
       " 'pass': 161701,\n",
       " 'muster': 146377,\n",
       " 'probably': 171936,\n",
       " 'wouldnt': 237028,\n",
       " 'follow': 87082,\n",
       " 'directions': 68089,\n",
       " 'package': 159734,\n",
       " 'since': 194856,\n",
       " 'comes': 53749,\n",
       " 'soupy': 199923,\n",
       " 'see': 190074,\n",
       " 'differce': 67313,\n",
       " 'oaker': 152990,\n",
       " 'fine': 84127,\n",
       " 'added': 15940,\n",
       " 'ok': 154710,\n",
       " 'order': 156873,\n",
       " 'big': 32233,\n",
       " 'box': 36122,\n",
       " 'stores': 205069,\n",
       " 'nothing': 151360,\n",
       " 'carbs': 43296,\n",
       " 'sugars': 207560,\n",
       " 'money': 143543,\n",
       " 'quaker': 175467,\n",
       " 'way': 232152,\n",
       " 'bloody': 34182,\n",
       " 'mary': 136673,\n",
       " 'mix': 142334,\n",
       " 'seller': 190614,\n",
       " 'advertising': 16655,\n",
       " 'workedlol': 236595,\n",
       " 'buddies': 38798,\n",
       " 'yet': 238787,\n",
       " 'burn': 39465,\n",
       " 'mouth': 144963,\n",
       " 'forever': 87891,\n",
       " 'nice': 148761,\n",
       " 'temp': 213729,\n",
       " 'wasnt': 231517,\n",
       " 'last': 127810,\n",
       " 'looked': 132272,\n",
       " 'vermont': 228830,\n",
       " 'weston': 233657,\n",
       " 'along': 19485,\n",
       " 'jaw': 122146,\n",
       " 'harp': 100987,\n",
       " 'cranberry': 58977,\n",
       " 'horseradish': 105617,\n",
       " 'fartless': 81892,\n",
       " 'black': 33355,\n",
       " 'bean': 29660,\n",
       " 'salsa': 186450,\n",
       " 'cider': 50109,\n",
       " 'jelly': 122322,\n",
       " 'newtons': 148599,\n",
       " 'cradle': 58893,\n",
       " 'art': 24212,\n",
       " 'motion': 144764,\n",
       " 'staple': 203033,\n",
       " 'syrupbr': 210499,\n",
       " 'ass': 24904,\n",
       " 'kickin': 124984,\n",
       " 'activate': 15751,\n",
       " 'perspiration': 164387,\n",
       " 'glands': 93872,\n",
       " 'behind': 30636,\n",
       " 'ears': 73341,\n",
       " 'arms': 23871,\n",
       " 'requires': 181317,\n",
       " 'beverage': 31943,\n",
       " 'advertised': 16614,\n",
       " 'glass': 93886,\n",
       " 'kleenex': 125761,\n",
       " 'nose': 151086,\n",
       " 'run': 185387,\n",
       " 'look': 132263,\n",
       " 'ordinary': 157033,\n",
       " 'already': 19587,\n",
       " 'ideas': 115664,\n",
       " 'work': 236554,\n",
       " 'suspect': 209287,\n",
       " 'people': 163373,\n",
       " 'hitting': 104289,\n",
       " 'goodies': 95251,\n",
       " 'absence': 14928,\n",
       " 'especially': 77632,\n",
       " 'colleague': 53225,\n",
       " 'greg': 97548,\n",
       " 'earliest': 73294,\n",
       " 'opportunity': 156523,\n",
       " 'contents': 56166,\n",
       " 'planters': 166664,\n",
       " 'whose': 234801,\n",
       " 'crying': 60700,\n",
       " 'running': 185436,\n",
       " 'returnbr': 182285,\n",
       " 'shaken': 192047,\n",
       " 'ensure': 76773,\n",
       " 'spices': 201121,\n",
       " 'evenly': 78404,\n",
       " 'distributed': 69529,\n",
       " 'important': 116482,\n",
       " 'wash': 231440,\n",
       " 'hands': 100376,\n",
       " 'consumption': 55920,\n",
       " 'eyesbr': 80734,\n",
       " 'asskickin': 25005,\n",
       " 'peanutsbr': 162701,\n",
       " 'ps': 173826,\n",
       " 'sharing': 192337,\n",
       " 'deliberately': 64650,\n",
       " 'christmas': 49812,\n",
       " 'hell': 102638,\n",
       " 'insulted': 119108,\n",
       " 'used': 226843,\n",
       " 'spicy': 201212,\n",
       " 'foods': 87438,\n",
       " 'south': 200057,\n",
       " 'texas': 214440,\n",
       " 'doubt': 71025,\n",
       " 'habanero': 99318,\n",
       " 'notch': 151225,\n",
       " 'roast': 183912,\n",
       " 'popcorn': 168338,\n",
       " 'popper': 168475,\n",
       " 'outside': 158296,\n",
       " 'course': 58421,\n",
       " 'beans': 29717,\n",
       " 'direct': 68072,\n",
       " 'mexican': 139771,\n",
       " 'altura': 19893,\n",
       " 'seem': 190229,\n",
       " 'wellsuited': 233427,\n",
       " 'method': 139631,\n",
       " 'cracks': 58888,\n",
       " 'distinct': 69458,\n",
       " 'roasted': 183940,\n",
       " 'medium': 138339,\n",
       " 'slightly': 196258,\n",
       " 'results': 182023,\n",
       " 'aroma': 23910,\n",
       " 'strong': 205898,\n",
       " 'persistent': 164306,\n",
       " 'smooth': 197243,\n",
       " 'velvety': 228575,\n",
       " 'lively': 131447,\n",
       " 'large': 127647,\n",
       " 'cast': 44379,\n",
       " 'iron': 120093,\n",
       " 'pan': 160694,\n",
       " 'grill': 97681,\n",
       " '13': 2749,\n",
       " 'smell': 196901,\n",
       " 'wonderful': 236152,\n",
       " 'importantly': 116490,\n",
       " 'bitter': 33124,\n",
       " 'aftertaste': 17188,\n",
       " 'numerous': 152181,\n",
       " 'occasions': 153470,\n",
       " 'send': 190995,\n",
       " 'friends': 89776,\n",
       " 'awesome': 26314,\n",
       " 'halloween': 100027,\n",
       " 'indicated': 117338,\n",
       " 'enough': 76656,\n",
       " 'satisfy': 187583,\n",
       " 'trick': 221430,\n",
       " 'treaters': 220979,\n",
       " 'local': 131725,\n",
       " 'everything': 78720,\n",
       " 'kit': 125540,\n",
       " 'kat': 124104,\n",
       " 'reeses': 179426,\n",
       " 'chocolates': 49149,\n",
       " 'plenty': 167155,\n",
       " 'shipped': 193058,\n",
       " 'promptly': 173108,\n",
       " 'neighborhood': 148029,\n",
       " 'liked': 130342,\n",
       " 'sent': 191189,\n",
       " 'daughters': 62829,\n",
       " 'class': 50793,\n",
       " 'share': 192309,\n",
       " 'prices': 171527,\n",
       " 'gold': 94881,\n",
       " 'wasbr': 231422,\n",
       " '34': 8212,\n",
       " 'target': 211577,\n",
       " 'online': 155874,\n",
       " 'cheaper': 46522,\n",
       " 'compete': 54324,\n",
       " 'days': 63061,\n",
       " 'endurolyte': 76188,\n",
       " 'pill': 165735,\n",
       " 'powder': 169634,\n",
       " 'long': 132054,\n",
       " 'desert': 65932,\n",
       " 'rides': 183256,\n",
       " 'dirt': 68138,\n",
       " 'bike': 32372,\n",
       " 'camelbak': 41762,\n",
       " 'heavily': 102388,\n",
       " 'laced': 127117,\n",
       " 'effective': 74521,\n",
       " 'cramp': 58938,\n",
       " 'hundred': 114739,\n",
       " 'mile': 140622,\n",
       " 'racing': 176451,\n",
       " 'buggy': 38979,\n",
       " 'camelbaks': 41763,\n",
       " 'fizzwhat': 84959,\n",
       " 'firstly': 84560,\n",
       " 'hammers': 100166,\n",
       " 'endurance': 76177,\n",
       " 'athletes': 25264,\n",
       " 'handly': 100344,\n",
       " 'tablets': 210781,\n",
       " 'dissovle': 69388,\n",
       " 'fizz': 84931,\n",
       " 'third': 216345,\n",
       " 'imagine': 116095,\n",
       " 'drink': 71746,\n",
       " 'starving': 203408,\n",
       " 'hydration': 115048,\n",
       " 'electrolytes': 75161,\n",
       " 'rather': 177264,\n",
       " 'salty': 186715,\n",
       " 'refreshing': 179637,\n",
       " 'lemonlime': 129102,\n",
       " 'mango': 135509,\n",
       " 'drop': 72139,\n",
       " 'tablet': 210770,\n",
       " 'bottled': 35651,\n",
       " 'whenever': 234129,\n",
       " 'exercise': 79500,\n",
       " 'flavored': 85441,\n",
       " 'chock': 48833,\n",
       " ...}"
      ]
     },
     "execution_count": 19,
     "metadata": {},
     "output_type": "execute_result"
    }
   ],
   "source": [
    "amazon_transformer.vocabulary_"
   ]
  },
  {
   "cell_type": "code",
   "execution_count": 20,
   "id": "7443b7f8",
   "metadata": {},
   "outputs": [
    {
     "data": {
      "text/plain": [
       "240626"
      ]
     },
     "execution_count": 20,
     "metadata": {},
     "output_type": "execute_result"
    }
   ],
   "source": [
    "len(amazon_transformer.vocabulary_)"
   ]
  },
  {
   "cell_type": "code",
   "execution_count": 21,
   "id": "7890b2e8",
   "metadata": {},
   "outputs": [],
   "source": [
    "tdm = amazon_transformer.transform(amazon.Text)"
   ]
  },
  {
   "cell_type": "code",
   "execution_count": 22,
   "id": "76872b2e",
   "metadata": {},
   "outputs": [
    {
     "data": {
      "text/plain": [
       "(568454, 240626)"
      ]
     },
     "execution_count": 22,
     "metadata": {},
     "output_type": "execute_result"
    }
   ],
   "source": [
    "tdm.shape"
   ]
  },
  {
   "cell_type": "code",
   "execution_count": 23,
   "id": "ce009c25",
   "metadata": {},
   "outputs": [
    {
     "data": {
      "text/plain": [
       "scipy.sparse._csr.csr_matrix"
      ]
     },
     "execution_count": 23,
     "metadata": {},
     "output_type": "execute_result"
    }
   ],
   "source": [
    "type(tdm)"
   ]
  },
  {
   "cell_type": "code",
   "execution_count": 24,
   "id": "9c0254c3",
   "metadata": {},
   "outputs": [],
   "source": [
    "#Sampling"
   ]
  },
  {
   "cell_type": "code",
   "execution_count": 25,
   "id": "971d7b80",
   "metadata": {},
   "outputs": [],
   "source": [
    "from sklearn.model_selection import train_test_split\n",
    "\n",
    "x_train, x_test, y_train, y_test = train_test_split(tdm, amazon.Score, test_size=.2)"
   ]
  },
  {
   "cell_type": "code",
   "execution_count": 26,
   "id": "77625b00",
   "metadata": {},
   "outputs": [
    {
     "data": {
      "text/plain": [
       "(454763, 240626)"
      ]
     },
     "execution_count": 26,
     "metadata": {},
     "output_type": "execute_result"
    }
   ],
   "source": [
    "x_train.shape"
   ]
  },
  {
   "cell_type": "code",
   "execution_count": 27,
   "id": "d2b0626d",
   "metadata": {},
   "outputs": [
    {
     "data": {
      "text/plain": [
       "(454763,)"
      ]
     },
     "execution_count": 27,
     "metadata": {},
     "output_type": "execute_result"
    }
   ],
   "source": [
    "y_train.shape"
   ]
  },
  {
   "cell_type": "code",
   "execution_count": null,
   "id": "b3226792",
   "metadata": {},
   "outputs": [],
   "source": [
    "#Model Building"
   ]
  },
  {
   "cell_type": "code",
   "execution_count": 29,
   "id": "41f15327",
   "metadata": {},
   "outputs": [],
   "source": [
    "from sklearn.naive_bayes import MultinomialNB\n",
    "\n",
    "nb = MultinomialNB()"
   ]
  },
  {
   "cell_type": "code",
   "execution_count": 30,
   "id": "509b91d7",
   "metadata": {},
   "outputs": [
    {
     "data": {
      "text/plain": [
       "MultinomialNB()"
      ]
     },
     "execution_count": 30,
     "metadata": {},
     "output_type": "execute_result"
    }
   ],
   "source": [
    "nb.fit(x_train, y_train)"
   ]
  },
  {
   "cell_type": "code",
   "execution_count": 31,
   "id": "b7fe1df7",
   "metadata": {},
   "outputs": [],
   "source": [
    "pred = nb.predict(x_test)"
   ]
  },
  {
   "cell_type": "code",
   "execution_count": 32,
   "id": "bdd0f0de",
   "metadata": {},
   "outputs": [],
   "source": [
    "from sklearn.metrics import confusion_matrix, accuracy_score"
   ]
  },
  {
   "cell_type": "code",
   "execution_count": 33,
   "id": "08c77be4",
   "metadata": {},
   "outputs": [
    {
     "data": {
      "text/plain": [
       "array([[10662,   985,  4622],\n",
       "       [ 1674,  2234,  4657],\n",
       "       [ 3256,  2049, 83552]], dtype=int64)"
      ]
     },
     "execution_count": 33,
     "metadata": {},
     "output_type": "execute_result"
    }
   ],
   "source": [
    "confusion_matrix(y_test, pred)"
   ]
  },
  {
   "cell_type": "code",
   "execution_count": 55,
   "id": "5d73133b",
   "metadata": {},
   "outputs": [],
   "source": [
    "tab = confusion_matrix(y_test, pred)"
   ]
  },
  {
   "cell_type": "code",
   "execution_count": 34,
   "id": "9b5a5f2c",
   "metadata": {},
   "outputs": [
    {
     "data": {
      "text/plain": [
       "0.8483345207624174"
      ]
     },
     "execution_count": 34,
     "metadata": {},
     "output_type": "execute_result"
    }
   ],
   "source": [
    "accuracy_score(y_test, pred)"
   ]
  },
  {
   "cell_type": "code",
   "execution_count": null,
   "id": "71e2715a",
   "metadata": {},
   "outputs": [],
   "source": [
    "#Decision Tree"
   ]
  },
  {
   "cell_type": "code",
   "execution_count": 35,
   "id": "4e17f590",
   "metadata": {},
   "outputs": [],
   "source": [
    "from sklearn.tree import DecisionTreeClassifier\n",
    "\n",
    "dt = DecisionTreeClassifier()"
   ]
  },
  {
   "cell_type": "code",
   "execution_count": 37,
   "id": "83196244",
   "metadata": {},
   "outputs": [
    {
     "data": {
      "text/plain": [
       "DecisionTreeClassifier()"
      ]
     },
     "execution_count": 37,
     "metadata": {},
     "output_type": "execute_result"
    }
   ],
   "source": [
    "dt.fit(x_train, y_train)"
   ]
  },
  {
   "cell_type": "code",
   "execution_count": 38,
   "id": "679fe475",
   "metadata": {},
   "outputs": [],
   "source": [
    "pred_dt = dt.predict(x_test)"
   ]
  },
  {
   "cell_type": "code",
   "execution_count": 40,
   "id": "0cf02cce",
   "metadata": {},
   "outputs": [
    {
     "data": {
      "text/plain": [
       "array([[10748,   939,  4582],\n",
       "       [ 1159,  4079,  3327],\n",
       "       [ 3754,  2256, 82847]], dtype=int64)"
      ]
     },
     "execution_count": 40,
     "metadata": {},
     "output_type": "execute_result"
    }
   ],
   "source": [
    "confusion_matrix(y_test, pred_dt)"
   ]
  },
  {
   "cell_type": "code",
   "execution_count": 41,
   "id": "c46bab75",
   "metadata": {},
   "outputs": [
    {
     "data": {
      "text/plain": [
       "0.8591181360002111"
      ]
     },
     "execution_count": 41,
     "metadata": {},
     "output_type": "execute_result"
    }
   ],
   "source": [
    "accuracy_score(y_test, pred_dt)"
   ]
  },
  {
   "cell_type": "code",
   "execution_count": 42,
   "id": "47be8225",
   "metadata": {},
   "outputs": [],
   "source": [
    "#Random Forest"
   ]
  },
  {
   "cell_type": "code",
   "execution_count": 43,
   "id": "b6c4c958",
   "metadata": {},
   "outputs": [],
   "source": [
    "from sklearn.ensemble import RandomForestClassifier\n",
    "rfc = RandomForestClassifier()"
   ]
  },
  {
   "cell_type": "code",
   "execution_count": 44,
   "id": "f6bab50d",
   "metadata": {},
   "outputs": [
    {
     "data": {
      "text/plain": [
       "RandomForestClassifier()"
      ]
     },
     "execution_count": 44,
     "metadata": {},
     "output_type": "execute_result"
    }
   ],
   "source": [
    "rfc.fit(x_train, y_train)"
   ]
  },
  {
   "cell_type": "code",
   "execution_count": 45,
   "id": "eab9df10",
   "metadata": {},
   "outputs": [],
   "source": [
    "pred_rfc = rfc.predict(x_test)"
   ]
  },
  {
   "cell_type": "code",
   "execution_count": 110,
   "id": "f4b342d4",
   "metadata": {},
   "outputs": [
    {
     "data": {
      "text/plain": [
       "array([[ 8439,    10,  8033],\n",
       "       [  154,  3313,  5002],\n",
       "       [   70,    11, 88659]], dtype=int64)"
      ]
     },
     "execution_count": 110,
     "metadata": {},
     "output_type": "execute_result"
    }
   ],
   "source": [
    "confusion_matrix(y_test, pred_rfc)"
   ]
  },
  {
   "cell_type": "code",
   "execution_count": 111,
   "id": "8a499e2e",
   "metadata": {},
   "outputs": [
    {
     "data": {
      "text/plain": [
       "88.31921612088908"
      ]
     },
     "execution_count": 111,
     "metadata": {},
     "output_type": "execute_result"
    }
   ],
   "source": [
    "accuracy_score(y_test, pred_rfc)*100"
   ]
  },
  {
   "cell_type": "code",
   "execution_count": 48,
   "id": "00c6c567",
   "metadata": {},
   "outputs": [],
   "source": [
    "#Logistic Regression"
   ]
  },
  {
   "cell_type": "code",
   "execution_count": 49,
   "id": "11745001",
   "metadata": {},
   "outputs": [],
   "source": [
    "from sklearn.linear_model import LogisticRegression\n",
    "log = LogisticRegression()"
   ]
  },
  {
   "cell_type": "code",
   "execution_count": 50,
   "id": "d213c6a0",
   "metadata": {},
   "outputs": [
    {
     "name": "stderr",
     "output_type": "stream",
     "text": [
      "C:\\Users\\DELL\\anaconda3\\lib\\site-packages\\sklearn\\linear_model\\_logistic.py:814: ConvergenceWarning: lbfgs failed to converge (status=1):\n",
      "STOP: TOTAL NO. of ITERATIONS REACHED LIMIT.\n",
      "\n",
      "Increase the number of iterations (max_iter) or scale the data as shown in:\n",
      "    https://scikit-learn.org/stable/modules/preprocessing.html\n",
      "Please also refer to the documentation for alternative solver options:\n",
      "    https://scikit-learn.org/stable/modules/linear_model.html#logistic-regression\n",
      "  n_iter_i = _check_optimize_result(\n"
     ]
    },
    {
     "data": {
      "text/plain": [
       "LogisticRegression()"
      ]
     },
     "execution_count": 50,
     "metadata": {},
     "output_type": "execute_result"
    }
   ],
   "source": [
    "log.fit(x_train, y_train)"
   ]
  },
  {
   "cell_type": "code",
   "execution_count": 51,
   "id": "9dd26f22",
   "metadata": {},
   "outputs": [],
   "source": [
    "pred_log = log.predict(x_test)"
   ]
  },
  {
   "cell_type": "code",
   "execution_count": 52,
   "id": "8641e2b4",
   "metadata": {},
   "outputs": [
    {
     "data": {
      "text/plain": [
       "array([[11703,   855,  3711],\n",
       "       [ 1646,  2756,  4163],\n",
       "       [ 1988,  1323, 85546]], dtype=int64)"
      ]
     },
     "execution_count": 52,
     "metadata": {},
     "output_type": "execute_result"
    }
   ],
   "source": [
    "confusion_matrix(y_test, pred_log)"
   ]
  },
  {
   "cell_type": "code",
   "execution_count": 53,
   "id": "571307c0",
   "metadata": {},
   "outputs": [
    {
     "data": {
      "text/plain": [
       "0.8796210781856083"
      ]
     },
     "execution_count": 53,
     "metadata": {},
     "output_type": "execute_result"
    }
   ],
   "source": [
    "accuracy_score(y_test, pred_log)"
   ]
  },
  {
   "cell_type": "code",
   "execution_count": 56,
   "id": "070684af",
   "metadata": {},
   "outputs": [
    {
     "data": {
      "text/html": [
       "<div>\n",
       "<style scoped>\n",
       "    .dataframe tbody tr th:only-of-type {\n",
       "        vertical-align: middle;\n",
       "    }\n",
       "\n",
       "    .dataframe tbody tr th {\n",
       "        vertical-align: top;\n",
       "    }\n",
       "\n",
       "    .dataframe thead th {\n",
       "        text-align: right;\n",
       "    }\n",
       "</style>\n",
       "<table border=\"1\" class=\"dataframe\">\n",
       "  <thead>\n",
       "    <tr style=\"text-align: right;\">\n",
       "      <th></th>\n",
       "      <th>Bad</th>\n",
       "      <th>Avg</th>\n",
       "      <th>Best</th>\n",
       "    </tr>\n",
       "  </thead>\n",
       "  <tbody>\n",
       "    <tr>\n",
       "      <th>Bad</th>\n",
       "      <td>10662</td>\n",
       "      <td>985</td>\n",
       "      <td>4622</td>\n",
       "    </tr>\n",
       "    <tr>\n",
       "      <th>Avg</th>\n",
       "      <td>1674</td>\n",
       "      <td>2234</td>\n",
       "      <td>4657</td>\n",
       "    </tr>\n",
       "    <tr>\n",
       "      <th>Best</th>\n",
       "      <td>3256</td>\n",
       "      <td>2049</td>\n",
       "      <td>83552</td>\n",
       "    </tr>\n",
       "  </tbody>\n",
       "</table>\n",
       "</div>"
      ],
      "text/plain": [
       "        Bad   Avg   Best\n",
       "Bad   10662   985   4622\n",
       "Avg    1674  2234   4657\n",
       "Best   3256  2049  83552"
      ]
     },
     "execution_count": 56,
     "metadata": {},
     "output_type": "execute_result"
    }
   ],
   "source": [
    "tab = pd.DataFrame(tab)\n",
    "tab.columns = ['Bad', 'Avg', 'Best']\n",
    "tab.index = ['Bad', 'Avg', 'Best']\n",
    "tab"
   ]
  },
  {
   "cell_type": "code",
   "execution_count": null,
   "id": "52c111fc",
   "metadata": {},
   "outputs": [],
   "source": [
    "#SVM"
   ]
  },
  {
   "cell_type": "code",
   "execution_count": 29,
   "id": "85c3dcd5",
   "metadata": {},
   "outputs": [],
   "source": [
    "from sklearn.svm import SVC\n",
    "\n",
    "svm = SVC()"
   ]
  },
  {
   "cell_type": "code",
   "execution_count": null,
   "id": "79444fd0",
   "metadata": {},
   "outputs": [],
   "source": [
    "svm.fit(x_train, y_train)"
   ]
  },
  {
   "cell_type": "code",
   "execution_count": null,
   "id": "31b94d2b",
   "metadata": {},
   "outputs": [],
   "source": []
  },
  {
   "cell_type": "code",
   "execution_count": null,
   "id": "78c2506b",
   "metadata": {},
   "outputs": [],
   "source": []
  },
  {
   "cell_type": "code",
   "execution_count": null,
   "id": "2605e4b6",
   "metadata": {},
   "outputs": [],
   "source": []
  },
  {
   "cell_type": "code",
   "execution_count": null,
   "id": "9f0d6f87",
   "metadata": {},
   "outputs": [],
   "source": []
  },
  {
   "cell_type": "code",
   "execution_count": null,
   "id": "aa6f72a1",
   "metadata": {},
   "outputs": [],
   "source": []
  },
  {
   "cell_type": "code",
   "execution_count": null,
   "id": "22213e0a",
   "metadata": {},
   "outputs": [],
   "source": [
    "#Lets try same dataset with 'Summary'"
   ]
  },
  {
   "cell_type": "code",
   "execution_count": 57,
   "id": "a50e8cde",
   "metadata": {},
   "outputs": [],
   "source": [
    "amz = pd.read_csv(r\"G:\\Imarticus Learning\\Python - Pranjal\\NLP\\AmazonFoodReviews.csv\")"
   ]
  },
  {
   "cell_type": "code",
   "execution_count": 58,
   "id": "1393c5ea",
   "metadata": {},
   "outputs": [
    {
     "data": {
      "text/html": [
       "<div>\n",
       "<style scoped>\n",
       "    .dataframe tbody tr th:only-of-type {\n",
       "        vertical-align: middle;\n",
       "    }\n",
       "\n",
       "    .dataframe tbody tr th {\n",
       "        vertical-align: top;\n",
       "    }\n",
       "\n",
       "    .dataframe thead th {\n",
       "        text-align: right;\n",
       "    }\n",
       "</style>\n",
       "<table border=\"1\" class=\"dataframe\">\n",
       "  <thead>\n",
       "    <tr style=\"text-align: right;\">\n",
       "      <th></th>\n",
       "      <th>Id</th>\n",
       "      <th>ProductId</th>\n",
       "      <th>UserId</th>\n",
       "      <th>ProfileName</th>\n",
       "      <th>HelpfulnessNumerator</th>\n",
       "      <th>HelpfulnessDenominator</th>\n",
       "      <th>Score</th>\n",
       "      <th>Time</th>\n",
       "      <th>Summary</th>\n",
       "      <th>Text</th>\n",
       "    </tr>\n",
       "  </thead>\n",
       "  <tbody>\n",
       "    <tr>\n",
       "      <th>0</th>\n",
       "      <td>1</td>\n",
       "      <td>B001E4KFG0</td>\n",
       "      <td>A3SGXH7AUHU8GW</td>\n",
       "      <td>delmartian</td>\n",
       "      <td>1</td>\n",
       "      <td>1</td>\n",
       "      <td>5</td>\n",
       "      <td>1303862400</td>\n",
       "      <td>Good Quality Dog Food</td>\n",
       "      <td>I have bought several of the Vitality canned d...</td>\n",
       "    </tr>\n",
       "    <tr>\n",
       "      <th>1</th>\n",
       "      <td>2</td>\n",
       "      <td>B00813GRG4</td>\n",
       "      <td>A1D87F6ZCVE5NK</td>\n",
       "      <td>dll pa</td>\n",
       "      <td>0</td>\n",
       "      <td>0</td>\n",
       "      <td>1</td>\n",
       "      <td>1346976000</td>\n",
       "      <td>Not as Advertised</td>\n",
       "      <td>Product arrived labeled as Jumbo Salted Peanut...</td>\n",
       "    </tr>\n",
       "    <tr>\n",
       "      <th>2</th>\n",
       "      <td>3</td>\n",
       "      <td>B000LQOCH0</td>\n",
       "      <td>ABXLMWJIXXAIN</td>\n",
       "      <td>Natalia Corres \"Natalia Corres\"</td>\n",
       "      <td>1</td>\n",
       "      <td>1</td>\n",
       "      <td>4</td>\n",
       "      <td>1219017600</td>\n",
       "      <td>\"Delight\" says it all</td>\n",
       "      <td>This is a confection that has been around a fe...</td>\n",
       "    </tr>\n",
       "    <tr>\n",
       "      <th>3</th>\n",
       "      <td>4</td>\n",
       "      <td>B000UA0QIQ</td>\n",
       "      <td>A395BORC6FGVXV</td>\n",
       "      <td>Karl</td>\n",
       "      <td>3</td>\n",
       "      <td>3</td>\n",
       "      <td>2</td>\n",
       "      <td>1307923200</td>\n",
       "      <td>Cough Medicine</td>\n",
       "      <td>If you are looking for the secret ingredient i...</td>\n",
       "    </tr>\n",
       "    <tr>\n",
       "      <th>4</th>\n",
       "      <td>5</td>\n",
       "      <td>B006K2ZZ7K</td>\n",
       "      <td>A1UQRSCLF8GW1T</td>\n",
       "      <td>Michael D. Bigham \"M. Wassir\"</td>\n",
       "      <td>0</td>\n",
       "      <td>0</td>\n",
       "      <td>5</td>\n",
       "      <td>1350777600</td>\n",
       "      <td>Great taffy</td>\n",
       "      <td>Great taffy at a great price.  There was a wid...</td>\n",
       "    </tr>\n",
       "  </tbody>\n",
       "</table>\n",
       "</div>"
      ],
      "text/plain": [
       "   Id   ProductId          UserId                      ProfileName  \\\n",
       "0   1  B001E4KFG0  A3SGXH7AUHU8GW                       delmartian   \n",
       "1   2  B00813GRG4  A1D87F6ZCVE5NK                           dll pa   \n",
       "2   3  B000LQOCH0   ABXLMWJIXXAIN  Natalia Corres \"Natalia Corres\"   \n",
       "3   4  B000UA0QIQ  A395BORC6FGVXV                             Karl   \n",
       "4   5  B006K2ZZ7K  A1UQRSCLF8GW1T    Michael D. Bigham \"M. Wassir\"   \n",
       "\n",
       "   HelpfulnessNumerator  HelpfulnessDenominator  Score        Time  \\\n",
       "0                     1                       1      5  1303862400   \n",
       "1                     0                       0      1  1346976000   \n",
       "2                     1                       1      4  1219017600   \n",
       "3                     3                       3      2  1307923200   \n",
       "4                     0                       0      5  1350777600   \n",
       "\n",
       "                 Summary                                               Text  \n",
       "0  Good Quality Dog Food  I have bought several of the Vitality canned d...  \n",
       "1      Not as Advertised  Product arrived labeled as Jumbo Salted Peanut...  \n",
       "2  \"Delight\" says it all  This is a confection that has been around a fe...  \n",
       "3         Cough Medicine  If you are looking for the secret ingredient i...  \n",
       "4            Great taffy  Great taffy at a great price.  There was a wid...  "
      ]
     },
     "execution_count": 58,
     "metadata": {},
     "output_type": "execute_result"
    }
   ],
   "source": [
    "amz.head()"
   ]
  },
  {
   "cell_type": "code",
   "execution_count": 59,
   "id": "105c9a3b",
   "metadata": {},
   "outputs": [
    {
     "data": {
      "text/plain": [
       "Index(['Id', 'ProductId', 'UserId', 'ProfileName', 'HelpfulnessNumerator',\n",
       "       'HelpfulnessDenominator', 'Score', 'Time', 'Summary', 'Text'],\n",
       "      dtype='object')"
      ]
     },
     "execution_count": 59,
     "metadata": {},
     "output_type": "execute_result"
    }
   ],
   "source": [
    "amz.columns"
   ]
  },
  {
   "cell_type": "code",
   "execution_count": 60,
   "id": "c366eacc",
   "metadata": {},
   "outputs": [
    {
     "data": {
      "text/html": [
       "<div>\n",
       "<style scoped>\n",
       "    .dataframe tbody tr th:only-of-type {\n",
       "        vertical-align: middle;\n",
       "    }\n",
       "\n",
       "    .dataframe tbody tr th {\n",
       "        vertical-align: top;\n",
       "    }\n",
       "\n",
       "    .dataframe thead th {\n",
       "        text-align: right;\n",
       "    }\n",
       "</style>\n",
       "<table border=\"1\" class=\"dataframe\">\n",
       "  <thead>\n",
       "    <tr style=\"text-align: right;\">\n",
       "      <th></th>\n",
       "      <th>Score</th>\n",
       "      <th>Summary</th>\n",
       "    </tr>\n",
       "  </thead>\n",
       "  <tbody>\n",
       "    <tr>\n",
       "      <th>0</th>\n",
       "      <td>3</td>\n",
       "      <td>Good Quality Dog Food</td>\n",
       "    </tr>\n",
       "    <tr>\n",
       "      <th>1</th>\n",
       "      <td>1</td>\n",
       "      <td>Not as Advertised</td>\n",
       "    </tr>\n",
       "    <tr>\n",
       "      <th>2</th>\n",
       "      <td>3</td>\n",
       "      <td>\"Delight\" says it all</td>\n",
       "    </tr>\n",
       "    <tr>\n",
       "      <th>3</th>\n",
       "      <td>1</td>\n",
       "      <td>Cough Medicine</td>\n",
       "    </tr>\n",
       "    <tr>\n",
       "      <th>4</th>\n",
       "      <td>3</td>\n",
       "      <td>Great taffy</td>\n",
       "    </tr>\n",
       "    <tr>\n",
       "      <th>...</th>\n",
       "      <td>...</td>\n",
       "      <td>...</td>\n",
       "    </tr>\n",
       "    <tr>\n",
       "      <th>568449</th>\n",
       "      <td>3</td>\n",
       "      <td>Will not do without</td>\n",
       "    </tr>\n",
       "    <tr>\n",
       "      <th>568450</th>\n",
       "      <td>1</td>\n",
       "      <td>disappointed</td>\n",
       "    </tr>\n",
       "    <tr>\n",
       "      <th>568451</th>\n",
       "      <td>3</td>\n",
       "      <td>Perfect for our maltipoo</td>\n",
       "    </tr>\n",
       "    <tr>\n",
       "      <th>568452</th>\n",
       "      <td>3</td>\n",
       "      <td>Favorite Training and reward treat</td>\n",
       "    </tr>\n",
       "    <tr>\n",
       "      <th>568453</th>\n",
       "      <td>3</td>\n",
       "      <td>Great Honey</td>\n",
       "    </tr>\n",
       "  </tbody>\n",
       "</table>\n",
       "<p>568454 rows × 2 columns</p>\n",
       "</div>"
      ],
      "text/plain": [
       "        Score                             Summary\n",
       "0           3               Good Quality Dog Food\n",
       "1           1                   Not as Advertised\n",
       "2           3               \"Delight\" says it all\n",
       "3           1                      Cough Medicine\n",
       "4           3                         Great taffy\n",
       "...       ...                                 ...\n",
       "568449      3                 Will not do without\n",
       "568450      1                        disappointed\n",
       "568451      3            Perfect for our maltipoo\n",
       "568452      3  Favorite Training and reward treat\n",
       "568453      3                         Great Honey\n",
       "\n",
       "[568454 rows x 2 columns]"
      ]
     },
     "execution_count": 60,
     "metadata": {},
     "output_type": "execute_result"
    }
   ],
   "source": [
    "amazon.drop(['Id', 'ProductId', 'UserId','ProfileName', 'HelpfulnessNumerator',\n",
    "       'HelpfulnessDenominator','Time','Text'], axis = 1)"
   ]
  },
  {
   "cell_type": "code",
   "execution_count": 61,
   "id": "3c8d4d1f",
   "metadata": {},
   "outputs": [],
   "source": [
    "amz.replace({2:1,3:2,4:3,5:3}, inplace = True)"
   ]
  },
  {
   "cell_type": "code",
   "execution_count": 62,
   "id": "4c0edce7",
   "metadata": {},
   "outputs": [
    {
     "data": {
      "text/plain": [
       "3    443777\n",
       "1     82037\n",
       "2     42640\n",
       "Name: Score, dtype: int64"
      ]
     },
     "execution_count": 62,
     "metadata": {},
     "output_type": "execute_result"
    }
   ],
   "source": [
    "amz.Score.value_counts()"
   ]
  },
  {
   "cell_type": "code",
   "execution_count": 63,
   "id": "35bb1b5d",
   "metadata": {},
   "outputs": [],
   "source": [
    "amz.Text = amz.Text.str.lower()"
   ]
  },
  {
   "cell_type": "code",
   "execution_count": 64,
   "id": "1af455ca",
   "metadata": {},
   "outputs": [],
   "source": [
    "from nltk.corpus import stopwords"
   ]
  },
  {
   "cell_type": "code",
   "execution_count": 65,
   "id": "a11f4cb1",
   "metadata": {},
   "outputs": [
    {
     "data": {
      "text/plain": [
       "['i',\n",
       " 'me',\n",
       " 'my',\n",
       " 'myself',\n",
       " 'we',\n",
       " 'our',\n",
       " 'ours',\n",
       " 'ourselves',\n",
       " 'you',\n",
       " \"you're\",\n",
       " \"you've\",\n",
       " \"you'll\",\n",
       " \"you'd\",\n",
       " 'your',\n",
       " 'yours',\n",
       " 'yourself',\n",
       " 'yourselves',\n",
       " 'he',\n",
       " 'him',\n",
       " 'his',\n",
       " 'himself',\n",
       " 'she',\n",
       " \"she's\",\n",
       " 'her',\n",
       " 'hers',\n",
       " 'herself',\n",
       " 'it',\n",
       " \"it's\",\n",
       " 'its',\n",
       " 'itself',\n",
       " 'they',\n",
       " 'them',\n",
       " 'their',\n",
       " 'theirs',\n",
       " 'themselves',\n",
       " 'what',\n",
       " 'which',\n",
       " 'who',\n",
       " 'whom',\n",
       " 'this',\n",
       " 'that',\n",
       " \"that'll\",\n",
       " 'these',\n",
       " 'those',\n",
       " 'am',\n",
       " 'is',\n",
       " 'are',\n",
       " 'was',\n",
       " 'were',\n",
       " 'be',\n",
       " 'been',\n",
       " 'being',\n",
       " 'have',\n",
       " 'has',\n",
       " 'had',\n",
       " 'having',\n",
       " 'do',\n",
       " 'does',\n",
       " 'did',\n",
       " 'doing',\n",
       " 'a',\n",
       " 'an',\n",
       " 'the',\n",
       " 'and',\n",
       " 'but',\n",
       " 'if',\n",
       " 'or',\n",
       " 'because',\n",
       " 'as',\n",
       " 'until',\n",
       " 'while',\n",
       " 'of',\n",
       " 'at',\n",
       " 'by',\n",
       " 'for',\n",
       " 'with',\n",
       " 'about',\n",
       " 'against',\n",
       " 'between',\n",
       " 'into',\n",
       " 'through',\n",
       " 'during',\n",
       " 'before',\n",
       " 'after',\n",
       " 'above',\n",
       " 'below',\n",
       " 'to',\n",
       " 'from',\n",
       " 'up',\n",
       " 'down',\n",
       " 'in',\n",
       " 'out',\n",
       " 'on',\n",
       " 'off',\n",
       " 'over',\n",
       " 'under',\n",
       " 'again',\n",
       " 'further',\n",
       " 'then',\n",
       " 'once',\n",
       " 'here',\n",
       " 'there',\n",
       " 'when',\n",
       " 'where',\n",
       " 'why',\n",
       " 'how',\n",
       " 'all',\n",
       " 'any',\n",
       " 'both',\n",
       " 'each',\n",
       " 'few',\n",
       " 'more',\n",
       " 'most',\n",
       " 'other',\n",
       " 'some',\n",
       " 'such',\n",
       " 'no',\n",
       " 'nor',\n",
       " 'not',\n",
       " 'only',\n",
       " 'own',\n",
       " 'same',\n",
       " 'so',\n",
       " 'than',\n",
       " 'too',\n",
       " 'very',\n",
       " 's',\n",
       " 't',\n",
       " 'can',\n",
       " 'will',\n",
       " 'just',\n",
       " 'don',\n",
       " \"don't\",\n",
       " 'should',\n",
       " \"should've\",\n",
       " 'now',\n",
       " 'd',\n",
       " 'll',\n",
       " 'm',\n",
       " 'o',\n",
       " 're',\n",
       " 've',\n",
       " 'y',\n",
       " 'ain',\n",
       " 'aren',\n",
       " \"aren't\",\n",
       " 'couldn',\n",
       " \"couldn't\",\n",
       " 'didn',\n",
       " \"didn't\",\n",
       " 'doesn',\n",
       " \"doesn't\",\n",
       " 'hadn',\n",
       " \"hadn't\",\n",
       " 'hasn',\n",
       " \"hasn't\",\n",
       " 'haven',\n",
       " \"haven't\",\n",
       " 'isn',\n",
       " \"isn't\",\n",
       " 'ma',\n",
       " 'mightn',\n",
       " \"mightn't\",\n",
       " 'mustn',\n",
       " \"mustn't\",\n",
       " 'needn',\n",
       " \"needn't\",\n",
       " 'shan',\n",
       " \"shan't\",\n",
       " 'shouldn',\n",
       " \"shouldn't\",\n",
       " 'wasn',\n",
       " \"wasn't\",\n",
       " 'weren',\n",
       " \"weren't\",\n",
       " 'won',\n",
       " \"won't\",\n",
       " 'wouldn',\n",
       " \"wouldn't\"]"
      ]
     },
     "execution_count": 65,
     "metadata": {},
     "output_type": "execute_result"
    }
   ],
   "source": [
    "stopwords.words('english')"
   ]
  },
  {
   "cell_type": "code",
   "execution_count": 66,
   "id": "fe062af0",
   "metadata": {},
   "outputs": [],
   "source": [
    "import string"
   ]
  },
  {
   "cell_type": "code",
   "execution_count": 67,
   "id": "68cfdd54",
   "metadata": {},
   "outputs": [
    {
     "data": {
      "text/plain": [
       "'!\"#$%&\\'()*+,-./:;<=>?@[\\\\]^_`{|}~'"
      ]
     },
     "execution_count": 67,
     "metadata": {},
     "output_type": "execute_result"
    }
   ],
   "source": [
    "string.punctuation"
   ]
  },
  {
   "cell_type": "code",
   "execution_count": 68,
   "id": "65227bda",
   "metadata": {},
   "outputs": [],
   "source": [
    "stopword_list = list(stopwords.words(\"english\"))"
   ]
  },
  {
   "cell_type": "code",
   "execution_count": 69,
   "id": "491b4576",
   "metadata": {},
   "outputs": [],
   "source": [
    "def text_process(mess):            ### creating a function\n",
    "    \"\"\"                                                        ## a docstring\n",
    "    1. remove the punctuation\n",
    "    2. remove the stopwords\n",
    "    3. return the list of clean textwords\n",
    "    \n",
    "    \"\"\"\n",
    "    nopunc = [char for char in mess if char not in string.punctuation]\n",
    "    nopunc = \"\".join(nopunc)\n",
    "    \n",
    "    return [ word for word in nopunc.split() if word not in stopword_list]"
   ]
  },
  {
   "cell_type": "code",
   "execution_count": 70,
   "id": "7d64addb",
   "metadata": {},
   "outputs": [],
   "source": [
    "from sklearn.feature_extraction.text import CountVectorizer\n",
    "#CountVect is used to counts for each word"
   ]
  },
  {
   "cell_type": "code",
   "execution_count": 71,
   "id": "f60021a0",
   "metadata": {},
   "outputs": [],
   "source": [
    "amz_transformer = CountVectorizer(analyzer=text_process).fit(amz.Text)"
   ]
  },
  {
   "cell_type": "code",
   "execution_count": 74,
   "id": "8c7b015f",
   "metadata": {},
   "outputs": [
    {
     "data": {
      "text/plain": [
       "{'bought': 35857,\n",
       " 'several': 191850,\n",
       " 'vitality': 229827,\n",
       " 'canned': 42395,\n",
       " 'dog': 69985,\n",
       " 'food': 87189,\n",
       " 'products': 172594,\n",
       " 'found': 88450,\n",
       " 'good': 95108,\n",
       " 'quality': 175518,\n",
       " 'product': 172343,\n",
       " 'looks': 132324,\n",
       " 'like': 130309,\n",
       " 'stew': 204098,\n",
       " 'processed': 172170,\n",
       " 'meat': 137919,\n",
       " 'smells': 196972,\n",
       " 'better': 31728,\n",
       " 'labrador': 127070,\n",
       " 'finicky': 84290,\n",
       " 'appreciates': 23175,\n",
       " 'arrived': 24124,\n",
       " 'labeled': 126924,\n",
       " 'jumbo': 123471,\n",
       " 'salted': 186534,\n",
       " 'peanutsthe': 162728,\n",
       " 'peanuts': 162695,\n",
       " 'actually': 15812,\n",
       " 'small': 196667,\n",
       " 'sized': 195465,\n",
       " 'unsalted': 225858,\n",
       " 'sure': 208961,\n",
       " 'error': 77454,\n",
       " 'vendor': 228603,\n",
       " 'intended': 119211,\n",
       " 'represent': 181173,\n",
       " 'confection': 55158,\n",
       " 'around': 24006,\n",
       " 'centuries': 45428,\n",
       " 'light': 130088,\n",
       " 'pillowy': 165773,\n",
       " 'citrus': 50548,\n",
       " 'gelatin': 92424,\n",
       " 'nuts': 152690,\n",
       " 'case': 44135,\n",
       " 'filberts': 83761,\n",
       " 'cut': 61676,\n",
       " 'tiny': 218077,\n",
       " 'squares': 202312,\n",
       " 'liberally': 129676,\n",
       " 'coated': 51763,\n",
       " 'powdered': 169667,\n",
       " 'sugar': 207255,\n",
       " 'mouthful': 144994,\n",
       " 'heaven': 102333,\n",
       " 'chewy': 47643,\n",
       " 'flavorful': 85507,\n",
       " 'highly': 103746,\n",
       " 'recommend': 178738,\n",
       " 'yummy': 239727,\n",
       " 'treat': 220936,\n",
       " 'familiar': 81406,\n",
       " 'story': 205242,\n",
       " 'cs': 60774,\n",
       " 'lewis': 129612,\n",
       " 'lion': 130944,\n",
       " 'witch': 235704,\n",
       " 'wardrobe': 231188,\n",
       " 'seduces': 190067,\n",
       " 'edmund': 74385,\n",
       " 'selling': 190670,\n",
       " 'brother': 38199,\n",
       " 'sisters': 195224,\n",
       " 'looking': 132294,\n",
       " 'secret': 189967,\n",
       " 'ingredient': 118077,\n",
       " 'robitussin': 184095,\n",
       " 'believe': 30783,\n",
       " 'got': 95755,\n",
       " 'addition': 16098,\n",
       " 'root': 184605,\n",
       " 'beer': 30340,\n",
       " 'extract': 80448,\n",
       " 'ordered': 156901,\n",
       " 'made': 134335,\n",
       " 'cherry': 47341,\n",
       " 'soda': 198299,\n",
       " 'flavor': 85328,\n",
       " 'medicinal': 138244,\n",
       " 'great': 97028,\n",
       " 'taffy': 210910,\n",
       " 'price': 171318,\n",
       " 'wide': 234885,\n",
       " 'assortment': 25033,\n",
       " 'delivery': 65083,\n",
       " 'quick': 175941,\n",
       " 'lover': 132862,\n",
       " 'deal': 63342,\n",
       " 'wild': 235039,\n",
       " 'hair': 99591,\n",
       " 'five': 84821,\n",
       " 'pound': 169507,\n",
       " 'bag': 27401,\n",
       " 'enjoyable': 76519,\n",
       " 'many': 135860,\n",
       " 'flavors': 85729,\n",
       " 'watermelon': 231877,\n",
       " 'melon': 138799,\n",
       " 'peppermint': 163550,\n",
       " 'grape': 96610,\n",
       " 'etc': 77943,\n",
       " 'complaint': 54412,\n",
       " 'bit': 32975,\n",
       " 'much': 145398,\n",
       " 'redblack': 179064,\n",
       " 'licoriceflavored': 129798,\n",
       " 'pieces': 165512,\n",
       " 'particular': 161550,\n",
       " 'favorites': 82530,\n",
       " 'kids': 125109,\n",
       " 'husband': 114907,\n",
       " 'lasted': 127822,\n",
       " 'two': 223252,\n",
       " 'weeks': 232747,\n",
       " 'would': 237003,\n",
       " 'brand': 36664,\n",
       " 'delightful': 64939,\n",
       " 'saltwater': 186706,\n",
       " 'soft': 198522,\n",
       " 'candy': 42125,\n",
       " 'individually': 117436,\n",
       " 'wrapped': 237236,\n",
       " 'well': 233080,\n",
       " 'none': 149913,\n",
       " 'candies': 42076,\n",
       " 'stuck': 206120,\n",
       " 'together': 218682,\n",
       " 'happen': 100540,\n",
       " 'expensive': 79895,\n",
       " 'version': 228910,\n",
       " 'fralingers': 88716,\n",
       " 'served': 191464,\n",
       " 'beachthemed': 29597,\n",
       " 'party': 161644,\n",
       " 'everyone': 78675,\n",
       " 'loved': 132779,\n",
       " 'amazing': 20095,\n",
       " 'definitely': 64324,\n",
       " 'buying': 40286,\n",
       " 'satisfying': 187587,\n",
       " 'right': 183366,\n",
       " 'im': 116059,\n",
       " 'mostly': 144640,\n",
       " 'sprouting': 202180,\n",
       " 'cats': 44678,\n",
       " 'eat': 73684,\n",
       " 'grass': 96723,\n",
       " 'love': 132766,\n",
       " 'rotate': 184796,\n",
       " 'wheatgrass': 234014,\n",
       " 'rye': 185664,\n",
       " 'healthy': 101895,\n",
       " 'digestion': 67568,\n",
       " 'also': 19665,\n",
       " 'puppies': 174581,\n",
       " 'eats': 73873,\n",
       " 'required': 181302,\n",
       " 'amount': 20812,\n",
       " 'every': 78602,\n",
       " 'feeding': 82855,\n",
       " 'dont': 70577,\n",
       " 'know': 125973,\n",
       " 'cactus': 40713,\n",
       " 'tequila': 214030,\n",
       " 'unique': 225311,\n",
       " 'combination': 53649,\n",
       " 'ingredients': 118114,\n",
       " 'flavour': 86001,\n",
       " 'hot': 105715,\n",
       " 'sauce': 187674,\n",
       " 'makes': 134937,\n",
       " 'one': 155410,\n",
       " 'kind': 125304,\n",
       " 'picked': 165309,\n",
       " 'bottle': 35625,\n",
       " 'trip': 221643,\n",
       " 'brought': 38249,\n",
       " 'back': 26961,\n",
       " 'home': 104746,\n",
       " 'us': 226717,\n",
       " 'totally': 219883,\n",
       " 'blown': 34253,\n",
       " 'away': 26203,\n",
       " 'realized': 177833,\n",
       " 'simply': 194811,\n",
       " 'couldnt': 58169,\n",
       " 'find': 84061,\n",
       " 'anywhere': 22500,\n",
       " 'city': 50584,\n",
       " 'bummedbr': 39250,\n",
       " 'br': 36510,\n",
       " 'magic': 134508,\n",
       " 'internet': 119432,\n",
       " 'ecstatic': 74202,\n",
       " 'itbr': 120780,\n",
       " 'saucei': 187728,\n",
       " 'mean': 137808,\n",
       " 'really': 177862,\n",
       " 'want': 231086,\n",
       " 'tastelessly': 212033,\n",
       " 'burns': 39521,\n",
       " 'throat': 217063,\n",
       " 'grab': 95977,\n",
       " 'picante': 165263,\n",
       " 'gourmet': 95863,\n",
       " 'de': 63283,\n",
       " 'inclan': 116912,\n",
       " 'realize': 177831,\n",
       " 'taste': 211791,\n",
       " 'never': 148428,\n",
       " 'use': 226816,\n",
       " 'saucebr': 187695,\n",
       " 'thank': 214694,\n",
       " 'personal': 164325,\n",
       " 'incredible': 117123,\n",
       " 'service': 191498,\n",
       " 'boys': 36460,\n",
       " 'needed': 147836,\n",
       " 'lose': 132535,\n",
       " 'weight': 232871,\n",
       " 'didnt': 67019,\n",
       " 'put': 175152,\n",
       " 'floor': 86349,\n",
       " 'chubby': 49907,\n",
       " 'guy': 99164,\n",
       " 'proteinrich': 173546,\n",
       " 'byproduct': 40480,\n",
       " 'higher': 103630,\n",
       " 'skinny': 195783,\n",
       " 'boy': 36420,\n",
       " 'jump': 123492,\n",
       " 'sits': 195292,\n",
       " 'going': 94842,\n",
       " 'stale': 202810,\n",
       " 'go': 94621,\n",
       " 'losing': 132553,\n",
       " 'ounce': 157863,\n",
       " 'week': 232683,\n",
       " 'happily': 100590,\n",
       " 'eating': 73805,\n",
       " 'felidae': 82985,\n",
       " 'platinum': 166891,\n",
       " 'years': 238372,\n",
       " 'new': 148449,\n",
       " 'shape': 192236,\n",
       " 'different': 67361,\n",
       " 'tried': 221493,\n",
       " 'first': 84514,\n",
       " 'bowls': 36083,\n",
       " 'sit': 195233,\n",
       " 'full': 90855,\n",
       " 'kitties': 125651,\n",
       " 'touch': 219946,\n",
       " 'ive': 121471,\n",
       " 'noticed': 151426,\n",
       " 'similar': 194653,\n",
       " 'reviews': 182541,\n",
       " 'related': 180321,\n",
       " 'formula': 88127,\n",
       " 'changes': 46117,\n",
       " 'past': 161774,\n",
       " 'unfortunately': 225060,\n",
       " 'need': 147823,\n",
       " 'came': 41755,\n",
       " 'securely': 190020,\n",
       " 'packed': 159997,\n",
       " 'fresh': 89383,\n",
       " 'delicious': 64722,\n",
       " 'twizzlers': 223241,\n",
       " 'strawberry': 205511,\n",
       " 'guilty': 98735,\n",
       " 'pleasure': 167106,\n",
       " 'six': 195346,\n",
       " 'pounds': 169543,\n",
       " 'son': 199251,\n",
       " 'daughter': 62812,\n",
       " 'loves': 132900,\n",
       " 'shipment': 193007,\n",
       " 'hit': 104238,\n",
       " 'spot': 201871,\n",
       " 'exactly': 79008,\n",
       " 'expectsix': 79833,\n",
       " 'packages': 159838,\n",
       " 'watching': 231653,\n",
       " 'tv': 222945,\n",
       " 'movies': 145147,\n",
       " 'sweet': 209593,\n",
       " 'transfer': 220574,\n",
       " 'zip': 240293,\n",
       " 'lock': 131814,\n",
       " 'baggie': 27507,\n",
       " 'stay': 203597,\n",
       " 'take': 211055,\n",
       " 'time': 217582,\n",
       " 'satisfied': 187553,\n",
       " 'twizzler': 223237,\n",
       " 'purchase': 174682,\n",
       " 'shared': 192315,\n",
       " 'others': 157701,\n",
       " 'enjoyed': 76538,\n",
       " 'ordering': 156951,\n",
       " 'childhood': 48125,\n",
       " 'favorite': 82473,\n",
       " 'lancaster': 127442,\n",
       " 'pennsylvania': 163301,\n",
       " 'inc': 116807,\n",
       " 'oldest': 154925,\n",
       " 'confectionery': 55167,\n",
       " 'firms': 84505,\n",
       " 'united': 225348,\n",
       " 'states': 203492,\n",
       " 'subsidiary': 206740,\n",
       " 'hershey': 103247,\n",
       " 'company': 54133,\n",
       " 'established': 77834,\n",
       " '1845': 4376,\n",
       " 'young': 239308,\n",
       " 'smylie': 197433,\n",
       " 'make': 134820,\n",
       " 'apple': 22945,\n",
       " 'licorice': 129789,\n",
       " 'twists': 223195,\n",
       " 'green': 97354,\n",
       " 'color': 53383,\n",
       " 'blue': 34294,\n",
       " 'raspberry': 177170,\n",
       " 'allbr': 18739,\n",
       " 'keep': 124402,\n",
       " 'dry': 72319,\n",
       " 'cool': 57112,\n",
       " 'place': 166426,\n",
       " 'recommended': 178763,\n",
       " 'fridge': 89680,\n",
       " 'according': 15319,\n",
       " 'guinness': 98747,\n",
       " 'book': 35211,\n",
       " 'records': 178917,\n",
       " 'longest': 132138,\n",
       " 'twist': 223172,\n",
       " 'ever': 78449,\n",
       " 'measured': 137894,\n",
       " '1200': 2067,\n",
       " 'feet': 82940,\n",
       " '370': 8646,\n",
       " 'weighted': 232892,\n",
       " '100': 899,\n",
       " '45': 9768,\n",
       " 'kg': 124861,\n",
       " 'recordbreaking': 178907,\n",
       " 'became': 30054,\n",
       " 'world': 236765,\n",
       " 'record': 178904,\n",
       " 'july': 123455,\n",
       " '19': 4558,\n",
       " '1998': 4811,\n",
       " 'kosher': 126369,\n",
       " 'delivered': 65056,\n",
       " 'fast': 81943,\n",
       " 'purchased': 174693,\n",
       " 'reasonable': 178001,\n",
       " 'bound': 35947,\n",
       " 'unable': 224067,\n",
       " 'get': 92905,\n",
       " 'store': 204944,\n",
       " 'perfect': 163832,\n",
       " 'addict': 15998,\n",
       " 'weve': 233713,\n",
       " 'times': 217761,\n",
       " 'amazon': 20175,\n",
       " 'government': 95920,\n",
       " 'employees': 75791,\n",
       " 'living': 131520,\n",
       " 'overseas': 159076,\n",
       " 'cant': 42573,\n",
       " 'country': 58316,\n",
       " 'assigned': 24979,\n",
       " 'theyve': 215873,\n",
       " 'always': 19938,\n",
       " 'tasty': 212402,\n",
       " 'arrive': 24121,\n",
       " 'timely': 217703,\n",
       " 'manner': 135669,\n",
       " 'currently': 61471,\n",
       " 'apparently': 22778,\n",
       " 'staff': 202730,\n",
       " 'likes': 130441,\n",
       " 'alsobr': 19676,\n",
       " 'generous': 92596,\n",
       " 'amounts': 20835,\n",
       " '16ounce': 3959,\n",
       " 'worth': 236941,\n",
       " 'hrefhttpwwwamazoncomgpproductb001gvisjmtwizzlers': 110725,\n",
       " 'bags': 27598,\n",
       " 'pack': 159712,\n",
       " '6a': 12175,\n",
       " 'remember': 180619,\n",
       " 'kid': 125021,\n",
       " 'hasnt': 101119,\n",
       " 'dropped': 72168,\n",
       " 'still': 204338,\n",
       " 'superb': 208217,\n",
       " 'wont': 236301,\n",
       " 'disappointed': 68279,\n",
       " 'watchers': 231640,\n",
       " 'craving': 59141,\n",
       " 'lived': 131431,\n",
       " '7': 12442,\n",
       " 'yrs': 239508,\n",
       " 'miss': 142109,\n",
       " 'visit': 229738,\n",
       " 'someone': 199055,\n",
       " 'visits': 229756,\n",
       " 'stock': 204572,\n",
       " 'say': 188178,\n",
       " 'yumbr': 239628,\n",
       " 'sell': 190602,\n",
       " 'mexico': 139790,\n",
       " 'faithful': 81193,\n",
       " 'buyer': 40257,\n",
       " 'often': 154212,\n",
       " 'able': 14758,\n",
       " 'buy': 40234,\n",
       " 'received': 178346,\n",
       " 'advertisedbr': 16620,\n",
       " 'red': 179050,\n",
       " 'plan': 166571,\n",
       " 'glad': 93837,\n",
       " 'carried': 43924,\n",
       " 'batteries': 29360,\n",
       " 'hard': 100712,\n",
       " 'finding': 84092,\n",
       " 'elsewhere': 75443,\n",
       " 'size': 195435,\n",
       " 'garage': 91836,\n",
       " 'door': 70673,\n",
       " 'openerbr': 156312,\n",
       " 'mum': 145973,\n",
       " 'diabetic': 66685,\n",
       " 'needs': 147893,\n",
       " 'watch': 231632,\n",
       " 'intake': 119140,\n",
       " 'father': 82192,\n",
       " 'chooses': 49598,\n",
       " 'limit': 130649,\n",
       " 'unnecessary': 225525,\n",
       " 'shes': 192813,\n",
       " 'tooth': 219345,\n",
       " 'toffees': 218630,\n",
       " 'guess': 98608,\n",
       " 'theyre': 215864,\n",
       " 'sugarfree': 207418,\n",
       " 'pretty': 171151,\n",
       " 'guilt': 98710,\n",
       " 'free': 89004,\n",
       " 'impressed': 116596,\n",
       " 'w': 230414,\n",
       " 'dark': 62510,\n",
       " 'chocolate': 48951,\n",
       " 'office': 154026,\n",
       " 'ill': 115956,\n",
       " 'instead': 118938,\n",
       " 'snacking': 197534,\n",
       " 'sugary': 207671,\n",
       " 'sweetsbr': 209982,\n",
       " 'excellent': 79152,\n",
       " 'huge': 114486,\n",
       " 'coffee': 52268,\n",
       " 'fan': 81512,\n",
       " 'however': 106204,\n",
       " 'mother': 144699,\n",
       " 'little': 131346,\n",
       " 'machine': 134158,\n",
       " 'talked': 211159,\n",
       " 'trying': 222209,\n",
       " 'latte': 128030,\n",
       " 'macciato': 134112,\n",
       " 'shop': 193458,\n",
       " 'usually': 227127,\n",
       " 'noncoffee': 149784,\n",
       " 'drinkerbr': 71798,\n",
       " 'dolche': 70315,\n",
       " 'guesto': 98646,\n",
       " 'super': 208202,\n",
       " 'easy': 73565,\n",
       " 'prepares': 170630,\n",
       " 'coffeelattecappuccinoetc': 52524,\n",
       " 'less': 129288,\n",
       " 'minute': 141690,\n",
       " 'water': 231670,\n",
       " 'heated': 102208,\n",
       " 'dolce': 70310,\n",
       " 'gusto': 99110,\n",
       " 'anyone': 22300,\n",
       " 'iam': 115368,\n",
       " 'getting': 92969,\n",
       " 'offer': 153944,\n",
       " 'thanks': 214712,\n",
       " 'productbr': 172388,\n",
       " 'staral': 203056,\n",
       " 'mccanns': 137456,\n",
       " 'instant': 118887,\n",
       " 'oatmeal': 153047,\n",
       " 'must': 146313,\n",
       " 'scrape': 189196,\n",
       " 'three': 216912,\n",
       " 'minutes': 141707,\n",
       " 'prepare': 170599,\n",
       " 'escaping': 77548,\n",
       " 'fact': 80964,\n",
       " 'even': 78365,\n",
       " 'best': 31487,\n",
       " 'nowhere': 151868,\n",
       " 'near': 147603,\n",
       " 'requiring': 181320,\n",
       " 'stovetop': 205292,\n",
       " 'preparation': 170587,\n",
       " 'gets': 92946,\n",
       " 'organic': 157145,\n",
       " 'allnatural': 19042,\n",
       " 'brands': 36765,\n",
       " 'varieties': 227867,\n",
       " 'variety': 227896,\n",
       " 'prepared': 170607,\n",
       " 'microwave': 140145,\n",
       " 'adding': 16079,\n",
       " 'boiling': 34772,\n",
       " 'convenient': 56469,\n",
       " 'extreme': 80613,\n",
       " 'issuebr': 120517,\n",
       " 'actual': 15804,\n",
       " 'cane': 42283,\n",
       " 'high': 103573,\n",
       " 'fructose': 90287,\n",
       " 'corn': 57459,\n",
       " 'syrup': 210488,\n",
       " 'helped': 102704,\n",
       " 'decide': 63828,\n",
       " 'real': 177773,\n",
       " 'tastes': 212130,\n",
       " 'harmful': 100950,\n",
       " 'stuff': 206171,\n",
       " 'thing': 216060,\n",
       " 'though': 216720,\n",
       " 'thickeners': 215929,\n",
       " 'oats': 153128,\n",
       " 'plus': 167315,\n",
       " 'heat': 102187,\n",
       " 'creamy': 59451,\n",
       " 'without': 235791,\n",
       " 'guar': 98519,\n",
       " 'gum': 98809,\n",
       " 'convenience': 56448,\n",
       " 'maybe': 137281,\n",
       " 'sitting': 195302,\n",
       " 'bowl': 36043,\n",
       " 'becomes': 30111,\n",
       " 'thick': 215898,\n",
       " 'gluey': 94271,\n",
       " 'uses': 226964,\n",
       " 'fructouse': 90302,\n",
       " 'sweetness': 209897,\n",
       " 'doctors': 69895,\n",
       " 'form': 88035,\n",
       " 'cold': 53019,\n",
       " 'morning': 144372,\n",
       " 'steel': 203771,\n",
       " 'cinnamon': 50272,\n",
       " 'maple': 135913,\n",
       " 'brown': 38265,\n",
       " 'regular': 179989,\n",
       " 'require': 181301,\n",
       " 'doctoring': 69885,\n",
       " 'tell': 213690,\n",
       " 'apart': 22599,\n",
       " 'become': 30108,\n",
       " 'soggy': 198700,\n",
       " 'hits': 104277,\n",
       " 'holds': 104601,\n",
       " 'texture': 214484,\n",
       " 'oat': 153010,\n",
       " 'meal': 137668,\n",
       " 'may': 137270,\n",
       " 'longer': 132096,\n",
       " 'eaten': 73716,\n",
       " 'close': 51361,\n",
       " 'second': 189898,\n",
       " 'noninstant': 150184,\n",
       " 'varietybr': 227905,\n",
       " 'irish': 120067,\n",
       " 'apples': 23019,\n",
       " '10count': 1469,\n",
       " 'boxes': 36222,\n",
       " '6': 11511,\n",
       " '6br': 12225,\n",
       " 'steelcut': 203777,\n",
       " 'thought': 216788,\n",
       " 'id': 115616,\n",
       " 'give': 93753,\n",
       " 'try': 222158,\n",
       " 'hardy': 100902,\n",
       " 'folks': 87050,\n",
       " 'postbariatric': 168989,\n",
       " 'surgery': 209048,\n",
       " 'palatable': 160460,\n",
       " 'easily': 73492,\n",
       " 'digestible': 67556,\n",
       " 'fiber': 83407,\n",
       " 'bloat': 34045,\n",
       " 'celiac': 45204,\n",
       " 'disease': 68719,\n",
       " 'lifesaver': 129987,\n",
       " 'could': 58154,\n",
       " 'almost': 19382,\n",
       " 'half': 99750,\n",
       " 'grocery': 97985,\n",
       " 'health': 101717,\n",
       " 'flavorsbr': 85752,\n",
       " 'thanksbr': 214717,\n",
       " 'abby': 14687,\n",
       " 'else': 75391,\n",
       " 'cup': 61103,\n",
       " 'lowfat': 133091,\n",
       " 'milk': 140658,\n",
       " 'add': 15920,\n",
       " 'raisinsnuke': 176731,\n",
       " '90': 13878,\n",
       " 'seconds': 189927,\n",
       " 'kroger': 126602,\n",
       " 'tastier': 212293,\n",
       " 'something': 199104,\n",
       " 'mmm': 142680,\n",
       " 'visiting': 229750,\n",
       " 'friend': 89738,\n",
       " 'nate': 147219,\n",
       " 'storage': 204921,\n",
       " 'room': 184554,\n",
       " 'packet': 160032,\n",
       " 'suggested': 207729,\n",
       " 'stash': 203424,\n",
       " 'sometimes': 199161,\n",
       " 'dose': 70837,\n",
       " 'chance': 46041,\n",
       " 'ended': 76063,\n",
       " 'cinn': 50245,\n",
       " 'tastefull': 211976,\n",
       " 'goes': 94768,\n",
       " 'oj': 154699,\n",
       " 'slice': 196178,\n",
       " 'toast': 218362,\n",
       " 'ready': 177713,\n",
       " 'worldor': 236798,\n",
       " 'day': 62929,\n",
       " 'least': 128645,\n",
       " 'jerry': 122478,\n",
       " 'reith': 180249,\n",
       " 'wife': 234966,\n",
       " 'reccomended': 178279,\n",
       " 'happy': 100610,\n",
       " 'happybr': 100622,\n",
       " 'hrefhttpwwwamazoncomgpproductb001eo5qw8mccanns': 110323,\n",
       " 'packs': 160157,\n",
       " 'greatbr': 97057,\n",
       " '030': 279,\n",
       " 'cents': 45399,\n",
       " 'per': 163718,\n",
       " 'understand': 224661,\n",
       " 'earth': 73360,\n",
       " 'isnt': 120408,\n",
       " 'upbr': 226281,\n",
       " 'terrific': 214222,\n",
       " 'followed': 87086,\n",
       " 'tired': 218173,\n",
       " 'ole': 155018,\n",
       " 'boil': 34748,\n",
       " 'pot': 169137,\n",
       " 'empty': 75835,\n",
       " '2': 5171,\n",
       " 'pour': 169585,\n",
       " 'expand': 79692,\n",
       " '2x': 7506,\n",
       " 'sizebr': 195456,\n",
       " 'takes': 211093,\n",
       " 'preparebr': 170605,\n",
       " 'extremely': 80618,\n",
       " 'cheap': 46496,\n",
       " 'connoisseur': 55458,\n",
       " 'whether': 234190,\n",
       " 'raw': 177414,\n",
       " 'pellet': 163188,\n",
       " 'state': 203445,\n",
       " 'cooks': 57076,\n",
       " 'hour': 105946,\n",
       " 'sloth': 196462,\n",
       " 'addled': 16163,\n",
       " 'done': 70512,\n",
       " 'thats': 214868,\n",
       " 'beauty': 30019,\n",
       " 'available': 25924,\n",
       " 'regularbr': 179991,\n",
       " 'allows': 19108,\n",
       " 'explored': 80203,\n",
       " 'giving': 93790,\n",
       " 'experience': 79989,\n",
       " 'difference': 67319,\n",
       " 'wellknown': 233256,\n",
       " 'oatmeals': 153093,\n",
       " 'personally': 164341,\n",
       " 'thicker': 215946,\n",
       " 'body': 34647,\n",
       " 'top': 219485,\n",
       " 'america': 20596,\n",
       " 'tends': 213944,\n",
       " 'liquidy': 131101,\n",
       " 'experiment': 80038,\n",
       " '1300watt': 2758,\n",
       " 'twentyseven': 223031,\n",
       " 'handle': 100307,\n",
       " 'usebr': 226833,\n",
       " 'bad': 27243,\n",
       " 'consider': 55588,\n",
       " 'offering': 153961,\n",
       " 'lot': 132600,\n",
       " 'youll': 239287,\n",
       " 'end': 76032,\n",
       " 'tencount': 213872,\n",
       " 'whole': 234635,\n",
       " 'family': 81423,\n",
       " 'oatmealeaters': 153062,\n",
       " 'youre': 239366,\n",
       " 'single': 194943,\n",
       " 'person': 164320,\n",
       " 'alone': 19463,\n",
       " 'save': 188021,\n",
       " '300': 7559,\n",
       " 'boxbr': 36166,\n",
       " 'choice': 49358,\n",
       " 'overly': 158844,\n",
       " 'breakfast': 37226,\n",
       " 'cook': 56635,\n",
       " 'oftenbr': 154219,\n",
       " 'convenientbr': 56472,\n",
       " 'anything': 22352,\n",
       " 'keeps': 124425,\n",
       " 'regularly': 180009,\n",
       " 'seems': 190254,\n",
       " 'wholesome': 234707,\n",
       " 'supermarket': 208439,\n",
       " 'somewhat': 199199,\n",
       " 'mushy': 146232,\n",
       " 'doesnt': 69950,\n",
       " 'quite': 176212,\n",
       " 'either': 74951,\n",
       " 'pass': 161701,\n",
       " 'muster': 146377,\n",
       " 'probably': 171936,\n",
       " 'wouldnt': 237028,\n",
       " 'follow': 87082,\n",
       " 'directions': 68089,\n",
       " 'package': 159734,\n",
       " 'since': 194856,\n",
       " 'comes': 53749,\n",
       " 'soupy': 199923,\n",
       " 'see': 190074,\n",
       " 'differce': 67313,\n",
       " 'oaker': 152990,\n",
       " 'fine': 84127,\n",
       " 'added': 15940,\n",
       " 'ok': 154710,\n",
       " 'order': 156873,\n",
       " 'big': 32233,\n",
       " 'box': 36122,\n",
       " 'stores': 205069,\n",
       " 'nothing': 151360,\n",
       " 'carbs': 43296,\n",
       " 'sugars': 207560,\n",
       " 'money': 143543,\n",
       " 'quaker': 175467,\n",
       " 'way': 232152,\n",
       " 'bloody': 34182,\n",
       " 'mary': 136673,\n",
       " 'mix': 142334,\n",
       " 'seller': 190614,\n",
       " 'advertising': 16655,\n",
       " 'workedlol': 236595,\n",
       " 'buddies': 38798,\n",
       " 'yet': 238787,\n",
       " 'burn': 39465,\n",
       " 'mouth': 144963,\n",
       " 'forever': 87891,\n",
       " 'nice': 148761,\n",
       " 'temp': 213729,\n",
       " 'wasnt': 231517,\n",
       " 'last': 127810,\n",
       " 'looked': 132272,\n",
       " 'vermont': 228830,\n",
       " 'weston': 233657,\n",
       " 'along': 19485,\n",
       " 'jaw': 122146,\n",
       " 'harp': 100987,\n",
       " 'cranberry': 58977,\n",
       " 'horseradish': 105617,\n",
       " 'fartless': 81892,\n",
       " 'black': 33355,\n",
       " 'bean': 29660,\n",
       " 'salsa': 186450,\n",
       " 'cider': 50109,\n",
       " 'jelly': 122322,\n",
       " 'newtons': 148599,\n",
       " 'cradle': 58893,\n",
       " 'art': 24212,\n",
       " 'motion': 144764,\n",
       " 'staple': 203033,\n",
       " 'syrupbr': 210499,\n",
       " 'ass': 24904,\n",
       " 'kickin': 124984,\n",
       " 'activate': 15751,\n",
       " 'perspiration': 164387,\n",
       " 'glands': 93872,\n",
       " 'behind': 30636,\n",
       " 'ears': 73341,\n",
       " 'arms': 23871,\n",
       " 'requires': 181317,\n",
       " 'beverage': 31943,\n",
       " 'advertised': 16614,\n",
       " 'glass': 93886,\n",
       " 'kleenex': 125761,\n",
       " 'nose': 151086,\n",
       " 'run': 185387,\n",
       " 'look': 132263,\n",
       " 'ordinary': 157033,\n",
       " 'already': 19587,\n",
       " 'ideas': 115664,\n",
       " 'work': 236554,\n",
       " 'suspect': 209287,\n",
       " 'people': 163373,\n",
       " 'hitting': 104289,\n",
       " 'goodies': 95251,\n",
       " 'absence': 14928,\n",
       " 'especially': 77632,\n",
       " 'colleague': 53225,\n",
       " 'greg': 97548,\n",
       " 'earliest': 73294,\n",
       " 'opportunity': 156523,\n",
       " 'contents': 56166,\n",
       " 'planters': 166664,\n",
       " 'whose': 234801,\n",
       " 'crying': 60700,\n",
       " 'running': 185436,\n",
       " 'returnbr': 182285,\n",
       " 'shaken': 192047,\n",
       " 'ensure': 76773,\n",
       " 'spices': 201121,\n",
       " 'evenly': 78404,\n",
       " 'distributed': 69529,\n",
       " 'important': 116482,\n",
       " 'wash': 231440,\n",
       " 'hands': 100376,\n",
       " 'consumption': 55920,\n",
       " 'eyesbr': 80734,\n",
       " 'asskickin': 25005,\n",
       " 'peanutsbr': 162701,\n",
       " 'ps': 173826,\n",
       " 'sharing': 192337,\n",
       " 'deliberately': 64650,\n",
       " 'christmas': 49812,\n",
       " 'hell': 102638,\n",
       " 'insulted': 119108,\n",
       " 'used': 226843,\n",
       " 'spicy': 201212,\n",
       " 'foods': 87438,\n",
       " 'south': 200057,\n",
       " 'texas': 214440,\n",
       " 'doubt': 71025,\n",
       " 'habanero': 99318,\n",
       " 'notch': 151225,\n",
       " 'roast': 183912,\n",
       " 'popcorn': 168338,\n",
       " 'popper': 168475,\n",
       " 'outside': 158296,\n",
       " 'course': 58421,\n",
       " 'beans': 29717,\n",
       " 'direct': 68072,\n",
       " 'mexican': 139771,\n",
       " 'altura': 19893,\n",
       " 'seem': 190229,\n",
       " 'wellsuited': 233427,\n",
       " 'method': 139631,\n",
       " 'cracks': 58888,\n",
       " 'distinct': 69458,\n",
       " 'roasted': 183940,\n",
       " 'medium': 138339,\n",
       " 'slightly': 196258,\n",
       " 'results': 182023,\n",
       " 'aroma': 23910,\n",
       " 'strong': 205898,\n",
       " 'persistent': 164306,\n",
       " 'smooth': 197243,\n",
       " 'velvety': 228575,\n",
       " 'lively': 131447,\n",
       " 'large': 127647,\n",
       " 'cast': 44379,\n",
       " 'iron': 120093,\n",
       " 'pan': 160694,\n",
       " 'grill': 97681,\n",
       " '13': 2749,\n",
       " 'smell': 196901,\n",
       " 'wonderful': 236152,\n",
       " 'importantly': 116490,\n",
       " 'bitter': 33124,\n",
       " 'aftertaste': 17188,\n",
       " 'numerous': 152181,\n",
       " 'occasions': 153470,\n",
       " 'send': 190995,\n",
       " 'friends': 89776,\n",
       " 'awesome': 26314,\n",
       " 'halloween': 100027,\n",
       " 'indicated': 117338,\n",
       " 'enough': 76656,\n",
       " 'satisfy': 187583,\n",
       " 'trick': 221430,\n",
       " 'treaters': 220979,\n",
       " 'local': 131725,\n",
       " 'everything': 78720,\n",
       " 'kit': 125540,\n",
       " 'kat': 124104,\n",
       " 'reeses': 179426,\n",
       " 'chocolates': 49149,\n",
       " 'plenty': 167155,\n",
       " 'shipped': 193058,\n",
       " 'promptly': 173108,\n",
       " 'neighborhood': 148029,\n",
       " 'liked': 130342,\n",
       " 'sent': 191189,\n",
       " 'daughters': 62829,\n",
       " 'class': 50793,\n",
       " 'share': 192309,\n",
       " 'prices': 171527,\n",
       " 'gold': 94881,\n",
       " 'wasbr': 231422,\n",
       " '34': 8212,\n",
       " 'target': 211577,\n",
       " 'online': 155874,\n",
       " 'cheaper': 46522,\n",
       " 'compete': 54324,\n",
       " 'days': 63061,\n",
       " 'endurolyte': 76188,\n",
       " 'pill': 165735,\n",
       " 'powder': 169634,\n",
       " 'long': 132054,\n",
       " 'desert': 65932,\n",
       " 'rides': 183256,\n",
       " 'dirt': 68138,\n",
       " 'bike': 32372,\n",
       " 'camelbak': 41762,\n",
       " 'heavily': 102388,\n",
       " 'laced': 127117,\n",
       " 'effective': 74521,\n",
       " 'cramp': 58938,\n",
       " 'hundred': 114739,\n",
       " 'mile': 140622,\n",
       " 'racing': 176451,\n",
       " 'buggy': 38979,\n",
       " 'camelbaks': 41763,\n",
       " 'fizzwhat': 84959,\n",
       " 'firstly': 84560,\n",
       " 'hammers': 100166,\n",
       " 'endurance': 76177,\n",
       " 'athletes': 25264,\n",
       " 'handly': 100344,\n",
       " 'tablets': 210781,\n",
       " 'dissovle': 69388,\n",
       " 'fizz': 84931,\n",
       " 'third': 216345,\n",
       " 'imagine': 116095,\n",
       " 'drink': 71746,\n",
       " 'starving': 203408,\n",
       " 'hydration': 115048,\n",
       " 'electrolytes': 75161,\n",
       " 'rather': 177264,\n",
       " 'salty': 186715,\n",
       " 'refreshing': 179637,\n",
       " 'lemonlime': 129102,\n",
       " 'mango': 135509,\n",
       " 'drop': 72139,\n",
       " 'tablet': 210770,\n",
       " 'bottled': 35651,\n",
       " 'whenever': 234129,\n",
       " 'exercise': 79500,\n",
       " 'flavored': 85441,\n",
       " 'chock': 48833,\n",
       " ...}"
      ]
     },
     "execution_count": 74,
     "metadata": {},
     "output_type": "execute_result"
    }
   ],
   "source": [
    "amz_transformer.vocabulary_"
   ]
  },
  {
   "cell_type": "code",
   "execution_count": 75,
   "id": "a3c855fb",
   "metadata": {},
   "outputs": [
    {
     "data": {
      "text/plain": [
       "240626"
      ]
     },
     "execution_count": 75,
     "metadata": {},
     "output_type": "execute_result"
    }
   ],
   "source": [
    "len(amz_transformer.vocabulary_)"
   ]
  },
  {
   "cell_type": "code",
   "execution_count": 77,
   "id": "e825eb7e",
   "metadata": {},
   "outputs": [],
   "source": [
    "tdm = amz_transformer.transform(amz.Text)"
   ]
  },
  {
   "cell_type": "code",
   "execution_count": 78,
   "id": "55987a36",
   "metadata": {},
   "outputs": [
    {
     "data": {
      "text/plain": [
       "(568454, 240626)"
      ]
     },
     "execution_count": 78,
     "metadata": {},
     "output_type": "execute_result"
    }
   ],
   "source": [
    "tdm.shape"
   ]
  },
  {
   "cell_type": "code",
   "execution_count": 79,
   "id": "96df3231",
   "metadata": {},
   "outputs": [
    {
     "data": {
      "text/plain": [
       "scipy.sparse._csr.csr_matrix"
      ]
     },
     "execution_count": 79,
     "metadata": {},
     "output_type": "execute_result"
    }
   ],
   "source": [
    "type(tdm)"
   ]
  },
  {
   "cell_type": "code",
   "execution_count": 80,
   "id": "90c49704",
   "metadata": {},
   "outputs": [],
   "source": [
    "#Sampling"
   ]
  },
  {
   "cell_type": "code",
   "execution_count": 81,
   "id": "4f0467cd",
   "metadata": {},
   "outputs": [],
   "source": [
    "from sklearn.model_selection import train_test_split\n",
    "\n",
    "x_train, x_test, y_train, y_test = train_test_split(tdm, amz.Score, test_size=.2)"
   ]
  },
  {
   "cell_type": "code",
   "execution_count": 82,
   "id": "5f2b678c",
   "metadata": {},
   "outputs": [
    {
     "data": {
      "text/plain": [
       "(454763, 240626)"
      ]
     },
     "execution_count": 82,
     "metadata": {},
     "output_type": "execute_result"
    }
   ],
   "source": [
    "x_train.shape"
   ]
  },
  {
   "cell_type": "code",
   "execution_count": 84,
   "id": "e3f497b8",
   "metadata": {},
   "outputs": [
    {
     "data": {
      "text/plain": [
       "(454763,)"
      ]
     },
     "execution_count": 84,
     "metadata": {},
     "output_type": "execute_result"
    }
   ],
   "source": [
    "y_train.shape"
   ]
  },
  {
   "cell_type": "code",
   "execution_count": null,
   "id": "fbd61a17",
   "metadata": {},
   "outputs": [],
   "source": [
    "#Model_building"
   ]
  },
  {
   "cell_type": "code",
   "execution_count": 85,
   "id": "4bd3572c",
   "metadata": {},
   "outputs": [],
   "source": [
    "from sklearn.naive_bayes import MultinomialNB\n",
    "\n",
    "nb = MultinomialNB()"
   ]
  },
  {
   "cell_type": "code",
   "execution_count": 86,
   "id": "2afd8191",
   "metadata": {},
   "outputs": [
    {
     "data": {
      "text/plain": [
       "MultinomialNB()"
      ]
     },
     "execution_count": 86,
     "metadata": {},
     "output_type": "execute_result"
    }
   ],
   "source": [
    "nb.fit(x_train, y_train)"
   ]
  },
  {
   "cell_type": "code",
   "execution_count": 87,
   "id": "1dd641a5",
   "metadata": {},
   "outputs": [],
   "source": [
    "pred = nb.predict(x_test)"
   ]
  },
  {
   "cell_type": "code",
   "execution_count": 88,
   "id": "a14fb9fc",
   "metadata": {},
   "outputs": [
    {
     "data": {
      "text/plain": [
       "array([[10827,  1103,  4552],\n",
       "       [ 1720,  2121,  4628],\n",
       "       [ 3282,  2102, 83356]], dtype=int64)"
      ]
     },
     "execution_count": 88,
     "metadata": {},
     "output_type": "execute_result"
    }
   ],
   "source": [
    "confusion_matrix(y_test, pred)"
   ]
  },
  {
   "cell_type": "code",
   "execution_count": 89,
   "id": "4d6f22b6",
   "metadata": {},
   "outputs": [
    {
     "data": {
      "text/plain": [
       "0.8470679297393813"
      ]
     },
     "execution_count": 89,
     "metadata": {},
     "output_type": "execute_result"
    }
   ],
   "source": [
    "accuracy_score(y_test, pred)"
   ]
  },
  {
   "cell_type": "code",
   "execution_count": null,
   "id": "3a68a130",
   "metadata": {},
   "outputs": [],
   "source": [
    "#Decision Tree"
   ]
  },
  {
   "cell_type": "code",
   "execution_count": 90,
   "id": "675f0e3f",
   "metadata": {},
   "outputs": [],
   "source": [
    "from sklearn.tree import DecisionTreeClassifier\n",
    "\n",
    "dt = DecisionTreeClassifier()"
   ]
  },
  {
   "cell_type": "code",
   "execution_count": 91,
   "id": "047697db",
   "metadata": {},
   "outputs": [
    {
     "data": {
      "text/plain": [
       "DecisionTreeClassifier()"
      ]
     },
     "execution_count": 91,
     "metadata": {},
     "output_type": "execute_result"
    }
   ],
   "source": [
    "dt.fit(x_train, y_train)"
   ]
  },
  {
   "cell_type": "code",
   "execution_count": 92,
   "id": "a9d8331c",
   "metadata": {},
   "outputs": [],
   "source": [
    "pred_dt = dt.predict(x_test)"
   ]
  },
  {
   "cell_type": "code",
   "execution_count": 93,
   "id": "6bcab50f",
   "metadata": {},
   "outputs": [
    {
     "data": {
      "text/plain": [
       "array([[11030,   903,  4549],\n",
       "       [ 1230,  3960,  3279],\n",
       "       [ 3526,  2251, 82963]], dtype=int64)"
      ]
     },
     "execution_count": 93,
     "metadata": {},
     "output_type": "execute_result"
    }
   ],
   "source": [
    "confusion_matrix(y_test, pred_dt)"
   ]
  },
  {
   "cell_type": "code",
   "execution_count": 94,
   "id": "3f05ee48",
   "metadata": {},
   "outputs": [
    {
     "data": {
      "text/plain": [
       "0.8615721561073436"
      ]
     },
     "execution_count": 94,
     "metadata": {},
     "output_type": "execute_result"
    }
   ],
   "source": [
    "accuracy_score(y_test, pred_dt)"
   ]
  },
  {
   "cell_type": "code",
   "execution_count": null,
   "id": "924f0aa2",
   "metadata": {},
   "outputs": [],
   "source": [
    "#Random Forest"
   ]
  },
  {
   "cell_type": "code",
   "execution_count": 95,
   "id": "38ef687f",
   "metadata": {},
   "outputs": [],
   "source": [
    "from sklearn.ensemble import RandomForestClassifier\n",
    "rfc = RandomForestClassifier()"
   ]
  },
  {
   "cell_type": "code",
   "execution_count": 96,
   "id": "6ee40ba4",
   "metadata": {},
   "outputs": [
    {
     "data": {
      "text/plain": [
       "RandomForestClassifier()"
      ]
     },
     "execution_count": 96,
     "metadata": {},
     "output_type": "execute_result"
    }
   ],
   "source": [
    "rfc.fit(x_train, y_train)"
   ]
  },
  {
   "cell_type": "code",
   "execution_count": 97,
   "id": "5db58867",
   "metadata": {},
   "outputs": [],
   "source": [
    "pred_rfc = rfc.predict(x_test)"
   ]
  },
  {
   "cell_type": "code",
   "execution_count": 98,
   "id": "36113cb0",
   "metadata": {},
   "outputs": [
    {
     "data": {
      "text/plain": [
       "array([[11030,   903,  4549],\n",
       "       [ 1230,  3960,  3279],\n",
       "       [ 3526,  2251, 82963]], dtype=int64)"
      ]
     },
     "execution_count": 98,
     "metadata": {},
     "output_type": "execute_result"
    }
   ],
   "source": [
    "confusion_matrix(y_test, pred_dt)"
   ]
  },
  {
   "cell_type": "code",
   "execution_count": 99,
   "id": "b08979a7",
   "metadata": {},
   "outputs": [
    {
     "data": {
      "text/plain": [
       "0.8615721561073436"
      ]
     },
     "execution_count": 99,
     "metadata": {},
     "output_type": "execute_result"
    }
   ],
   "source": [
    "accuracy_score(y_test, pred_dt)"
   ]
  },
  {
   "cell_type": "code",
   "execution_count": null,
   "id": "fb0a0f86",
   "metadata": {},
   "outputs": [],
   "source": [
    "#Logistic Regression"
   ]
  },
  {
   "cell_type": "code",
   "execution_count": 101,
   "id": "88743caf",
   "metadata": {},
   "outputs": [],
   "source": [
    "from sklearn.linear_model import LogisticRegression\n",
    "log = LogisticRegression()"
   ]
  },
  {
   "cell_type": "code",
   "execution_count": 102,
   "id": "3f3e312c",
   "metadata": {},
   "outputs": [
    {
     "name": "stderr",
     "output_type": "stream",
     "text": [
      "C:\\Users\\DELL\\anaconda3\\lib\\site-packages\\sklearn\\linear_model\\_logistic.py:814: ConvergenceWarning: lbfgs failed to converge (status=1):\n",
      "STOP: TOTAL NO. of ITERATIONS REACHED LIMIT.\n",
      "\n",
      "Increase the number of iterations (max_iter) or scale the data as shown in:\n",
      "    https://scikit-learn.org/stable/modules/preprocessing.html\n",
      "Please also refer to the documentation for alternative solver options:\n",
      "    https://scikit-learn.org/stable/modules/linear_model.html#logistic-regression\n",
      "  n_iter_i = _check_optimize_result(\n"
     ]
    },
    {
     "data": {
      "text/plain": [
       "LogisticRegression()"
      ]
     },
     "execution_count": 102,
     "metadata": {},
     "output_type": "execute_result"
    }
   ],
   "source": [
    "log.fit(x_train, y_train)"
   ]
  },
  {
   "cell_type": "code",
   "execution_count": 104,
   "id": "990be3e3",
   "metadata": {},
   "outputs": [],
   "source": [
    "pred_log = log.predict(x_test)"
   ]
  },
  {
   "cell_type": "code",
   "execution_count": 107,
   "id": "bab00051",
   "metadata": {},
   "outputs": [
    {
     "data": {
      "text/plain": [
       "array([[11646,   797,  4039],\n",
       "       [ 1638,  2581,  4250],\n",
       "       [ 1896,  1251, 85593]], dtype=int64)"
      ]
     },
     "execution_count": 107,
     "metadata": {},
     "output_type": "execute_result"
    }
   ],
   "source": [
    "confusion_matrix(y_test, pred_log)"
   ]
  },
  {
   "cell_type": "code",
   "execution_count": 109,
   "id": "9b4eec50",
   "metadata": {},
   "outputs": [
    {
     "data": {
      "text/plain": [
       "0.8779938605518467"
      ]
     },
     "execution_count": 109,
     "metadata": {},
     "output_type": "execute_result"
    }
   ],
   "source": [
    "accuracy_score(y_test, pred_log)"
   ]
  },
  {
   "cell_type": "code",
   "execution_count": null,
   "id": "38695009",
   "metadata": {},
   "outputs": [],
   "source": [
    "#Results "
   ]
  },
  {
   "cell_type": "code",
   "execution_count": null,
   "id": "35f59777",
   "metadata": {},
   "outputs": [],
   "source": [
    "#On Text\n",
    "\n",
    "#Model showing good results on Random forest with around 88.31% accuracy but it is failing for class 1\n",
    "#But Decision tree model shows good result on Text with 85.91% accurancy and perform well in every class"
   ]
  },
  {
   "cell_type": "code",
   "execution_count": null,
   "id": "3d007fb8",
   "metadata": {},
   "outputs": [],
   "source": [
    "#On Summary\n",
    "\n",
    "#Model showing good results on Logistic Regression with around 87.79% accuracy but it is failing for class 1\n",
    "#But Random Forest model shows good result on Text with 86.15% accurancy and perform well in every class"
   ]
  },
  {
   "cell_type": "markdown",
   "id": "a85d5784",
   "metadata": {},
   "source": [
    "# LSTM"
   ]
  },
  {
   "cell_type": "code",
   "execution_count": 1,
   "id": "30a48097",
   "metadata": {},
   "outputs": [],
   "source": [
    "import pandas as pd\n",
    "import numpy as np\n",
    "import tensorflow as tf\n",
    "import keras\n",
    "from keras.models import Model, Sequential\n",
    "from keras.layers import Embedding, Dense, LSTM, RNN"
   ]
  },
  {
   "cell_type": "code",
   "execution_count": 2,
   "id": "b3507c3e",
   "metadata": {},
   "outputs": [],
   "source": [
    "amz = pd.read_csv(r\"G:\\Imarticus Learning\\Python - Pranjal\\NLP\\AmazonFoodReviews.csv\")"
   ]
  },
  {
   "cell_type": "code",
   "execution_count": 3,
   "id": "04813770",
   "metadata": {},
   "outputs": [
    {
     "data": {
      "text/html": [
       "<div>\n",
       "<style scoped>\n",
       "    .dataframe tbody tr th:only-of-type {\n",
       "        vertical-align: middle;\n",
       "    }\n",
       "\n",
       "    .dataframe tbody tr th {\n",
       "        vertical-align: top;\n",
       "    }\n",
       "\n",
       "    .dataframe thead th {\n",
       "        text-align: right;\n",
       "    }\n",
       "</style>\n",
       "<table border=\"1\" class=\"dataframe\">\n",
       "  <thead>\n",
       "    <tr style=\"text-align: right;\">\n",
       "      <th></th>\n",
       "      <th>Id</th>\n",
       "      <th>ProductId</th>\n",
       "      <th>UserId</th>\n",
       "      <th>ProfileName</th>\n",
       "      <th>HelpfulnessNumerator</th>\n",
       "      <th>HelpfulnessDenominator</th>\n",
       "      <th>Score</th>\n",
       "      <th>Time</th>\n",
       "      <th>Summary</th>\n",
       "      <th>Text</th>\n",
       "    </tr>\n",
       "  </thead>\n",
       "  <tbody>\n",
       "    <tr>\n",
       "      <th>0</th>\n",
       "      <td>1</td>\n",
       "      <td>B001E4KFG0</td>\n",
       "      <td>A3SGXH7AUHU8GW</td>\n",
       "      <td>delmartian</td>\n",
       "      <td>1</td>\n",
       "      <td>1</td>\n",
       "      <td>5</td>\n",
       "      <td>1303862400</td>\n",
       "      <td>Good Quality Dog Food</td>\n",
       "      <td>I have bought several of the Vitality canned d...</td>\n",
       "    </tr>\n",
       "    <tr>\n",
       "      <th>1</th>\n",
       "      <td>2</td>\n",
       "      <td>B00813GRG4</td>\n",
       "      <td>A1D87F6ZCVE5NK</td>\n",
       "      <td>dll pa</td>\n",
       "      <td>0</td>\n",
       "      <td>0</td>\n",
       "      <td>1</td>\n",
       "      <td>1346976000</td>\n",
       "      <td>Not as Advertised</td>\n",
       "      <td>Product arrived labeled as Jumbo Salted Peanut...</td>\n",
       "    </tr>\n",
       "    <tr>\n",
       "      <th>2</th>\n",
       "      <td>3</td>\n",
       "      <td>B000LQOCH0</td>\n",
       "      <td>ABXLMWJIXXAIN</td>\n",
       "      <td>Natalia Corres \"Natalia Corres\"</td>\n",
       "      <td>1</td>\n",
       "      <td>1</td>\n",
       "      <td>4</td>\n",
       "      <td>1219017600</td>\n",
       "      <td>\"Delight\" says it all</td>\n",
       "      <td>This is a confection that has been around a fe...</td>\n",
       "    </tr>\n",
       "    <tr>\n",
       "      <th>3</th>\n",
       "      <td>4</td>\n",
       "      <td>B000UA0QIQ</td>\n",
       "      <td>A395BORC6FGVXV</td>\n",
       "      <td>Karl</td>\n",
       "      <td>3</td>\n",
       "      <td>3</td>\n",
       "      <td>2</td>\n",
       "      <td>1307923200</td>\n",
       "      <td>Cough Medicine</td>\n",
       "      <td>If you are looking for the secret ingredient i...</td>\n",
       "    </tr>\n",
       "    <tr>\n",
       "      <th>4</th>\n",
       "      <td>5</td>\n",
       "      <td>B006K2ZZ7K</td>\n",
       "      <td>A1UQRSCLF8GW1T</td>\n",
       "      <td>Michael D. Bigham \"M. Wassir\"</td>\n",
       "      <td>0</td>\n",
       "      <td>0</td>\n",
       "      <td>5</td>\n",
       "      <td>1350777600</td>\n",
       "      <td>Great taffy</td>\n",
       "      <td>Great taffy at a great price.  There was a wid...</td>\n",
       "    </tr>\n",
       "  </tbody>\n",
       "</table>\n",
       "</div>"
      ],
      "text/plain": [
       "   Id   ProductId          UserId                      ProfileName  \\\n",
       "0   1  B001E4KFG0  A3SGXH7AUHU8GW                       delmartian   \n",
       "1   2  B00813GRG4  A1D87F6ZCVE5NK                           dll pa   \n",
       "2   3  B000LQOCH0   ABXLMWJIXXAIN  Natalia Corres \"Natalia Corres\"   \n",
       "3   4  B000UA0QIQ  A395BORC6FGVXV                             Karl   \n",
       "4   5  B006K2ZZ7K  A1UQRSCLF8GW1T    Michael D. Bigham \"M. Wassir\"   \n",
       "\n",
       "   HelpfulnessNumerator  HelpfulnessDenominator  Score        Time  \\\n",
       "0                     1                       1      5  1303862400   \n",
       "1                     0                       0      1  1346976000   \n",
       "2                     1                       1      4  1219017600   \n",
       "3                     3                       3      2  1307923200   \n",
       "4                     0                       0      5  1350777600   \n",
       "\n",
       "                 Summary                                               Text  \n",
       "0  Good Quality Dog Food  I have bought several of the Vitality canned d...  \n",
       "1      Not as Advertised  Product arrived labeled as Jumbo Salted Peanut...  \n",
       "2  \"Delight\" says it all  This is a confection that has been around a fe...  \n",
       "3         Cough Medicine  If you are looking for the secret ingredient i...  \n",
       "4            Great taffy  Great taffy at a great price.  There was a wid...  "
      ]
     },
     "execution_count": 3,
     "metadata": {},
     "output_type": "execute_result"
    }
   ],
   "source": [
    "amz.head()"
   ]
  },
  {
   "cell_type": "code",
   "execution_count": 4,
   "id": "e2825726",
   "metadata": {},
   "outputs": [
    {
     "data": {
      "text/html": [
       "<div>\n",
       "<style scoped>\n",
       "    .dataframe tbody tr th:only-of-type {\n",
       "        vertical-align: middle;\n",
       "    }\n",
       "\n",
       "    .dataframe tbody tr th {\n",
       "        vertical-align: top;\n",
       "    }\n",
       "\n",
       "    .dataframe thead th {\n",
       "        text-align: right;\n",
       "    }\n",
       "</style>\n",
       "<table border=\"1\" class=\"dataframe\">\n",
       "  <thead>\n",
       "    <tr style=\"text-align: right;\">\n",
       "      <th></th>\n",
       "      <th>Score</th>\n",
       "      <th>Text</th>\n",
       "    </tr>\n",
       "  </thead>\n",
       "  <tbody>\n",
       "    <tr>\n",
       "      <th>0</th>\n",
       "      <td>5</td>\n",
       "      <td>I have bought several of the Vitality canned d...</td>\n",
       "    </tr>\n",
       "    <tr>\n",
       "      <th>1</th>\n",
       "      <td>1</td>\n",
       "      <td>Product arrived labeled as Jumbo Salted Peanut...</td>\n",
       "    </tr>\n",
       "    <tr>\n",
       "      <th>2</th>\n",
       "      <td>4</td>\n",
       "      <td>This is a confection that has been around a fe...</td>\n",
       "    </tr>\n",
       "    <tr>\n",
       "      <th>3</th>\n",
       "      <td>2</td>\n",
       "      <td>If you are looking for the secret ingredient i...</td>\n",
       "    </tr>\n",
       "    <tr>\n",
       "      <th>4</th>\n",
       "      <td>5</td>\n",
       "      <td>Great taffy at a great price.  There was a wid...</td>\n",
       "    </tr>\n",
       "  </tbody>\n",
       "</table>\n",
       "</div>"
      ],
      "text/plain": [
       "   Score                                               Text\n",
       "0      5  I have bought several of the Vitality canned d...\n",
       "1      1  Product arrived labeled as Jumbo Salted Peanut...\n",
       "2      4  This is a confection that has been around a fe...\n",
       "3      2  If you are looking for the secret ingredient i...\n",
       "4      5  Great taffy at a great price.  There was a wid..."
      ]
     },
     "execution_count": 4,
     "metadata": {},
     "output_type": "execute_result"
    }
   ],
   "source": [
    "amz = amz.loc[:, ['Score', 'Text']]\n",
    "amz.head()"
   ]
  },
  {
   "cell_type": "code",
   "execution_count": 5,
   "id": "875d6ccf",
   "metadata": {},
   "outputs": [
    {
     "data": {
      "text/plain": [
       "5    363122\n",
       "4     80655\n",
       "1     52268\n",
       "3     42640\n",
       "2     29769\n",
       "Name: Score, dtype: int64"
      ]
     },
     "execution_count": 5,
     "metadata": {},
     "output_type": "execute_result"
    }
   ],
   "source": [
    "amz.Score.value_counts()"
   ]
  },
  {
   "cell_type": "code",
   "execution_count": 6,
   "id": "74134cdc",
   "metadata": {},
   "outputs": [],
   "source": [
    "amz.Score.replace({1:0,2:0,3:1,4:2,5:2}, inplace = True)"
   ]
  },
  {
   "cell_type": "code",
   "execution_count": 7,
   "id": "7f473afe",
   "metadata": {},
   "outputs": [
    {
     "data": {
      "text/plain": [
       "2    443777\n",
       "0     82037\n",
       "1     42640\n",
       "Name: Score, dtype: int64"
      ]
     },
     "execution_count": 7,
     "metadata": {},
     "output_type": "execute_result"
    }
   ],
   "source": [
    "amz.Score.value_counts()"
   ]
  },
  {
   "cell_type": "code",
   "execution_count": 8,
   "id": "25ac17bc",
   "metadata": {},
   "outputs": [],
   "source": [
    "amz_x = amz.iloc[:, 1]\n",
    "amz_y = amz.iloc[:, 0]\n",
    "\n",
    "from sklearn.model_selection import train_test_split\n",
    "\n",
    "x_train, x_test, y_train, y_test = train_test_split(amz_x, amz_y, test_size=.2)"
   ]
  },
  {
   "cell_type": "code",
   "execution_count": 9,
   "id": "84820807",
   "metadata": {},
   "outputs": [
    {
     "data": {
      "text/plain": [
       "((454763,), (113691,), (454763,), (113691,))"
      ]
     },
     "execution_count": 9,
     "metadata": {},
     "output_type": "execute_result"
    }
   ],
   "source": [
    "x_train.shape, x_test.shape, y_train.shape, y_test.shape"
   ]
  },
  {
   "cell_type": "code",
   "execution_count": 10,
   "id": "d8078e5a",
   "metadata": {},
   "outputs": [
    {
     "data": {
      "text/plain": [
       "2    355094\n",
       "0     65516\n",
       "1     34153\n",
       "Name: Score, dtype: int64"
      ]
     },
     "execution_count": 10,
     "metadata": {},
     "output_type": "execute_result"
    }
   ],
   "source": [
    "y_train.value_counts()"
   ]
  },
  {
   "cell_type": "code",
   "execution_count": 11,
   "id": "1256eed1",
   "metadata": {},
   "outputs": [],
   "source": [
    "from keras.preprocessing.text import Tokenizer  #Assign number to each word\n",
    "from keras.preprocessing.sequence import pad_sequences\n",
    "from tensorflow.keras.utils import to_categorical"
   ]
  },
  {
   "cell_type": "code",
   "execution_count": 12,
   "id": "9318e32e",
   "metadata": {},
   "outputs": [],
   "source": [
    "y_train = to_categorical(y_train)"
   ]
  },
  {
   "cell_type": "code",
   "execution_count": 13,
   "id": "8d375010",
   "metadata": {},
   "outputs": [
    {
     "data": {
      "text/plain": [
       "array([[0., 0., 1.],\n",
       "       [1., 0., 0.],\n",
       "       [0., 0., 1.],\n",
       "       ...,\n",
       "       [0., 1., 0.],\n",
       "       [0., 0., 1.],\n",
       "       [1., 0., 0.]], dtype=float32)"
      ]
     },
     "execution_count": 13,
     "metadata": {},
     "output_type": "execute_result"
    }
   ],
   "source": [
    "y_train"
   ]
  },
  {
   "cell_type": "code",
   "execution_count": 14,
   "id": "78185a4b",
   "metadata": {},
   "outputs": [],
   "source": [
    "max_num_words  = 20000 #total how many words to be considered from the corpus(collection of documents)\n",
    "seq_len        = 100   #how many words to be taken from each document\n",
    "embedding_size = 200   #vector lengh (embedding size) for each word"
   ]
  },
  {
   "cell_type": "code",
   "execution_count": 15,
   "id": "7bb4f0a1",
   "metadata": {},
   "outputs": [],
   "source": [
    "tokenizer = Tokenizer(num_words = max_num_words)\n",
    "tokenizer.fit_on_texts(amz.Text)\n",
    "x_train = tokenizer.texts_to_sequences(x_train)\n",
    "x_train = pad_sequences(x_train, maxlen = seq_len)"
   ]
  },
  {
   "cell_type": "code",
   "execution_count": 16,
   "id": "16e362b2",
   "metadata": {},
   "outputs": [
    {
     "name": "stderr",
     "output_type": "stream",
     "text": [
      "WARNING:absl:`lr` is deprecated in Keras optimizer, please use `learning_rate` or use the legacy optimizer, e.g.,tf.keras.optimizers.legacy.Adam.\n"
     ]
    }
   ],
   "source": [
    "model = Sequential()  # iniitialize the network\n",
    "model.add(Embedding( input_dim = max_num_words,    \n",
    "                     input_length = seq_len,\n",
    "                     output_dim = embedding_size))\n",
    "model.add(LSTM(5))   #If we want to perform RNN then simply replace LSTM to RNN but recommended\n",
    "model.add(Dense(3 , activation  = 'softmax'))   # final layer\n",
    "from tensorflow.keras.optimizers import Adam\n",
    "adam = Adam(lr = .001)\n",
    "model.compile(optimizer= adam , loss = 'categorical_crossentropy' , metrics = ['accuracy'])"
   ]
  },
  {
   "cell_type": "code",
   "execution_count": 17,
   "id": "81a8f881",
   "metadata": {},
   "outputs": [
    {
     "data": {
      "text/plain": [
       "(454763, 100)"
      ]
     },
     "execution_count": 17,
     "metadata": {},
     "output_type": "execute_result"
    }
   ],
   "source": [
    "x_train.shape"
   ]
  },
  {
   "cell_type": "code",
   "execution_count": 18,
   "id": "bcada0d0",
   "metadata": {},
   "outputs": [
    {
     "data": {
      "text/plain": [
       "(454763, 3)"
      ]
     },
     "execution_count": 18,
     "metadata": {},
     "output_type": "execute_result"
    }
   ],
   "source": [
    "y_train.shape"
   ]
  },
  {
   "cell_type": "code",
   "execution_count": 19,
   "id": "e858ef12",
   "metadata": {},
   "outputs": [
    {
     "data": {
      "text/plain": [
       "array([[0., 0., 1.],\n",
       "       [1., 0., 0.],\n",
       "       [0., 0., 1.],\n",
       "       ...,\n",
       "       [0., 1., 0.],\n",
       "       [0., 0., 1.],\n",
       "       [1., 0., 0.]], dtype=float32)"
      ]
     },
     "execution_count": 19,
     "metadata": {},
     "output_type": "execute_result"
    }
   ],
   "source": [
    "y_train"
   ]
  },
  {
   "cell_type": "code",
   "execution_count": 20,
   "id": "2b0b9e6c",
   "metadata": {},
   "outputs": [
    {
     "name": "stdout",
     "output_type": "stream",
     "text": [
      "Epoch 1/4\n",
      "2843/2843 [==============================] - 522s 182ms/step - loss: 0.4186 - accuracy: 0.8451 - val_loss: 0.3384 - val_accuracy: 0.8743\n",
      "Epoch 2/4\n",
      "2843/2843 [==============================] - 479s 168ms/step - loss: 0.2893 - accuracy: 0.8934 - val_loss: 0.3002 - val_accuracy: 0.8923\n",
      "Epoch 3/4\n",
      "2843/2843 [==============================] - 459s 161ms/step - loss: 0.2383 - accuracy: 0.9135 - val_loss: 0.2931 - val_accuracy: 0.8977\n",
      "Epoch 4/4\n",
      "2843/2843 [==============================] - 432s 152ms/step - loss: 0.2050 - accuracy: 0.9265 - val_loss: 0.2996 - val_accuracy: 0.8974\n"
     ]
    },
    {
     "data": {
      "text/plain": [
       "<keras.src.callbacks.History at 0x274ac4608e0>"
      ]
     },
     "execution_count": 20,
     "metadata": {},
     "output_type": "execute_result"
    }
   ],
   "source": [
    "model.fit(x_train, y_train, epochs=4, batch_size = 128, validation_split=.2)"
   ]
  },
  {
   "cell_type": "code",
   "execution_count": 83,
   "id": "18a13738",
   "metadata": {},
   "outputs": [],
   "source": [
    "x_test = tokenizer.texts_to_sequences(x_test)\n",
    "x_test = pad_sequences(x_test, maxlen=seq_len)"
   ]
  },
  {
   "cell_type": "code",
   "execution_count": 84,
   "id": "812f622a",
   "metadata": {},
   "outputs": [],
   "source": [
    "from sklearn.metrics import confusion_matrix, accuracy_score"
   ]
  },
  {
   "cell_type": "code",
   "execution_count": 85,
   "id": "9fd295fd",
   "metadata": {},
   "outputs": [
    {
     "name": "stdout",
     "output_type": "stream",
     "text": [
      "3553/3553 [==============================] - 67s 17ms/step\n"
     ]
    }
   ],
   "source": [
    "pred_prob = model.predict(x_test)"
   ]
  },
  {
   "cell_type": "code",
   "execution_count": 86,
   "id": "3369f262",
   "metadata": {},
   "outputs": [],
   "source": [
    "pred_classes = pred_prob.argmax(axis = 1)"
   ]
  },
  {
   "cell_type": "code",
   "execution_count": 87,
   "id": "ef89bd73",
   "metadata": {},
   "outputs": [
    {
     "data": {
      "text/plain": [
       "array([[12771,  1060,  2806],\n",
       "       [ 1466,  3357,  3650],\n",
       "       [ 1527,  1032, 86022]], dtype=int64)"
      ]
     },
     "execution_count": 87,
     "metadata": {},
     "output_type": "execute_result"
    }
   ],
   "source": [
    "tab1 = confusion_matrix(y_test, pred_classes)\n",
    "tab1"
   ]
  },
  {
   "cell_type": "code",
   "execution_count": 88,
   "id": "32059494",
   "metadata": {},
   "outputs": [
    {
     "data": {
      "text/plain": [
       "89.84880069662506"
      ]
     },
     "execution_count": 88,
     "metadata": {},
     "output_type": "execute_result"
    }
   ],
   "source": [
    "tab1.diagonal().sum()*100/tab1.sum()"
   ]
  },
  {
   "cell_type": "code",
   "execution_count": null,
   "id": "3c233abb",
   "metadata": {},
   "outputs": [],
   "source": []
  }
 ],
 "metadata": {
  "kernelspec": {
   "display_name": "Python 3 (ipykernel)",
   "language": "python",
   "name": "python3"
  },
  "language_info": {
   "codemirror_mode": {
    "name": "ipython",
    "version": 3
   },
   "file_extension": ".py",
   "mimetype": "text/x-python",
   "name": "python",
   "nbconvert_exporter": "python",
   "pygments_lexer": "ipython3",
   "version": "3.9.13"
  }
 },
 "nbformat": 4,
 "nbformat_minor": 5
}
