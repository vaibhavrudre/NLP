{
 "cells": [
  {
   "cell_type": "markdown",
   "id": "c87d98e9",
   "metadata": {},
   "source": [
    "## About the dataset - IMDB Movies"
   ]
  },
  {
   "cell_type": "markdown",
   "id": "3ddd8537",
   "metadata": {},
   "source": [
    "IMDB dataset having 50K movie reviews for natural language processing or Text analytics.\n",
    "This is a dataset for binary sentiment classification containing substantially more data than previous benchmark datasets. We provide a set of 25,000 highly polar movie reviews for training and 25,000 for testing. So, predict the number of positive and negative reviews using classification."
   ]
  },
  {
   "cell_type": "markdown",
   "id": "221669ca",
   "metadata": {},
   "source": [
    "### Import the basic libraries"
   ]
  },
  {
   "cell_type": "code",
   "execution_count": 2,
   "id": "9ff1dcfb",
   "metadata": {},
   "outputs": [],
   "source": [
    "import pandas as pd\n",
    "import numpy as np\n",
    "import matplotlib.pyplot as plt\n",
    "import seaborn as sns\n",
    "import random\n",
    "import regex as re\n",
    "#below code is for not showing up any warnings that might appear for the ongoing improvements in functions\n",
    "import warnings\n",
    "warnings.filterwarnings('ignore')"
   ]
  },
  {
   "cell_type": "markdown",
   "id": "a9a92712",
   "metadata": {},
   "source": [
    "### Import the dataset in the form of dataframe"
   ]
  },
  {
   "cell_type": "markdown",
   "id": "423108b3",
   "metadata": {},
   "source": [
    "I have downloaded a dataset on movie reviews from Kaggle. Movie dataset is the most commonly used dataset for sentiment classification learning."
   ]
  },
  {
   "cell_type": "code",
   "execution_count": 3,
   "id": "de1446c6",
   "metadata": {},
   "outputs": [],
   "source": [
    "#Reading the csv file into the dataframe\n",
    "df = pd.read_csv(r'G:\\Imarticus Learning\\Projects\\NLP\\IMDB Dataset.csv')"
   ]
  },
  {
   "cell_type": "code",
   "execution_count": 4,
   "id": "154ddc68",
   "metadata": {},
   "outputs": [
    {
     "data": {
      "text/html": [
       "<div>\n",
       "<style scoped>\n",
       "    .dataframe tbody tr th:only-of-type {\n",
       "        vertical-align: middle;\n",
       "    }\n",
       "\n",
       "    .dataframe tbody tr th {\n",
       "        vertical-align: top;\n",
       "    }\n",
       "\n",
       "    .dataframe thead th {\n",
       "        text-align: right;\n",
       "    }\n",
       "</style>\n",
       "<table border=\"1\" class=\"dataframe\">\n",
       "  <thead>\n",
       "    <tr style=\"text-align: right;\">\n",
       "      <th></th>\n",
       "      <th>review</th>\n",
       "      <th>sentiment</th>\n",
       "    </tr>\n",
       "  </thead>\n",
       "  <tbody>\n",
       "    <tr>\n",
       "      <th>0</th>\n",
       "      <td>One of the other reviewers has mentioned that ...</td>\n",
       "      <td>positive</td>\n",
       "    </tr>\n",
       "    <tr>\n",
       "      <th>1</th>\n",
       "      <td>A wonderful little production. &lt;br /&gt;&lt;br /&gt;The...</td>\n",
       "      <td>positive</td>\n",
       "    </tr>\n",
       "    <tr>\n",
       "      <th>2</th>\n",
       "      <td>I thought this was a wonderful way to spend ti...</td>\n",
       "      <td>positive</td>\n",
       "    </tr>\n",
       "    <tr>\n",
       "      <th>3</th>\n",
       "      <td>Basically there's a family where a little boy ...</td>\n",
       "      <td>negative</td>\n",
       "    </tr>\n",
       "    <tr>\n",
       "      <th>4</th>\n",
       "      <td>Petter Mattei's \"Love in the Time of Money\" is...</td>\n",
       "      <td>positive</td>\n",
       "    </tr>\n",
       "  </tbody>\n",
       "</table>\n",
       "</div>"
      ],
      "text/plain": [
       "                                              review sentiment\n",
       "0  One of the other reviewers has mentioned that ...  positive\n",
       "1  A wonderful little production. <br /><br />The...  positive\n",
       "2  I thought this was a wonderful way to spend ti...  positive\n",
       "3  Basically there's a family where a little boy ...  negative\n",
       "4  Petter Mattei's \"Love in the Time of Money\" is...  positive"
      ]
     },
     "execution_count": 4,
     "metadata": {},
     "output_type": "execute_result"
    }
   ],
   "source": [
    "#Let's look into the records\n",
    "df.head()"
   ]
  },
  {
   "cell_type": "code",
   "execution_count": 5,
   "id": "9ea1e515",
   "metadata": {},
   "outputs": [],
   "source": [
    "df.sentiment.replace({'positive':1, 'negative':0}, inplace = True)"
   ]
  },
  {
   "cell_type": "code",
   "execution_count": 6,
   "id": "86694c7e",
   "metadata": {},
   "outputs": [
    {
     "data": {
      "text/html": [
       "<div>\n",
       "<style scoped>\n",
       "    .dataframe tbody tr th:only-of-type {\n",
       "        vertical-align: middle;\n",
       "    }\n",
       "\n",
       "    .dataframe tbody tr th {\n",
       "        vertical-align: top;\n",
       "    }\n",
       "\n",
       "    .dataframe thead th {\n",
       "        text-align: right;\n",
       "    }\n",
       "</style>\n",
       "<table border=\"1\" class=\"dataframe\">\n",
       "  <thead>\n",
       "    <tr style=\"text-align: right;\">\n",
       "      <th></th>\n",
       "      <th>review</th>\n",
       "      <th>sentiment</th>\n",
       "    </tr>\n",
       "  </thead>\n",
       "  <tbody>\n",
       "    <tr>\n",
       "      <th>0</th>\n",
       "      <td>One of the other reviewers has mentioned that ...</td>\n",
       "      <td>1</td>\n",
       "    </tr>\n",
       "    <tr>\n",
       "      <th>1</th>\n",
       "      <td>A wonderful little production. &lt;br /&gt;&lt;br /&gt;The...</td>\n",
       "      <td>1</td>\n",
       "    </tr>\n",
       "    <tr>\n",
       "      <th>2</th>\n",
       "      <td>I thought this was a wonderful way to spend ti...</td>\n",
       "      <td>1</td>\n",
       "    </tr>\n",
       "    <tr>\n",
       "      <th>3</th>\n",
       "      <td>Basically there's a family where a little boy ...</td>\n",
       "      <td>0</td>\n",
       "    </tr>\n",
       "    <tr>\n",
       "      <th>4</th>\n",
       "      <td>Petter Mattei's \"Love in the Time of Money\" is...</td>\n",
       "      <td>1</td>\n",
       "    </tr>\n",
       "  </tbody>\n",
       "</table>\n",
       "</div>"
      ],
      "text/plain": [
       "                                              review  sentiment\n",
       "0  One of the other reviewers has mentioned that ...          1\n",
       "1  A wonderful little production. <br /><br />The...          1\n",
       "2  I thought this was a wonderful way to spend ti...          1\n",
       "3  Basically there's a family where a little boy ...          0\n",
       "4  Petter Mattei's \"Love in the Time of Money\" is...          1"
      ]
     },
     "execution_count": 6,
     "metadata": {},
     "output_type": "execute_result"
    }
   ],
   "source": [
    "df.head()"
   ]
  },
  {
   "cell_type": "markdown",
   "id": "324c1066",
   "metadata": {},
   "source": [
    "Now, the sentiments marked as 1 are positive and those that are 0 are negative. This is how it has been labeled and you will get this information when you download it from the site."
   ]
  },
  {
   "cell_type": "code",
   "execution_count": 7,
   "id": "40165d9f",
   "metadata": {},
   "outputs": [
    {
     "data": {
      "text/plain": [
       "(50000, 2)"
      ]
     },
     "execution_count": 7,
     "metadata": {},
     "output_type": "execute_result"
    }
   ],
   "source": [
    "#checking number of rows and columns \n",
    "df.shape"
   ]
  },
  {
   "cell_type": "code",
   "execution_count": 8,
   "id": "3bf3d4ad",
   "metadata": {},
   "outputs": [
    {
     "name": "stdout",
     "output_type": "stream",
     "text": [
      "<class 'pandas.core.frame.DataFrame'>\n",
      "RangeIndex: 50000 entries, 0 to 49999\n",
      "Data columns (total 2 columns):\n",
      " #   Column     Non-Null Count  Dtype \n",
      "---  ------     --------------  ----- \n",
      " 0   review     50000 non-null  object\n",
      " 1   sentiment  50000 non-null  int64 \n",
      "dtypes: int64(1), object(1)\n",
      "memory usage: 781.4+ KB\n"
     ]
    }
   ],
   "source": [
    "#Checking the information of dataset\n",
    "df.info()"
   ]
  },
  {
   "cell_type": "markdown",
   "id": "9eeabf4a",
   "metadata": {},
   "source": [
    "The dataset does not contain Null data. Good for us! Let’s move on to see the number of positive and negative feedbacks."
   ]
  },
  {
   "cell_type": "code",
   "execution_count": 9,
   "id": "b99b5bed",
   "metadata": {},
   "outputs": [
    {
     "data": {
      "text/plain": [
       "1    25000\n",
       "0    25000\n",
       "Name: sentiment, dtype: int64"
      ]
     },
     "execution_count": 9,
     "metadata": {},
     "output_type": "execute_result"
    }
   ],
   "source": [
    "df.sentiment.value_counts()"
   ]
  },
  {
   "cell_type": "markdown",
   "id": "f4556351",
   "metadata": {},
   "source": [
    "There are 25000 negative comments and 25000 positive comments. Since the presence of both types of feedbac same, we will not be performing sampling in the dataset. However, we might get more accuracy if we do perform sampling. Let’s plot the sentiment numbers."
   ]
  },
  {
   "cell_type": "code",
   "execution_count": 10,
   "id": "9dd75bcf",
   "metadata": {},
   "outputs": [
    {
     "data": {
      "image/png": "[encoded data removed]",
      "text/plain": [
       "<Figure size 640x480 with 1 Axes>"
      ]
     },
     "metadata": {},
     "output_type": "display_data"
    }
   ],
   "source": [
    "sns.countplot(x = 'sentiment', data = df)\n",
    "plt.xlabel('Sentiments')\n",
    "\n",
    "plt.show()"
   ]
  },
  {
   "cell_type": "markdown",
   "id": "bc9c6e89",
   "metadata": {},
   "source": [
    "### Text Processing"
   ]
  },
  {
   "cell_type": "markdown",
   "id": "b1fbc47b",
   "metadata": {},
   "source": [
    "When we are using text data, we do not have features as we would see in structured tabular data. Thus, we need some measures to get the features out of the text data with us. What if we can take each word from a sentence and get some kind of measure by which we can find out if the word exists in another sentence or not and also its importance? This is certainly possible by the process called the Bag Of Word Model. That is, each sentence in our movie review dataset is treated as a bag of words, thus each sentence is called a document. All the documents together make up a corpus.\n",
    "\n",
    "We will first create a dictionary of all the unique words used in the corpus (which means all the documents or reviews present in the dataset). We do not consider grammar like the, an, is, etc., while making the word count, since this does not hold any significant importance in understanding the text context. Then we will convert all the documents (individual reviews) into vectors which will represent the presence of words from our dictionary in the particular documents.\n",
    "There are three ways to identify the importance of words in the BoW model -"
   ]
  },
  {
   "cell_type": "markdown",
   "id": "66f027df",
   "metadata": {},
   "source": [
    "1.Count Vector Model\n"
   ]
  },
  {
   "cell_type": "markdown",
   "id": "dc756dfc",
   "metadata": {},
   "source": [
    "2.Term Frequency Vector Model — tf"
   ]
  },
  {
   "cell_type": "markdown",
   "id": "9072b3c7",
   "metadata": {},
   "source": [
    "3.Term Frequency-Inverse Document Frequency Model — tf-idf"
   ]
  },
  {
   "cell_type": "markdown",
   "id": "8d2ab691",
   "metadata": {},
   "source": [
    "The Count Vector Model will count the number of appearances of the words in a full sentence. Its better to understand visually, so suppose we have the below statements -\n",
    "review1 = ‘Movie was very very good’\n",
    "review2 = ‘Movie was disappointing’\n",
    "In the count vector model, the reviews will show up as such -"
   ]
  },
  {
   "cell_type": "code",
   "execution_count": 11,
   "id": "a4c19989",
   "metadata": {},
   "outputs": [
    {
     "data": {
      "image/jpeg": "[encoded data removed]",
      "text/plain": [
       "<IPython.core.display.Image object>"
      ]
     },
     "execution_count": 11,
     "metadata": {
      "image/jpeg": {
       "height": 100,
       "width": 600
      }
     },
     "output_type": "execute_result"
    }
   ],
   "source": [
    "from IPython.display import Image\n",
    "Image(filename=r'C:\\Users\\DELL\\Downloads\\NLP.jpg', width=600, height=100)"
   ]
  },
  {
   "cell_type": "markdown",
   "id": "2b4e3240",
   "metadata": {},
   "source": [
    "Term Frequency Model — In this, the frequency of each word is calculated in each document (or sentence) with respect to the total number of words observed in the full document. It is given by -\n",
    "TF = Number of occurrences of a word in an ith document / Total number of words in the ith document"
   ]
  },
  {
   "cell_type": "markdown",
   "id": "cf932780",
   "metadata": {},
   "source": [
    "Term Frequency-Inverse Document Frequency Model — TFIDF measures the importance of the word in a particular sentence. The importance of a word in a sentence is directly proportional to its number of presence in the document and is inversely proportional to the frequency of the same word in full corpus. It is given by -\n",
    "TF-IDF = TF x ln (1+N/Ni), where N is the total number of documents in the corpus and Ni is the document which is containing the word i."
   ]
  },
  {
   "cell_type": "markdown",
   "id": "399ed328",
   "metadata": {},
   "source": [
    "## Count Vectorizer — Bag Of Word Model"
   ]
  },
  {
   "cell_type": "code",
   "execution_count": 12,
   "id": "c2daca61",
   "metadata": {},
   "outputs": [
    {
     "data": {
      "text/plain": [
       "array(['00', '000', '00000000000', ..., 'żmijewski', 'יגאל', 'כרמון'],\n",
       "      dtype=object)"
      ]
     },
     "execution_count": 12,
     "metadata": {},
     "output_type": "execute_result"
    }
   ],
   "source": [
    "from sklearn.feature_extraction.text import CountVectorizer\n",
    "\n",
    "#initializing the CountVectorizer\n",
    "count_vector = CountVectorizer()\n",
    "\n",
    "#creating dictionary of words from the corpus\n",
    "features = count_vector.fit(df['review'])\n",
    "\n",
    "#Let's see the feature names extracted by the CountVectorizer\n",
    "feature_names = features.get_feature_names_out()\n",
    "feature_names"
   ]
  },
  {
   "cell_type": "code",
   "execution_count": 13,
   "id": "1dcd901a",
   "metadata": {},
   "outputs": [
    {
     "name": "stdout",
     "output_type": "stream",
     "text": [
      "Total Number of features extracted are -  101895\n"
     ]
    }
   ],
   "source": [
    "print('Total Number of features extracted are - ',len(feature_names))"
   ]
  },
  {
   "cell_type": "markdown",
   "id": "c4b52dc4",
   "metadata": {},
   "source": [
    "This represents the presence of 101895 unique features in our dataset. This is because we have not cleaned the texts out of unwanted texts."
   ]
  },
  {
   "cell_type": "code",
   "execution_count": 14,
   "id": "a4063d2b",
   "metadata": {},
   "outputs": [
    {
     "data": {
      "text/plain": [
       "['sarlo',\n",
       " 'ep',\n",
       " 'timesplitters',\n",
       " 'chirin',\n",
       " 'sanctify',\n",
       " 'desensitised',\n",
       " 'chortles',\n",
       " 'berger',\n",
       " 'levens',\n",
       " 'intently']"
      ]
     },
     "execution_count": 14,
     "metadata": {},
     "output_type": "execute_result"
    }
   ],
   "source": [
    "#Let's randomly pickup 10 feature names out of it\n",
    "random.sample(set(feature_names), 10)"
   ]
  },
  {
   "cell_type": "markdown",
   "id": "c0fb0305",
   "metadata": {},
   "source": [
    "As we can see these are the feature names and not the vector form of it. We have to convert the features into their vector form."
   ]
  },
  {
   "cell_type": "code",
   "execution_count": 15,
   "id": "bd546a63",
   "metadata": {},
   "outputs": [
    {
     "data": {
      "text/plain": [
       "(50000, 101895)"
      ]
     },
     "execution_count": 15,
     "metadata": {},
     "output_type": "execute_result"
    }
   ],
   "source": [
    "feature_vector = count_vector.transform(df['review'])\n",
    "feature_vector.shape"
   ]
  },
  {
   "cell_type": "markdown",
   "id": "2cb3503c",
   "metadata": {},
   "source": [
    "From the shape, we can see that all the 50000 documents are represented by 101895 features (which are unique words). For the words which are present in the document, the corresponding feature will carry the number of times that word has appeared in the document. If the word is not present then the feature gets 0 value. As a result we turn up getting a lot of 0s in the vector data. In order to know the number of 0s present in the feature vector, do as below —"
   ]
  },
  {
   "cell_type": "code",
   "execution_count": 16,
   "id": "28d1eb46",
   "metadata": {},
   "outputs": [
    {
     "data": {
      "text/plain": [
       "6826529"
      ]
     },
     "execution_count": 16,
     "metadata": {},
     "output_type": "execute_result"
    }
   ],
   "source": [
    "feature_vector.getnnz()"
   ]
  },
  {
   "cell_type": "code",
   "execution_count": 17,
   "id": "75686acf",
   "metadata": {},
   "outputs": [
    {
     "data": {
      "text/plain": [
       "0.0013399144217086216"
      ]
     },
     "execution_count": 17,
     "metadata": {},
     "output_type": "execute_result"
    }
   ],
   "source": [
    "# To get the non-zero value density in the document\n",
    "feature_vector.getnnz()/(feature_vector.shape[0]*feature_vector.shape[1])"
   ]
  },
  {
   "cell_type": "markdown",
   "id": "8379dbab",
   "metadata": {},
   "source": [
    "There are so less non zero values in our feature vector! Most of it are zero! You can visualize your sparse matrix as below —"
   ]
  },
  {
   "cell_type": "code",
   "execution_count": 18,
   "id": "f33b7244",
   "metadata": {},
   "outputs": [
    {
     "data": {
      "image/jpeg": "[encoded data removed]",
      "text/plain": [
       "<IPython.core.display.Image object>"
      ]
     },
     "execution_count": 18,
     "metadata": {
      "image/jpeg": {
       "height": 100,
       "width": 600
      }
     },
     "output_type": "execute_result"
    }
   ],
   "source": [
    "from IPython.display import Image\n",
    "Image(filename=r'C:\\Users\\DELL\\Downloads\\Matrix.jpg', width=600, height=100)"
   ]
  },
  {
   "cell_type": "markdown",
   "id": "4ea24696",
   "metadata": {},
   "source": [
    "### Stopwords Removal"
   ]
  },
  {
   "cell_type": "markdown",
   "id": "d2f72359",
   "metadata": {},
   "source": [
    "Need to remove the stop words from the sentences since they do not hold any essential meaning. Stop words are words like the, an, was, is, etc. This will reduce the number of features. We will import the stopwords from nltk library -"
   ]
  },
  {
   "cell_type": "code",
   "execution_count": 19,
   "id": "7cbcdde5",
   "metadata": {},
   "outputs": [],
   "source": [
    "from nltk.corpus import stopwords"
   ]
  },
  {
   "cell_type": "code",
   "execution_count": 20,
   "id": "27eb5457",
   "metadata": {},
   "outputs": [],
   "source": [
    "#since the reviews are in english, stopwords will be in english that we need to set as below -\n",
    "all_stopwords = set(stopwords.words('english'))"
   ]
  },
  {
   "cell_type": "code",
   "execution_count": 21,
   "id": "4c6c482a",
   "metadata": {},
   "outputs": [
    {
     "data": {
      "text/plain": [
       "['same',\n",
       " 'don',\n",
       " 'were',\n",
       " \"you're\",\n",
       " 'couldn',\n",
       " 'any',\n",
       " 'their',\n",
       " 'should',\n",
       " 'am',\n",
       " \"you'll\"]"
      ]
     },
     "execution_count": 21,
     "metadata": {},
     "output_type": "execute_result"
    }
   ],
   "source": [
    "#this is how stop words looks like - \n",
    "list(all_stopwords)[:10]"
   ]
  },
  {
   "cell_type": "markdown",
   "id": "48dc5892",
   "metadata": {},
   "source": [
    "Now we will again start from the beginning that is we will again call the countvectorizer but this time with an additional parameter of stop_words which will stop the stopwords from appearing in the count vector —"
   ]
  },
  {
   "cell_type": "code",
   "execution_count": 22,
   "id": "5ee913d0",
   "metadata": {},
   "outputs": [
    {
     "data": {
      "text/plain": [
       "(50000, 101750)"
      ]
     },
     "execution_count": 22,
     "metadata": {},
     "output_type": "execute_result"
    }
   ],
   "source": [
    "count_vector2 = CountVectorizer(stop_words=list(all_stopwords))\n",
    "feature_names2 = count_vector2.fit(df['review'])\n",
    "\n",
    "feature_vector2 = count_vector2.transform(df['review'])\n",
    "feature_vector2.shape"
   ]
  },
  {
   "cell_type": "markdown",
   "id": "5041afed",
   "metadata": {},
   "source": [
    "Previously, the number of features were 101895 and now its 101750. The is a slight reduction. We need to reduce more."
   ]
  },
  {
   "cell_type": "markdown",
   "id": "b24b6e86",
   "metadata": {},
   "source": [
    "If we look into the features then we will observe that there are many non english words and numbers which is polluting the dataset. Let’s clear them up"
   ]
  },
  {
   "cell_type": "code",
   "execution_count": 28,
   "id": "f2947622",
   "metadata": {},
   "outputs": [],
   "source": [
    "#we will use the regex module to go through each document and look for the non english characters and will replace them with a space in our document\n",
    "for word in df.review[:][:10]:\n",
    "    review = re.sub('[^a-zA-Z]',' ',word)"
   ]
  },
  {
   "cell_type": "markdown",
   "id": "9504e65c",
   "metadata": {},
   "source": [
    "Now its a good idea to turn all the words in the review sentence in lowercase and then remove the stopwords since vectorizer tends to create two vectors for say hello and HELLO due to differences in cases."
   ]
  },
  {
   "cell_type": "code",
   "execution_count": 29,
   "id": "b0de26ea",
   "metadata": {},
   "outputs": [],
   "source": [
    "sentences = []\n",
    "for word in df.review:\n",
    "    review = re.sub('[^a-zA-Z]',' ',word)\n",
    "    review = review.lower()\n",
    "    sentences.append(review)"
   ]
  },
  {
   "cell_type": "markdown",
   "id": "d2aacd86",
   "metadata": {},
   "source": [
    "sentences are now cleaned form of df[‘review’]. Let’s apply counvectorizer after removing the stop words from sentences and observe the difference in features."
   ]
  },
  {
   "cell_type": "code",
   "execution_count": 30,
   "id": "0f9a2469",
   "metadata": {},
   "outputs": [
    {
     "data": {
      "text/plain": [
       "(50000, 99255)"
      ]
     },
     "execution_count": 30,
     "metadata": {},
     "output_type": "execute_result"
    }
   ],
   "source": [
    "count_vector3 = CountVectorizer(stop_words=list(all_stopwords))\n",
    "feature_names3 = count_vector3.fit(sentences)\n",
    "feature_vector3 = count_vector3.transform(sentences)\n",
    "feature_vector3.shape"
   ]
  },
  {
   "cell_type": "markdown",
   "id": "5d890f31",
   "metadata": {},
   "source": [
    "Features has reduced from 101750 to 99255. Not a big difference! Let’s see the feature along with its count once —"
   ]
  },
  {
   "cell_type": "markdown",
   "id": "ae837874",
   "metadata": {},
   "source": [
    "### Stemming and Lemmatization"
   ]
  },
  {
   "cell_type": "markdown",
   "id": "d46a6da0",
   "metadata": {},
   "source": [
    "Stemming is the process of reducing the words to their root form. Stemming chops the end portion of the word and brings it back to its root form since vectorizer treats similar meaning words but differently written as two different features. For example, love, loving, and loved all have similar meanings in different forms. Stemmer will chop off each word to its root form of love. This will lead to the creation of a single feature instead of 3. One problem with stemming is that the words created after stemming are not a part of the vocabulary and stemming also cannot convert the words considering their morphological meaning. For example, both women and woman relate to the same thing but Stemmer cannot understand that. However, lemmatization takes the morphological analysis of the words into consideration. It uses the dictionary to convert the words into its root word. For example, lemmatization can understand woman and women belong to the same entity and will reduce these to woman."
   ]
  },
  {
   "cell_type": "markdown",
   "id": "150efd82",
   "metadata": {},
   "source": [
    "Let’s work with stemmer first. There are two algorithms for it — PorterStemmer and LancasterStemmer"
   ]
  },
  {
   "cell_type": "code",
   "execution_count": 31,
   "id": "5a379637",
   "metadata": {},
   "outputs": [
    {
     "data": {
      "text/plain": [
       "(50000, 68997)"
      ]
     },
     "execution_count": 31,
     "metadata": {},
     "output_type": "execute_result"
    }
   ],
   "source": [
    "from nltk.stem.porter import PorterStemmer\n",
    "#object for porterstemmer is needed\n",
    "ps = PorterStemmer()\n",
    "\n",
    "# we have sentences turned into lowercase now we will stem individual words and then look into if its a stop word or not.\n",
    "# we will create a list removing all the stop words\n",
    "sentences_stemmed = []\n",
    "for reviews in sentences:\n",
    "    reviews1 = [ps.stem(word) for word in reviews.split() if not word in all_stopwords]\n",
    "    sentences_stemmed.append(' '.join(reviews1))\n",
    "\n",
    "#Let's call the Countvectorizer process now \n",
    "count_vector4 = CountVectorizer() \n",
    "feature_names4 = count_vector4.fit(sentences_stemmed) \n",
    "feature_vector4 = count_vector4.transform(sentences_stemmed)\n",
    "\n",
    "feature_vector4.shape\n"
   ]
  },
  {
   "cell_type": "markdown",
   "id": "061212ea",
   "metadata": {},
   "source": [
    "Here we can see that Features has reduced from 99255 to 68997. Let’s now use Lemmatization. We will use WordNetLemmatizer algorithm —"
   ]
  },
  {
   "cell_type": "code",
   "execution_count": 32,
   "id": "d1b3984d",
   "metadata": {},
   "outputs": [],
   "source": [
    "from nltk.stem import WordNetLemmatizer"
   ]
  },
  {
   "cell_type": "code",
   "execution_count": 33,
   "id": "f783ed9f",
   "metadata": {},
   "outputs": [
    {
     "name": "stderr",
     "output_type": "stream",
     "text": [
      "[nltk_data] Downloading package omw-1.4 to\n",
      "[nltk_data]     C:\\Users\\DELL\\AppData\\Roaming\\nltk_data...\n",
      "[nltk_data]   Package omw-1.4 is already up-to-date!\n"
     ]
    },
    {
     "data": {
      "text/plain": [
       "True"
      ]
     },
     "execution_count": 33,
     "metadata": {},
     "output_type": "execute_result"
    }
   ],
   "source": [
    "import nltk\n",
    "nltk.download('omw-1.4')"
   ]
  },
  {
   "cell_type": "code",
   "execution_count": 34,
   "id": "1dd0f038",
   "metadata": {},
   "outputs": [
    {
     "data": {
      "text/plain": [
       "(50000, 89733)"
      ]
     },
     "execution_count": 34,
     "metadata": {},
     "output_type": "execute_result"
    }
   ],
   "source": [
    "from nltk.stem import WordNetLemmatizer\n",
    "lemma = WordNetLemmatizer()\n",
    "sentences_lemma = [] \n",
    "for texts in sentences: \n",
    "     review1 = [lemma.lemmatize(word) for word in texts.split() if not word in all_stopwords] \n",
    "     sentences_lemma.append(' '.join(review1))\n",
    "\n",
    "#Let's call the Countvectorizer process now \n",
    "count_vector5 = CountVectorizer() \n",
    "feature_names5 = count_vector5.fit(sentences_lemma) \n",
    "feature_vector5 = count_vector5.transform(sentences_lemma)\n",
    "\n",
    "feature_vector5.shape"
   ]
  },
  {
   "cell_type": "markdown",
   "id": "e09e967a",
   "metadata": {},
   "source": [
    "Here, we will be using PorterStemmer for stemming. Maybe you can use Lemmatization instead of PorterStemmer to find out what difference in the result you get! Okay now let’s create a function that will do all these tasks we have seen so far and will give the final result of sentences -"
   ]
  },
  {
   "cell_type": "code",
   "execution_count": 35,
   "id": "09bd6e31",
   "metadata": {},
   "outputs": [],
   "source": [
    "def get_clean_text(df, col):\n",
    "    sentence = []\n",
    "\n",
    "    for word in df[col][:]:\n",
    "        review = re.sub('[^a-zA-Z]',' ',word)\n",
    "        review = review.lower()\n",
    "        review = review.split()\n",
    "        review = [ps.stem(word) for word in review if not word in all_stopwords]\n",
    "        review = ' '.join(review)\n",
    "        sentence.append(review)\n",
    "\n",
    "    return sentence\n",
    "\n",
    "df['clean_text'] = get_clean_text(df, 'review')"
   ]
  },
  {
   "cell_type": "code",
   "execution_count": 36,
   "id": "7e5e0375",
   "metadata": {},
   "outputs": [],
   "source": [
    "df = df.head(10000)"
   ]
  },
  {
   "cell_type": "code",
   "execution_count": 37,
   "id": "cfc7bcd0",
   "metadata": {},
   "outputs": [],
   "source": [
    "#Now we need to vectorize it. We will do it in the same way, that is using countvectorizer -\n",
    "cv = CountVectorizer()\n",
    "features = cv.fit_transform(df['clean_text'])"
   ]
  },
  {
   "cell_type": "markdown",
   "id": "8f557b2c",
   "metadata": {},
   "source": [
    "### Classification"
   ]
  },
  {
   "cell_type": "markdown",
   "id": "7bb42c24",
   "metadata": {},
   "source": [
    "Let’s split the dataset and now we will use classification to do the sentiment analysis. We are using Naive Bayes Classification here -"
   ]
  },
  {
   "cell_type": "code",
   "execution_count": 38,
   "id": "f9aabb64",
   "metadata": {},
   "outputs": [],
   "source": [
    "#splitting the dataset into train and test\n",
    "x = features.toarray()\n",
    "y = df['sentiment']\n",
    "from sklearn.model_selection import train_test_split\n",
    "x_train, x_test, y_train, y_test = train_test_split(x, y, test_size = 0.20, random_state = 42)"
   ]
  },
  {
   "cell_type": "markdown",
   "id": "c4baf01e",
   "metadata": {},
   "source": [
    "### Model training"
   ]
  },
  {
   "cell_type": "markdown",
   "id": "d4d1ab5e",
   "metadata": {},
   "source": [
    "We will build two types of Naive Bayes classifier and compare the accuracy. First is the GaussianNB -"
   ]
  },
  {
   "cell_type": "code",
   "execution_count": 39,
   "id": "68f847e8",
   "metadata": {},
   "outputs": [
    {
     "data": {
      "text/plain": [
       "GaussianNB()"
      ]
     },
     "execution_count": 39,
     "metadata": {},
     "output_type": "execute_result"
    }
   ],
   "source": [
    "from sklearn.naive_bayes import GaussianNB\n",
    "classifier = GaussianNB()\n",
    "classifier.fit(x_train, y_train)"
   ]
  },
  {
   "cell_type": "markdown",
   "id": "bb3804c8",
   "metadata": {},
   "source": [
    "### Model Validating"
   ]
  },
  {
   "cell_type": "markdown",
   "id": "6ac47d36",
   "metadata": {},
   "source": [
    "Our model is trained. Now lets do the prediction"
   ]
  },
  {
   "cell_type": "code",
   "execution_count": 40,
   "id": "fb1d12cd",
   "metadata": {},
   "outputs": [],
   "source": [
    "y_pred = classifier.predict(x_test)"
   ]
  },
  {
   "cell_type": "markdown",
   "id": "bd8f8a40",
   "metadata": {},
   "source": [
    "Okay! Let’s check for accuracy now -"
   ]
  },
  {
   "cell_type": "code",
   "execution_count": 41,
   "id": "19021960",
   "metadata": {},
   "outputs": [
    {
     "name": "stdout",
     "output_type": "stream",
     "text": [
      "[[746 250]\n",
      " [530 474]]\n"
     ]
    }
   ],
   "source": [
    "from sklearn.metrics import confusion_matrix, accuracy_score\n",
    "cm = confusion_matrix(y_test, y_pred)\n",
    "print(cm)"
   ]
  },
  {
   "cell_type": "code",
   "execution_count": 42,
   "id": "965f80db",
   "metadata": {},
   "outputs": [
    {
     "data": {
      "text/plain": [
       "0.61"
      ]
     },
     "execution_count": 42,
     "metadata": {},
     "output_type": "execute_result"
    }
   ],
   "source": [
    "round(accuracy_score(y_test, y_pred), 3)"
   ]
  },
  {
   "cell_type": "markdown",
   "id": "1d18db45",
   "metadata": {},
   "source": [
    "There are 530 False Negatives, which is not that good as a result! Accuracy of our model is quiet low. This maybe the result of some bizzare comments presence. Let’s check the training set accuracy to check for overfitting —"
   ]
  },
  {
   "cell_type": "code",
   "execution_count": 43,
   "id": "cc34ec4f",
   "metadata": {},
   "outputs": [
    {
     "data": {
      "text/plain": [
       "0.895"
      ]
     },
     "execution_count": 43,
     "metadata": {},
     "output_type": "execute_result"
    }
   ],
   "source": [
    "y_pred_train = classifier.predict(x_train)\n",
    "round(accuracy_score(y_train, y_pred_train), 3)"
   ]
  },
  {
   "cell_type": "markdown",
   "id": "d80e47ec",
   "metadata": {},
   "source": [
    "Clearly, the model is way too overfitted. Now let’s apply another NB classification model before working around data -"
   ]
  },
  {
   "cell_type": "code",
   "execution_count": 44,
   "id": "f06e577d",
   "metadata": {},
   "outputs": [
    {
     "data": {
      "text/plain": [
       "<AxesSubplot:>"
      ]
     },
     "execution_count": 44,
     "metadata": {},
     "output_type": "execute_result"
    },
    {
     "data": {
      "image/png": "[encoded data removed]",
      "text/plain": [
       "<Figure size 640x480 with 2 Axes>"
      ]
     },
     "metadata": {},
     "output_type": "display_data"
    }
   ],
   "source": [
    "from sklearn.naive_bayes import BernoulliNB\n",
    "\n",
    "classifier2 = BernoulliNB()\n",
    "classifier2.fit(x_train, y_train)\n",
    "\n",
    "y_pred2 = classifier2.predict(x_test)\n",
    "cm = confusion_matrix(y_test, y_pred2)\n",
    "sns.heatmap(cm, annot = True, fmt='.2f')"
   ]
  },
  {
   "cell_type": "markdown",
   "id": "ed2180e2",
   "metadata": {},
   "source": [
    "Rows are showing the actual labels from the data and the Columns are showing the predicted labels. From this, we can see that there are 153 positive statements that are wrongly classified as negative which is False Negative. There are 127 negative statements that are classified as positives indicating false positives. This shows that BernaulliNB might be a better model for this dataset."
   ]
  },
  {
   "cell_type": "code",
   "execution_count": 45,
   "id": "b6730900",
   "metadata": {},
   "outputs": [
    {
     "data": {
      "text/plain": [
       "0.86"
      ]
     },
     "execution_count": 45,
     "metadata": {},
     "output_type": "execute_result"
    }
   ],
   "source": [
    "round(accuracy_score(y_test, y_pred2), 3)"
   ]
  },
  {
   "cell_type": "markdown",
   "id": "239b4b0d",
   "metadata": {},
   "source": [
    "Test Accuracy has also increased considerablyusing the model! Let’s check for overfitting -"
   ]
  },
  {
   "cell_type": "code",
   "execution_count": 46,
   "id": "b76b527f",
   "metadata": {},
   "outputs": [
    {
     "data": {
      "text/plain": [
       "0.933"
      ]
     },
     "execution_count": 46,
     "metadata": {},
     "output_type": "execute_result"
    }
   ],
   "source": [
    "y_pred_train2 = classifier2.predict(x_train)\n",
    "round(accuracy_score(y_train, y_pred_train2), 3)"
   ]
  },
  {
   "cell_type": "markdown",
   "id": "4bd42615",
   "metadata": {},
   "source": [
    "Still overfitting is there, though much reduced than before. Let’s look into the complete classification report -"
   ]
  },
  {
   "cell_type": "code",
   "execution_count": 47,
   "id": "39afe388",
   "metadata": {},
   "outputs": [
    {
     "name": "stdout",
     "output_type": "stream",
     "text": [
      "              precision    recall  f1-score   support\n",
      "\n",
      "           0       0.85      0.87      0.86       996\n",
      "           1       0.87      0.85      0.86      1004\n",
      "\n",
      "    accuracy                           0.86      2000\n",
      "   macro avg       0.86      0.86      0.86      2000\n",
      "weighted avg       0.86      0.86      0.86      2000\n",
      "\n"
     ]
    }
   ],
   "source": [
    "from sklearn.metrics import classification_report\n",
    "print(classification_report(y_test, y_pred2))"
   ]
  },
  {
   "cell_type": "markdown",
   "id": "125aa12c",
   "metadata": {},
   "source": [
    "Now we can think of some way to increase the accuracy more. What can we do? Let’s try changing the BagOfWord model. We were using CountVectorizer till now, let’s use tf idf vectorizer and see the difference —"
   ]
  },
  {
   "cell_type": "markdown",
   "id": "3dbda4af",
   "metadata": {},
   "source": [
    "## TF-TDF Vectorizer — Bag Of Word Model"
   ]
  },
  {
   "cell_type": "code",
   "execution_count": 48,
   "id": "0468fee5",
   "metadata": {},
   "outputs": [
    {
     "data": {
      "text/plain": [
       "<AxesSubplot:>"
      ]
     },
     "execution_count": 48,
     "metadata": {},
     "output_type": "execute_result"
    },
    {
     "data": {
      "image/png": "[encoded data removed]",
      "text/plain": [
       "<Figure size 640x480 with 2 Axes>"
      ]
     },
     "metadata": {},
     "output_type": "display_data"
    }
   ],
   "source": [
    "from sklearn.feature_extraction.text import TfidfVectorizer\n",
    "tfidf = TfidfVectorizer() \n",
    "features = tfidf.fit_transform(df['clean_text'])\n",
    "x1 = features.toarray()\n",
    "x_train, x_test, y_train, y_test = train_test_split(x1, y, test_size = 0.10, random_state = 42)\n",
    "\n",
    "#Let's use GaussianNB first\n",
    "classifier = GaussianNB() \n",
    "classifier.fit(x_train, y_train)\n",
    "\n",
    "y_pred = classifier.predict(x_test) \n",
    "cm = confusion_matrix(y_test, y_pred)\n",
    "sns.heatmap(cm, annot = True, fmt='.2f')"
   ]
  },
  {
   "cell_type": "code",
   "execution_count": 49,
   "id": "dc6b44a1",
   "metadata": {},
   "outputs": [
    {
     "data": {
      "text/plain": [
       "0.607"
      ]
     },
     "execution_count": 49,
     "metadata": {},
     "output_type": "execute_result"
    }
   ],
   "source": [
    "round(accuracy_score(y_test, y_pred), 3)"
   ]
  },
  {
   "cell_type": "code",
   "execution_count": 50,
   "id": "c7b59167",
   "metadata": {},
   "outputs": [
    {
     "data": {
      "text/plain": [
       "<AxesSubplot:>"
      ]
     },
     "execution_count": 50,
     "metadata": {},
     "output_type": "execute_result"
    },
    {
     "data": {
      "image/png": "[encoded data removed]",
      "text/plain": [
       "<Figure size 640x480 with 2 Axes>"
      ]
     },
     "metadata": {},
     "output_type": "display_data"
    }
   ],
   "source": [
    "#Now using BernaulliNB\n",
    "classifier2 = BernoulliNB()\n",
    "classifier2.fit(x_train, y_train)\n",
    "\n",
    "y_pred2 = classifier2.predict(x_test)\n",
    "cm = confusion_matrix(y_test, y_pred2)\n",
    "sns.heatmap(cm, annot = True, fmt='.2f')"
   ]
  },
  {
   "cell_type": "code",
   "execution_count": 51,
   "id": "0e40c9a4",
   "metadata": {},
   "outputs": [
    {
     "data": {
      "text/plain": [
       "0.845"
      ]
     },
     "execution_count": 51,
     "metadata": {},
     "output_type": "execute_result"
    }
   ],
   "source": [
    "round(accuracy_score(y_test, y_pred2), 3)"
   ]
  },
  {
   "cell_type": "code",
   "execution_count": 52,
   "id": "c45f27ff",
   "metadata": {},
   "outputs": [
    {
     "data": {
      "text/plain": [
       "0.932"
      ]
     },
     "execution_count": 52,
     "metadata": {},
     "output_type": "execute_result"
    }
   ],
   "source": [
    "y_pred_train2 = classifier2.predict(x_train)\n",
    "round(accuracy_score(y_train, y_pred_train2), 3)"
   ]
  },
  {
   "cell_type": "code",
   "execution_count": 53,
   "id": "044e65fc",
   "metadata": {},
   "outputs": [
    {
     "name": "stdout",
     "output_type": "stream",
     "text": [
      "              precision    recall  f1-score   support\n",
      "\n",
      "           0       0.84      0.85      0.85       496\n",
      "           1       0.85      0.84      0.84       504\n",
      "\n",
      "    accuracy                           0.84      1000\n",
      "   macro avg       0.85      0.85      0.84      1000\n",
      "weighted avg       0.85      0.84      0.84      1000\n",
      "\n"
     ]
    }
   ],
   "source": [
    "print(classification_report(y_test, y_pred2))"
   ]
  },
  {
   "cell_type": "markdown",
   "id": "4127fc14",
   "metadata": {},
   "source": [
    "Thus we see that the BernoulliNB model is best to use and not the Gaussian for this dataset. Also, model performance is not significantly changed with the change in the type of vectorization. Hence we will use some other form of word vectorization now other than BogOfWords and see the change.\n",
    "\n",
    "BoW model ignores the sentence structure or the word sequences in a sentence. n-grams model takes care of that. The meaning of the words may change depending on the words it is preceding or succeeding. For example, in the sentence ‘I am not happy’ this not happy should be considered as one unit instead of two separate words. n-gram takes care of this fact and is a contiguous sequence of n words. When two consecutive words are treated as one unit, it is called bigram, for three consecutive words it is called trigram, and so on. Let’s use n-grams now —"
   ]
  },
  {
   "cell_type": "markdown",
   "id": "07f88e48",
   "metadata": {},
   "source": [
    "## N-Grams — Bag Of Word Model"
   ]
  },
  {
   "cell_type": "code",
   "execution_count": 54,
   "id": "c9e19c27",
   "metadata": {},
   "outputs": [
    {
     "data": {
      "text/plain": [
       "<AxesSubplot:>"
      ]
     },
     "execution_count": 54,
     "metadata": {},
     "output_type": "execute_result"
    },
    {
     "data": {
      "image/png": "[encoded data removed]",
      "text/plain": [
       "<Figure size 640x480 with 2 Axes>"
      ]
     },
     "metadata": {},
     "output_type": "display_data"
    }
   ],
   "source": [
    "tfidf2 = TfidfVectorizer(ngram_range=(1,2), max_features=5000)\n",
    "feature2 = tfidf2.fit_transform(df['clean_text'])\n",
    "\n",
    "x = feature2.toarray()\n",
    "x_train, x_test, y_train, y_test = train_test_split(x, y, test_size = 0.10, random_state = 42)\n",
    "\n",
    "#using bernaulli since its performing best \n",
    "#Now using BernaulliNB \n",
    "\n",
    "classifier = BernoulliNB() \n",
    "classifier.fit(x_train, y_train) \n",
    "y_pred = classifier.predict(x_test) \n",
    "cm = confusion_matrix(y_test, y_pred) \n",
    "sns.heatmap(cm, annot = True, fmt='.2f')"
   ]
  },
  {
   "cell_type": "markdown",
   "id": "87b0b39e",
   "metadata": {},
   "source": [
    "On the way you can see the number of reductions in False Positives and False Negatives"
   ]
  },
  {
   "cell_type": "code",
   "execution_count": 55,
   "id": "aff07e3f",
   "metadata": {},
   "outputs": [
    {
     "data": {
      "text/plain": [
       "0.846"
      ]
     },
     "execution_count": 55,
     "metadata": {},
     "output_type": "execute_result"
    }
   ],
   "source": [
    "accuracy_score(y_test, y_pred)"
   ]
  },
  {
   "cell_type": "code",
   "execution_count": 56,
   "id": "86450f88",
   "metadata": {},
   "outputs": [
    {
     "name": "stdout",
     "output_type": "stream",
     "text": [
      "              precision    recall  f1-score   support\n",
      "\n",
      "           0       0.87      0.81      0.84       496\n",
      "           1       0.82      0.88      0.85       504\n",
      "\n",
      "    accuracy                           0.85      1000\n",
      "   macro avg       0.85      0.85      0.85      1000\n",
      "weighted avg       0.85      0.85      0.85      1000\n",
      "\n"
     ]
    }
   ],
   "source": [
    "print(classification_report(y_test, y_pred))"
   ]
  },
  {
   "cell_type": "markdown",
   "id": "0803613f",
   "metadata": {},
   "source": [
    "After changing the vectorizer type and using Bernaulli, we are able to achieve 84.6% accuracy. We jumped from 61% accuracy to 82.4% accuracy. There might be a bit of overfitting. So let’s try to clean up the dataset first -"
   ]
  },
  {
   "cell_type": "code",
   "execution_count": 57,
   "id": "f56df4bf",
   "metadata": {},
   "outputs": [
    {
     "data": {
      "text/html": [
       "<div>\n",
       "<style scoped>\n",
       "    .dataframe tbody tr th:only-of-type {\n",
       "        vertical-align: middle;\n",
       "    }\n",
       "\n",
       "    .dataframe tbody tr th {\n",
       "        vertical-align: top;\n",
       "    }\n",
       "\n",
       "    .dataframe thead th {\n",
       "        text-align: right;\n",
       "    }\n",
       "</style>\n",
       "<table border=\"1\" class=\"dataframe\">\n",
       "  <thead>\n",
       "    <tr style=\"text-align: right;\">\n",
       "      <th></th>\n",
       "      <th>review</th>\n",
       "      <th>sentiment</th>\n",
       "      <th>clean_text</th>\n",
       "    </tr>\n",
       "  </thead>\n",
       "  <tbody>\n",
       "    <tr>\n",
       "      <th>0</th>\n",
       "      <td>One of the other reviewers has mentioned that ...</td>\n",
       "      <td>1</td>\n",
       "      <td>one review mention watch oz episod hook right ...</td>\n",
       "    </tr>\n",
       "    <tr>\n",
       "      <th>1</th>\n",
       "      <td>A wonderful little production. &lt;br /&gt;&lt;br /&gt;The...</td>\n",
       "      <td>1</td>\n",
       "      <td>wonder littl product br br film techniqu unass...</td>\n",
       "    </tr>\n",
       "    <tr>\n",
       "      <th>2</th>\n",
       "      <td>I thought this was a wonderful way to spend ti...</td>\n",
       "      <td>1</td>\n",
       "      <td>thought wonder way spend time hot summer weeke...</td>\n",
       "    </tr>\n",
       "    <tr>\n",
       "      <th>3</th>\n",
       "      <td>Basically there's a family where a little boy ...</td>\n",
       "      <td>0</td>\n",
       "      <td>basic famili littl boy jake think zombi closet...</td>\n",
       "    </tr>\n",
       "    <tr>\n",
       "      <th>4</th>\n",
       "      <td>Petter Mattei's \"Love in the Time of Money\" is...</td>\n",
       "      <td>1</td>\n",
       "      <td>petter mattei love time money visual stun film...</td>\n",
       "    </tr>\n",
       "  </tbody>\n",
       "</table>\n",
       "</div>"
      ],
      "text/plain": [
       "                                              review  sentiment  \\\n",
       "0  One of the other reviewers has mentioned that ...          1   \n",
       "1  A wonderful little production. <br /><br />The...          1   \n",
       "2  I thought this was a wonderful way to spend ti...          1   \n",
       "3  Basically there's a family where a little boy ...          0   \n",
       "4  Petter Mattei's \"Love in the Time of Money\" is...          1   \n",
       "\n",
       "                                          clean_text  \n",
       "0  one review mention watch oz episod hook right ...  \n",
       "1  wonder littl product br br film techniqu unass...  \n",
       "2  thought wonder way spend time hot summer weeke...  \n",
       "3  basic famili littl boy jake think zombi closet...  \n",
       "4  petter mattei love time money visual stun film...  "
      ]
     },
     "execution_count": 57,
     "metadata": {},
     "output_type": "execute_result"
    }
   ],
   "source": [
    "#removing the words of 1 letter or 0 letter \n",
    "sentences_clean = [] \n",
    "for listed in df['clean_text'].str.split(' '): \n",
    "     review = [word for word in listed if len(word) != 1 and len(word) != 0] \n",
    "     review = ' '.join(review) \n",
    "     sentences_clean.append(review)\n",
    "\n",
    "#removing all same letters from string \n",
    "def allCharactersSame(s) : \n",
    "     n = len(s) \n",
    "     for i in range(1, n) : \n",
    "         if s[i] != s[0] : \n",
    "             return False\n",
    "         return True \n",
    "\n",
    "cleaned = []\n",
    "for sentences in sentences_clean: \n",
    "     word_list = [] \n",
    "     for word in sentences.split(' '): \n",
    "         if allCharactersSame(word): \n",
    "             pass \n",
    "         else: \n",
    "             word_list.append(word) \n",
    "     word_list = ' '.join(word_list) \n",
    "     cleaned.append(word_list)\n",
    "\n",
    "df['clean_text'] = cleaned\n",
    "df.head()"
   ]
  },
  {
   "cell_type": "markdown",
   "id": "2596e4b2",
   "metadata": {},
   "source": [
    "Now let’s perform vectorizer and classifiers —"
   ]
  },
  {
   "cell_type": "code",
   "execution_count": 58,
   "id": "92fc5fb0",
   "metadata": {},
   "outputs": [
    {
     "data": {
      "text/plain": [
       "<AxesSubplot:>"
      ]
     },
     "execution_count": 58,
     "metadata": {},
     "output_type": "execute_result"
    },
    {
     "data": {
      "image/png": "[encoded data removed]",
      "text/plain": [
       "<Figure size 640x480 with 2 Axes>"
      ]
     },
     "metadata": {},
     "output_type": "display_data"
    }
   ],
   "source": [
    "tfidf = TfidfVectorizer(ngram_range=(1,2), max_features=10000)\n",
    "feature = tfidf.fit_transform(df['clean_text'])\n",
    "x = feature.toarray()\n",
    "x_train, x_test, y_train, y_test = train_test_split(x, y, test_size = 0.10, random_state = 42)\n",
    "\n",
    "#using bernaulli since its performing best\n",
    "#Now using BernaulliNB\n",
    "classifier = BernoulliNB()\n",
    "classifier.fit(x_train, y_train)\n",
    "\n",
    "y_pred = classifier.predict(x_test)\n",
    "cm = confusion_matrix(y_test, y_pred)\n",
    "sns.heatmap(cm, annot = True, fmt='.2f')"
   ]
  },
  {
   "cell_type": "code",
   "execution_count": 59,
   "id": "6bcf3b1b",
   "metadata": {},
   "outputs": [
    {
     "data": {
      "text/plain": [
       "0.857"
      ]
     },
     "execution_count": 59,
     "metadata": {},
     "output_type": "execute_result"
    }
   ],
   "source": [
    "accuracy_score(y_test, y_pred)"
   ]
  },
  {
   "cell_type": "code",
   "execution_count": 60,
   "id": "685a8fd3",
   "metadata": {},
   "outputs": [
    {
     "data": {
      "text/plain": [
       "0.8976666666666666"
      ]
     },
     "execution_count": 60,
     "metadata": {},
     "output_type": "execute_result"
    }
   ],
   "source": [
    "y_pred1 = classifier.predict(x_train) \n",
    "#training accuracy calculation\n",
    "accuracy_score(y_train, y_pred1)"
   ]
  },
  {
   "cell_type": "code",
   "execution_count": 61,
   "id": "88456dc6",
   "metadata": {},
   "outputs": [
    {
     "data": {
      "text/plain": [
       "0.854"
      ]
     },
     "execution_count": 61,
     "metadata": {},
     "output_type": "execute_result"
    }
   ],
   "source": [
    "#Lets try running on Multinomial on Naive Bayes\n",
    "from sklearn.naive_bayes import MultinomialNB\n",
    "nb = MultinomialNB()\n",
    "nb.fit(x_train, y_train)\n",
    "pred_mnb = nb.predict(x_test)\n",
    "accuracy_score(y_test, pred_mnb)"
   ]
  },
  {
   "cell_type": "markdown",
   "id": "489b074b",
   "metadata": {},
   "source": [
    "### Conclusion"
   ]
  },
  {
   "cell_type": "markdown",
   "id": "b218aacd",
   "metadata": {},
   "source": [
    "As we can see after trying out all the methods, we came up with 85.7% accuracy and the accuracy out of training data is 89.7%. This shows there is a little bit of overfitting is still there in the model. We can try GridSearchCV to get the best parameter for the model. But I will continue with the accuracy of 85.7% which is quiet good looking into the training accuracy we are getting."
   ]
  }
 ],
 "metadata": {
  "kernelspec": {
   "display_name": "Python 3 (ipykernel)",
   "language": "python",
   "name": "python3"
  },
  "language_info": {
   "codemirror_mode": {
    "name": "ipython",
    "version": 3
   },
   "file_extension": ".py",
   "mimetype": "text/x-python",
   "name": "python",
   "nbconvert_exporter": "python",
   "pygments_lexer": "ipython3",
   "version": "3.11.5"
  }
 },
 "nbformat": 4,
 "nbformat_minor": 5
}
